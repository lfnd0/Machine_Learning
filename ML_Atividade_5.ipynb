{
  "nbformat": 4,
  "nbformat_minor": 0,
  "metadata": {
    "colab": {
      "name": "ML_Atividade_5.ipynb",
      "provenance": [],
      "collapsed_sections": [],
      "authorship_tag": "ABX9TyNkRWlZsbb2v1e+JATToqgQ",
      "include_colab_link": true
    },
    "kernelspec": {
      "name": "python3",
      "display_name": "Python 3"
    }
  },
  "cells": [
    {
      "cell_type": "markdown",
      "metadata": {
        "id": "view-in-github",
        "colab_type": "text"
      },
      "source": [
        "<a href=\"https://colab.research.google.com/github/lfnd0/Machine_Learning/blob/master/ML_Atividade_5.ipynb\" target=\"_parent\"><img src=\"https://colab.research.google.com/assets/colab-badge.svg\" alt=\"Open In Colab\"/></a>"
      ]
    },
    {
      "cell_type": "markdown",
      "metadata": {
        "id": "vchtzOOr7JdN"
      },
      "source": [
        "# Regressão linear com dados de aluguéis de bicicletas em Londres\n",
        "\n",
        "> Dataset: [London bike sharing datase](https://www.kaggle.com/hmavrodiev/london-bike-sharing-dataset)\n",
        "<br>\n",
        "> Período: 2015 - 2017"
      ]
    },
    {
      "cell_type": "markdown",
      "metadata": {
        "id": "-zZ0wCpeMpHV"
      },
      "source": [
        "## 1. Leitura dos dados e análise preliminar"
      ]
    },
    {
      "cell_type": "markdown",
      "metadata": {
        "id": "zxDwL_ONm5Wo"
      },
      "source": [
        "### 1.1 Colunas do dataset"
      ]
    },
    {
      "cell_type": "markdown",
      "metadata": {
        "id": "UWskq4C1qL28"
      },
      "source": [
        "*   *timestamp* - Horário do aluguel\n",
        "*   *cnt* - Quantidade de bicicletas alugadas\n",
        "*   *t1* - Temperatura real\n",
        "*   *t2* - Sensação térmica\n",
        "*   *hum* - Humidade do ar\n",
        "*   *wind_speed* - Velocidade do vento\n",
        "*   *weather_code* - Aparência do tempo\n",
        "*   *is_holiday* - Feriado\n",
        "*   *is_weekend* - Final de semana\n",
        "*   *season* - Estação do ano"
      ]
    },
    {
      "cell_type": "markdown",
      "metadata": {
        "id": "MJo52cnBqQH4"
      },
      "source": [
        "### 1.2 Leitura dos dados"
      ]
    },
    {
      "cell_type": "code",
      "metadata": {
        "id": "OC1oa47RPyfb"
      },
      "source": [
        "from google.colab import drive\n",
        "\n",
        "from sklearn.model_selection import train_test_split\n",
        "from sklearn.linear_model import LinearRegression\n",
        "from sklearn.tree import DecisionTreeRegressor\n",
        "from sklearn.ensemble import RandomForestRegressor\n",
        "from sklearn.neural_network import MLPRegressor\n",
        "from sklearn.metrics import mean_absolute_error\n",
        "from sklearn.metrics import mean_squared_error\n",
        "\n",
        "import pandas as pd\n",
        "import matplotlib.pyplot as plt\n",
        "import seaborn as sns"
      ],
      "execution_count": 2,
      "outputs": []
    },
    {
      "cell_type": "code",
      "metadata": {
        "id": "Ro4nBW7YP-lD",
        "outputId": "eb4d23a3-c396-4d78-ec2d-f9540107b70b",
        "colab": {
          "base_uri": "https://localhost:8080/",
          "height": 34
        }
      },
      "source": [
        "drive.mount('/content/drive/')"
      ],
      "execution_count": 104,
      "outputs": [
        {
          "output_type": "stream",
          "text": [
            "Drive already mounted at /content/drive/; to attempt to forcibly remount, call drive.mount(\"/content/drive/\", force_remount=True).\n"
          ],
          "name": "stdout"
        }
      ]
    },
    {
      "cell_type": "code",
      "metadata": {
        "id": "gVtJCfjJQG1J",
        "outputId": "f9dcb42a-7053-4ebe-b1f2-70f026c6ab43",
        "colab": {
          "base_uri": "https://localhost:8080/",
          "height": 204
        }
      },
      "source": [
        "data = pd.read_csv('/content/drive/My Drive/Machine_Learning/Datasets/Atividade_5/londres_alugueis_bicicleta.csv')\n",
        "data.head()"
      ],
      "execution_count": 105,
      "outputs": [
        {
          "output_type": "execute_result",
          "data": {
            "text/html": [
              "<div>\n",
              "<style scoped>\n",
              "    .dataframe tbody tr th:only-of-type {\n",
              "        vertical-align: middle;\n",
              "    }\n",
              "\n",
              "    .dataframe tbody tr th {\n",
              "        vertical-align: top;\n",
              "    }\n",
              "\n",
              "    .dataframe thead th {\n",
              "        text-align: right;\n",
              "    }\n",
              "</style>\n",
              "<table border=\"1\" class=\"dataframe\">\n",
              "  <thead>\n",
              "    <tr style=\"text-align: right;\">\n",
              "      <th></th>\n",
              "      <th>timestamp</th>\n",
              "      <th>cnt</th>\n",
              "      <th>t1</th>\n",
              "      <th>t2</th>\n",
              "      <th>hum</th>\n",
              "      <th>wind_speed</th>\n",
              "      <th>weather_code</th>\n",
              "      <th>is_holiday</th>\n",
              "      <th>is_weekend</th>\n",
              "      <th>season</th>\n",
              "    </tr>\n",
              "  </thead>\n",
              "  <tbody>\n",
              "    <tr>\n",
              "      <th>0</th>\n",
              "      <td>2015-01-04 00:00:00</td>\n",
              "      <td>182</td>\n",
              "      <td>3.0</td>\n",
              "      <td>2.0</td>\n",
              "      <td>93.0</td>\n",
              "      <td>6.0</td>\n",
              "      <td>3.0</td>\n",
              "      <td>0.0</td>\n",
              "      <td>1.0</td>\n",
              "      <td>3.0</td>\n",
              "    </tr>\n",
              "    <tr>\n",
              "      <th>1</th>\n",
              "      <td>2015-01-04 01:00:00</td>\n",
              "      <td>138</td>\n",
              "      <td>3.0</td>\n",
              "      <td>2.5</td>\n",
              "      <td>93.0</td>\n",
              "      <td>5.0</td>\n",
              "      <td>1.0</td>\n",
              "      <td>0.0</td>\n",
              "      <td>1.0</td>\n",
              "      <td>3.0</td>\n",
              "    </tr>\n",
              "    <tr>\n",
              "      <th>2</th>\n",
              "      <td>2015-01-04 02:00:00</td>\n",
              "      <td>134</td>\n",
              "      <td>2.5</td>\n",
              "      <td>2.5</td>\n",
              "      <td>96.5</td>\n",
              "      <td>0.0</td>\n",
              "      <td>1.0</td>\n",
              "      <td>0.0</td>\n",
              "      <td>1.0</td>\n",
              "      <td>3.0</td>\n",
              "    </tr>\n",
              "    <tr>\n",
              "      <th>3</th>\n",
              "      <td>2015-01-04 03:00:00</td>\n",
              "      <td>72</td>\n",
              "      <td>2.0</td>\n",
              "      <td>2.0</td>\n",
              "      <td>100.0</td>\n",
              "      <td>0.0</td>\n",
              "      <td>1.0</td>\n",
              "      <td>0.0</td>\n",
              "      <td>1.0</td>\n",
              "      <td>3.0</td>\n",
              "    </tr>\n",
              "    <tr>\n",
              "      <th>4</th>\n",
              "      <td>2015-01-04 04:00:00</td>\n",
              "      <td>47</td>\n",
              "      <td>2.0</td>\n",
              "      <td>0.0</td>\n",
              "      <td>93.0</td>\n",
              "      <td>6.5</td>\n",
              "      <td>1.0</td>\n",
              "      <td>0.0</td>\n",
              "      <td>1.0</td>\n",
              "      <td>3.0</td>\n",
              "    </tr>\n",
              "  </tbody>\n",
              "</table>\n",
              "</div>"
            ],
            "text/plain": [
              "             timestamp  cnt   t1  ...  is_holiday  is_weekend  season\n",
              "0  2015-01-04 00:00:00  182  3.0  ...         0.0         1.0     3.0\n",
              "1  2015-01-04 01:00:00  138  3.0  ...         0.0         1.0     3.0\n",
              "2  2015-01-04 02:00:00  134  2.5  ...         0.0         1.0     3.0\n",
              "3  2015-01-04 03:00:00   72  2.0  ...         0.0         1.0     3.0\n",
              "4  2015-01-04 04:00:00   47  2.0  ...         0.0         1.0     3.0\n",
              "\n",
              "[5 rows x 10 columns]"
            ]
          },
          "metadata": {
            "tags": []
          },
          "execution_count": 105
        }
      ]
    },
    {
      "cell_type": "markdown",
      "metadata": {
        "id": "-B0adg9msbNQ"
      },
      "source": [
        "### 1.3 Análise preliminar dos dados"
      ]
    },
    {
      "cell_type": "markdown",
      "metadata": {
        "id": "XnujKjlOskfP"
      },
      "source": [
        "#### Quantidade dos alugueis por horário"
      ]
    },
    {
      "cell_type": "code",
      "metadata": {
        "id": "dlXVbCB9sggY",
        "outputId": "708c0d18-f06a-4c2f-cb0d-190237d2227d",
        "colab": {
          "base_uri": "https://localhost:8080/",
          "height": 295
        }
      },
      "source": [
        "plt.plot(data.cnt)\n",
        "plt.title('Quantidade de aluguéis por horário')\n",
        "plt.xlabel('Horários')\n",
        "plt.ylabel('Quantidade de aluguéis')\n",
        "plt.show()"
      ],
      "execution_count": 106,
      "outputs": [
        {
          "output_type": "display_data",
          "data": {
            "image/png": "[encoded data removed]",
            "text/plain": [
              "<Figure size 432x288 with 1 Axes>"
            ]
          },
          "metadata": {
            "tags": [],
            "needs_background": "light"
          }
        }
      ]
    },
    {
      "cell_type": "markdown",
      "metadata": {
        "id": "pdmfo65Xwovd"
      },
      "source": [
        "#### Distribuição de probabilidades para o aluguel de bicicletas"
      ]
    },
    {
      "cell_type": "code",
      "metadata": {
        "id": "VSlN1QrXwyHi",
        "outputId": "f1038db0-3485-4be8-a126-392b307d67b9",
        "colab": {
          "base_uri": "https://localhost:8080/",
          "height": 350
        }
      },
      "source": [
        "sns.distplot(data.cnt, hist=False, rug=False)\n",
        "plt.title('Distribuição de probabilidades para o aluguel de bicicletas')\n",
        "plt.xlabel('Quantidade de aluguéis')\n",
        "plt.ylabel('Probabilidades')\n",
        "plt.show()"
      ],
      "execution_count": 107,
      "outputs": [
        {
          "output_type": "stream",
          "text": [
            "/usr/local/lib/python3.6/dist-packages/seaborn/distributions.py:2551: FutureWarning: `distplot` is a deprecated function and will be removed in a future version. Please adapt your code to use either `displot` (a figure-level function with similar flexibility) or `kdeplot` (an axes-level function for kernel density plots).\n",
            "  warnings.warn(msg, FutureWarning)\n"
          ],
          "name": "stderr"
        },
        {
          "output_type": "display_data",
          "data": {
            "image/png": "[encoded data removed]",
            "text/plain": [
              "<Figure size 432x288 with 1 Axes>"
            ]
          },
          "metadata": {
            "tags": [],
            "needs_background": "light"
          }
        }
      ]
    },
    {
      "cell_type": "markdown",
      "metadata": {
        "id": "0XHWxqUqzCsA"
      },
      "source": [
        "#### Frequência média por estação do ano\n"
      ]
    },
    {
      "cell_type": "code",
      "metadata": {
        "id": "P09JY66UzLPX",
        "outputId": "00dbf7e3-4a1b-49e9-8784-09260a0b68f7",
        "colab": {
          "base_uri": "https://localhost:8080/",
          "height": 281
        }
      },
      "source": [
        "plt.title('Frequência média por estação do ano')\n",
        "indice = ['Privamera', 'Verão','Outono','Inverno']\n",
        "stats = data.groupby(['season'], as_index=False)['cnt'].agg(['mean', 'std'])\n",
        "plt.bar(indice, stats['mean'], yerr=stats['std'])\n",
        "plt.show()"
      ],
      "execution_count": 108,
      "outputs": [
        {
          "output_type": "display_data",
          "data": {
            "image/png": "[encoded data removed]",
            "text/plain": [
              "<Figure size 432x288 with 1 Axes>"
            ]
          },
          "metadata": {
            "tags": [],
            "needs_background": "light"
          }
        }
      ]
    },
    {
      "cell_type": "markdown",
      "metadata": {
        "id": "IiGtq9764Qzs"
      },
      "source": [
        "#### Correlação entre a sensação térmica e a quantidade de aluguéis"
      ]
    },
    {
      "cell_type": "code",
      "metadata": {
        "id": "nNykyuz84V9A",
        "outputId": "d4ed6480-0485-4846-ad49-6e06ab7d9fde",
        "colab": {
          "base_uri": "https://localhost:8080/",
          "height": 295
        }
      },
      "source": [
        "plt.title('Correlação entre a sensação térmica e a quantidade de aluguéis')\n",
        "plt.scatter(data.t2, data.cnt)\n",
        "plt.xlabel('Temperatura')\n",
        "plt.ylabel('Quantidade de aluguéis')\n",
        "plt.show()"
      ],
      "execution_count": 109,
      "outputs": [
        {
          "output_type": "display_data",
          "data": {
            "image/png": "[encoded data removed]",
            "text/plain": [
              "<Figure size 432x288 with 1 Axes>"
            ]
          },
          "metadata": {
            "tags": [],
            "needs_background": "light"
          }
        }
      ]
    },
    {
      "cell_type": "markdown",
      "metadata": {
        "id": "dhjKCngD5alt"
      },
      "source": [
        "#### Correlação entre a velocidade do vento e a quantidade de aluguéis"
      ]
    },
    {
      "cell_type": "code",
      "metadata": {
        "id": "IOAe2_9f5ZmT",
        "outputId": "f2ac4556-b2ae-459b-ed12-a2ce2648e010",
        "colab": {
          "base_uri": "https://localhost:8080/",
          "height": 295
        }
      },
      "source": [
        "plt.title('Correlação entre a velocidade do vento e a quantidade de aluguéis')\n",
        "plt.scatter(data.wind_speed, data.cnt)\n",
        "plt.xlabel('Velocidade do vento')\n",
        "plt.ylabel('Quantidade de aluguéis')\n",
        "plt.show()"
      ],
      "execution_count": 110,
      "outputs": [
        {
          "output_type": "display_data",
          "data": {
            "image/png": "[encoded data removed]",
            "text/plain": [
              "<Figure size 432x288 with 1 Axes>"
            ]
          },
          "metadata": {
            "tags": [],
            "needs_background": "light"
          }
        }
      ]
    },
    {
      "cell_type": "markdown",
      "metadata": {
        "id": "3TrAPP9p5ZSw"
      },
      "source": [
        "#### Coeficiente de correlação com *heatmap*"
      ]
    },
    {
      "cell_type": "code",
      "metadata": {
        "id": "FbFpkIjQ6O0_",
        "outputId": "5b045cf5-7cf3-4f40-8ebb-2e1e5635bc92",
        "colab": {
          "base_uri": "https://localhost:8080/",
          "height": 329
        }
      },
      "source": [
        "result = data.corr()\n",
        "sns.heatmap(result, vmin=-1, vmax=1, center=0, cmap=sns.diverging_palette(240, 10, n=9))\n",
        "plt.show()"
      ],
      "execution_count": 111,
      "outputs": [
        {
          "output_type": "display_data",
          "data": {
            "image/png": "[encoded data removed]",
            "text/plain": [
              "<Figure size 432x288 with 2 Axes>"
            ]
          },
          "metadata": {
            "tags": [],
            "needs_background": "light"
          }
        }
      ]
    },
    {
      "cell_type": "markdown",
      "metadata": {
        "id": "qnhus97S-bgS"
      },
      "source": [
        "## 2. Limpeza, re-escala dos dados e organização para modelagem"
      ]
    },
    {
      "cell_type": "markdown",
      "metadata": {
        "id": "MhzTAW17_a39"
      },
      "source": [
        "### 2.1 Limpeza e remoção da coluna 'timestamp'"
      ]
    },
    {
      "cell_type": "code",
      "metadata": {
        "id": "Px4V7vk_AZom",
        "outputId": "32ec9967-746e-4aa9-e572-0d93a8c65e2b",
        "colab": {
          "base_uri": "https://localhost:8080/",
          "height": 204
        }
      },
      "source": [
        "data = data.dropna()\n",
        "data = data.drop(columns = ['timestamp'])\n",
        "data.head()"
      ],
      "execution_count": 112,
      "outputs": [
        {
          "output_type": "execute_result",
          "data": {
            "text/html": [
              "<div>\n",
              "<style scoped>\n",
              "    .dataframe tbody tr th:only-of-type {\n",
              "        vertical-align: middle;\n",
              "    }\n",
              "\n",
              "    .dataframe tbody tr th {\n",
              "        vertical-align: top;\n",
              "    }\n",
              "\n",
              "    .dataframe thead th {\n",
              "        text-align: right;\n",
              "    }\n",
              "</style>\n",
              "<table border=\"1\" class=\"dataframe\">\n",
              "  <thead>\n",
              "    <tr style=\"text-align: right;\">\n",
              "      <th></th>\n",
              "      <th>cnt</th>\n",
              "      <th>t1</th>\n",
              "      <th>t2</th>\n",
              "      <th>hum</th>\n",
              "      <th>wind_speed</th>\n",
              "      <th>weather_code</th>\n",
              "      <th>is_holiday</th>\n",
              "      <th>is_weekend</th>\n",
              "      <th>season</th>\n",
              "    </tr>\n",
              "  </thead>\n",
              "  <tbody>\n",
              "    <tr>\n",
              "      <th>0</th>\n",
              "      <td>182</td>\n",
              "      <td>3.0</td>\n",
              "      <td>2.0</td>\n",
              "      <td>93.0</td>\n",
              "      <td>6.0</td>\n",
              "      <td>3.0</td>\n",
              "      <td>0.0</td>\n",
              "      <td>1.0</td>\n",
              "      <td>3.0</td>\n",
              "    </tr>\n",
              "    <tr>\n",
              "      <th>1</th>\n",
              "      <td>138</td>\n",
              "      <td>3.0</td>\n",
              "      <td>2.5</td>\n",
              "      <td>93.0</td>\n",
              "      <td>5.0</td>\n",
              "      <td>1.0</td>\n",
              "      <td>0.0</td>\n",
              "      <td>1.0</td>\n",
              "      <td>3.0</td>\n",
              "    </tr>\n",
              "    <tr>\n",
              "      <th>2</th>\n",
              "      <td>134</td>\n",
              "      <td>2.5</td>\n",
              "      <td>2.5</td>\n",
              "      <td>96.5</td>\n",
              "      <td>0.0</td>\n",
              "      <td>1.0</td>\n",
              "      <td>0.0</td>\n",
              "      <td>1.0</td>\n",
              "      <td>3.0</td>\n",
              "    </tr>\n",
              "    <tr>\n",
              "      <th>3</th>\n",
              "      <td>72</td>\n",
              "      <td>2.0</td>\n",
              "      <td>2.0</td>\n",
              "      <td>100.0</td>\n",
              "      <td>0.0</td>\n",
              "      <td>1.0</td>\n",
              "      <td>0.0</td>\n",
              "      <td>1.0</td>\n",
              "      <td>3.0</td>\n",
              "    </tr>\n",
              "    <tr>\n",
              "      <th>4</th>\n",
              "      <td>47</td>\n",
              "      <td>2.0</td>\n",
              "      <td>0.0</td>\n",
              "      <td>93.0</td>\n",
              "      <td>6.5</td>\n",
              "      <td>1.0</td>\n",
              "      <td>0.0</td>\n",
              "      <td>1.0</td>\n",
              "      <td>3.0</td>\n",
              "    </tr>\n",
              "  </tbody>\n",
              "</table>\n",
              "</div>"
            ],
            "text/plain": [
              "   cnt   t1   t2    hum  ...  weather_code  is_holiday  is_weekend  season\n",
              "0  182  3.0  2.0   93.0  ...           3.0         0.0         1.0     3.0\n",
              "1  138  3.0  2.5   93.0  ...           1.0         0.0         1.0     3.0\n",
              "2  134  2.5  2.5   96.5  ...           1.0         0.0         1.0     3.0\n",
              "3   72  2.0  2.0  100.0  ...           1.0         0.0         1.0     3.0\n",
              "4   47  2.0  0.0   93.0  ...           1.0         0.0         1.0     3.0\n",
              "\n",
              "[5 rows x 9 columns]"
            ]
          },
          "metadata": {
            "tags": []
          },
          "execution_count": 112
        }
      ]
    },
    {
      "cell_type": "markdown",
      "metadata": {
        "id": "5fatRURz_7h0"
      },
      "source": [
        "### 2.2 Re-escala dos dados usando máximo e mínimo"
      ]
    },
    {
      "cell_type": "code",
      "metadata": {
        "id": "ceQwDm2m_ezd",
        "outputId": "1031e81c-3ecb-418b-9c4d-9585f97c8861",
        "colab": {
          "base_uri": "https://localhost:8080/",
          "height": 204
        }
      },
      "source": [
        "data = (data - data.min()) / (data.max() - data.min())\n",
        "data.head()"
      ],
      "execution_count": 113,
      "outputs": [
        {
          "output_type": "execute_result",
          "data": {
            "text/html": [
              "<div>\n",
              "<style scoped>\n",
              "    .dataframe tbody tr th:only-of-type {\n",
              "        vertical-align: middle;\n",
              "    }\n",
              "\n",
              "    .dataframe tbody tr th {\n",
              "        vertical-align: top;\n",
              "    }\n",
              "\n",
              "    .dataframe thead th {\n",
              "        text-align: right;\n",
              "    }\n",
              "</style>\n",
              "<table border=\"1\" class=\"dataframe\">\n",
              "  <thead>\n",
              "    <tr style=\"text-align: right;\">\n",
              "      <th></th>\n",
              "      <th>cnt</th>\n",
              "      <th>t1</th>\n",
              "      <th>t2</th>\n",
              "      <th>hum</th>\n",
              "      <th>wind_speed</th>\n",
              "      <th>weather_code</th>\n",
              "      <th>is_holiday</th>\n",
              "      <th>is_weekend</th>\n",
              "      <th>season</th>\n",
              "    </tr>\n",
              "  </thead>\n",
              "  <tbody>\n",
              "    <tr>\n",
              "      <th>0</th>\n",
              "      <td>0.023155</td>\n",
              "      <td>0.126761</td>\n",
              "      <td>0.2000</td>\n",
              "      <td>0.911950</td>\n",
              "      <td>0.106195</td>\n",
              "      <td>0.08</td>\n",
              "      <td>0.0</td>\n",
              "      <td>1.0</td>\n",
              "      <td>1.0</td>\n",
              "    </tr>\n",
              "    <tr>\n",
              "      <th>1</th>\n",
              "      <td>0.017557</td>\n",
              "      <td>0.126761</td>\n",
              "      <td>0.2125</td>\n",
              "      <td>0.911950</td>\n",
              "      <td>0.088496</td>\n",
              "      <td>0.00</td>\n",
              "      <td>0.0</td>\n",
              "      <td>1.0</td>\n",
              "      <td>1.0</td>\n",
              "    </tr>\n",
              "    <tr>\n",
              "      <th>2</th>\n",
              "      <td>0.017048</td>\n",
              "      <td>0.112676</td>\n",
              "      <td>0.2125</td>\n",
              "      <td>0.955975</td>\n",
              "      <td>0.000000</td>\n",
              "      <td>0.00</td>\n",
              "      <td>0.0</td>\n",
              "      <td>1.0</td>\n",
              "      <td>1.0</td>\n",
              "    </tr>\n",
              "    <tr>\n",
              "      <th>3</th>\n",
              "      <td>0.009160</td>\n",
              "      <td>0.098592</td>\n",
              "      <td>0.2000</td>\n",
              "      <td>1.000000</td>\n",
              "      <td>0.000000</td>\n",
              "      <td>0.00</td>\n",
              "      <td>0.0</td>\n",
              "      <td>1.0</td>\n",
              "      <td>1.0</td>\n",
              "    </tr>\n",
              "    <tr>\n",
              "      <th>4</th>\n",
              "      <td>0.005980</td>\n",
              "      <td>0.098592</td>\n",
              "      <td>0.1500</td>\n",
              "      <td>0.911950</td>\n",
              "      <td>0.115044</td>\n",
              "      <td>0.00</td>\n",
              "      <td>0.0</td>\n",
              "      <td>1.0</td>\n",
              "      <td>1.0</td>\n",
              "    </tr>\n",
              "  </tbody>\n",
              "</table>\n",
              "</div>"
            ],
            "text/plain": [
              "        cnt        t1      t2  ...  is_holiday  is_weekend  season\n",
              "0  0.023155  0.126761  0.2000  ...         0.0         1.0     1.0\n",
              "1  0.017557  0.126761  0.2125  ...         0.0         1.0     1.0\n",
              "2  0.017048  0.112676  0.2125  ...         0.0         1.0     1.0\n",
              "3  0.009160  0.098592  0.2000  ...         0.0         1.0     1.0\n",
              "4  0.005980  0.098592  0.1500  ...         0.0         1.0     1.0\n",
              "\n",
              "[5 rows x 9 columns]"
            ]
          },
          "metadata": {
            "tags": []
          },
          "execution_count": 113
        }
      ]
    },
    {
      "cell_type": "markdown",
      "metadata": {
        "id": "v23XpLglAzM4"
      },
      "source": [
        "### 2.3 Organização dos dados para modelagem"
      ]
    },
    {
      "cell_type": "markdown",
      "metadata": {
        "id": "V5QhvYfHBDNx"
      },
      "source": [
        "#### 2.3.1 Atributos de classe ('cnt'):"
      ]
    },
    {
      "cell_type": "code",
      "metadata": {
        "id": "kfQzBLb9BSF6",
        "outputId": "b11ec580-66cf-4d4f-b707-2dc4f6175c51",
        "colab": {
          "base_uri": "https://localhost:8080/",
          "height": 119
        }
      },
      "source": [
        "y = data.cnt\n",
        "y.head()"
      ],
      "execution_count": 114,
      "outputs": [
        {
          "output_type": "execute_result",
          "data": {
            "text/plain": [
              "0    0.023155\n",
              "1    0.017557\n",
              "2    0.017048\n",
              "3    0.009160\n",
              "4    0.005980\n",
              "Name: cnt, dtype: float64"
            ]
          },
          "metadata": {
            "tags": []
          },
          "execution_count": 114
        }
      ]
    },
    {
      "cell_type": "markdown",
      "metadata": {
        "id": "1VfJ37umBd2j"
      },
      "source": [
        "#### 2.3.2 Atributos descritores"
      ]
    },
    {
      "cell_type": "code",
      "metadata": {
        "id": "kXVRd9oBBjOU",
        "outputId": "c9a5ab01-5d1d-4d0f-ecc2-e37cc18dcfc4",
        "colab": {
          "base_uri": "https://localhost:8080/",
          "height": 204
        }
      },
      "source": [
        "x = data.drop(columns=['cnt'])\n",
        "x.head()"
      ],
      "execution_count": 115,
      "outputs": [
        {
          "output_type": "execute_result",
          "data": {
            "text/html": [
              "<div>\n",
              "<style scoped>\n",
              "    .dataframe tbody tr th:only-of-type {\n",
              "        vertical-align: middle;\n",
              "    }\n",
              "\n",
              "    .dataframe tbody tr th {\n",
              "        vertical-align: top;\n",
              "    }\n",
              "\n",
              "    .dataframe thead th {\n",
              "        text-align: right;\n",
              "    }\n",
              "</style>\n",
              "<table border=\"1\" class=\"dataframe\">\n",
              "  <thead>\n",
              "    <tr style=\"text-align: right;\">\n",
              "      <th></th>\n",
              "      <th>t1</th>\n",
              "      <th>t2</th>\n",
              "      <th>hum</th>\n",
              "      <th>wind_speed</th>\n",
              "      <th>weather_code</th>\n",
              "      <th>is_holiday</th>\n",
              "      <th>is_weekend</th>\n",
              "      <th>season</th>\n",
              "    </tr>\n",
              "  </thead>\n",
              "  <tbody>\n",
              "    <tr>\n",
              "      <th>0</th>\n",
              "      <td>0.126761</td>\n",
              "      <td>0.2000</td>\n",
              "      <td>0.911950</td>\n",
              "      <td>0.106195</td>\n",
              "      <td>0.08</td>\n",
              "      <td>0.0</td>\n",
              "      <td>1.0</td>\n",
              "      <td>1.0</td>\n",
              "    </tr>\n",
              "    <tr>\n",
              "      <th>1</th>\n",
              "      <td>0.126761</td>\n",
              "      <td>0.2125</td>\n",
              "      <td>0.911950</td>\n",
              "      <td>0.088496</td>\n",
              "      <td>0.00</td>\n",
              "      <td>0.0</td>\n",
              "      <td>1.0</td>\n",
              "      <td>1.0</td>\n",
              "    </tr>\n",
              "    <tr>\n",
              "      <th>2</th>\n",
              "      <td>0.112676</td>\n",
              "      <td>0.2125</td>\n",
              "      <td>0.955975</td>\n",
              "      <td>0.000000</td>\n",
              "      <td>0.00</td>\n",
              "      <td>0.0</td>\n",
              "      <td>1.0</td>\n",
              "      <td>1.0</td>\n",
              "    </tr>\n",
              "    <tr>\n",
              "      <th>3</th>\n",
              "      <td>0.098592</td>\n",
              "      <td>0.2000</td>\n",
              "      <td>1.000000</td>\n",
              "      <td>0.000000</td>\n",
              "      <td>0.00</td>\n",
              "      <td>0.0</td>\n",
              "      <td>1.0</td>\n",
              "      <td>1.0</td>\n",
              "    </tr>\n",
              "    <tr>\n",
              "      <th>4</th>\n",
              "      <td>0.098592</td>\n",
              "      <td>0.1500</td>\n",
              "      <td>0.911950</td>\n",
              "      <td>0.115044</td>\n",
              "      <td>0.00</td>\n",
              "      <td>0.0</td>\n",
              "      <td>1.0</td>\n",
              "      <td>1.0</td>\n",
              "    </tr>\n",
              "  </tbody>\n",
              "</table>\n",
              "</div>"
            ],
            "text/plain": [
              "         t1      t2       hum  ...  is_holiday  is_weekend  season\n",
              "0  0.126761  0.2000  0.911950  ...         0.0         1.0     1.0\n",
              "1  0.126761  0.2125  0.911950  ...         0.0         1.0     1.0\n",
              "2  0.112676  0.2125  0.955975  ...         0.0         1.0     1.0\n",
              "3  0.098592  0.2000  1.000000  ...         0.0         1.0     1.0\n",
              "4  0.098592  0.1500  0.911950  ...         0.0         1.0     1.0\n",
              "\n",
              "[5 rows x 8 columns]"
            ]
          },
          "metadata": {
            "tags": []
          },
          "execution_count": 115
        }
      ]
    },
    {
      "cell_type": "markdown",
      "metadata": {
        "id": "Z_xpKjvMCBiw"
      },
      "source": [
        "## 3. Treinamento, previsão e avaliação"
      ]
    },
    {
      "cell_type": "markdown",
      "metadata": {
        "id": "sOfxqhvcC8z8"
      },
      "source": [
        "### 3.1 Treinamento"
      ]
    },
    {
      "cell_type": "code",
      "metadata": {
        "id": "NJsWFhmWCIWg"
      },
      "source": [
        "x_train, x_test, y_train, y_test = train_test_split(x, y, test_size =  0.2)"
      ],
      "execution_count": 129,
      "outputs": []
    },
    {
      "cell_type": "markdown",
      "metadata": {
        "id": "yfDG5WrADhyk"
      },
      "source": [
        "### 3.2 Previsão"
      ]
    },
    {
      "cell_type": "markdown",
      "metadata": {
        "id": "zxMW7qVWDtOF"
      },
      "source": [
        "#### 3.2.1 Regressão linear"
      ]
    },
    {
      "cell_type": "code",
      "metadata": {
        "id": "-vXV6XJBEEpE"
      },
      "source": [
        "lnr_rgs = LinearRegression()\n",
        "lnr_rgs.fit(x_train, y_train)\n",
        "prd_lnr = lnr_rgs.predict(x_test)"
      ],
      "execution_count": 130,
      "outputs": []
    },
    {
      "cell_type": "code",
      "metadata": {
        "id": "bDz1IF4-Eug3",
        "outputId": "d54c173d-74c9-4fb6-af42-4ca6703b97bb",
        "colab": {
          "base_uri": "https://localhost:8080/",
          "height": 281
        }
      },
      "source": [
        "plt.title('Previsão com regressão linear')\n",
        "plt.plot(y_test.reset_index(drop=True),label='Real')\n",
        "plt.plot(prd_lnr, label='Regressão linear')\n",
        "plt.legend()\n",
        "plt.show()"
      ],
      "execution_count": 131,
      "outputs": [
        {
          "output_type": "display_data",
          "data": {
            "image/png": "[encoded data removed]",
            "text/plain": [
              "<Figure size 432x288 with 1 Axes>"
            ]
          },
          "metadata": {
            "tags": [],
            "needs_background": "light"
          }
        }
      ]
    },
    {
      "cell_type": "markdown",
      "metadata": {
        "id": "I-KrKUDTFGCU"
      },
      "source": [
        "#### 3.2.2 Árvore de decisão"
      ]
    },
    {
      "cell_type": "code",
      "metadata": {
        "id": "mWwPQmkMFcH3"
      },
      "source": [
        "dcs_tr_rgs = DecisionTreeRegressor()\n",
        "dcs_tr_rgs.fit(x_train, y_train)\n",
        "prd_tr = dcs_tr_rgs.predict(x_test)"
      ],
      "execution_count": 132,
      "outputs": []
    },
    {
      "cell_type": "code",
      "metadata": {
        "id": "_qb1tYZtFxs2",
        "outputId": "3870dede-dd8b-49ab-9980-a6933e0f6ae6",
        "colab": {
          "base_uri": "https://localhost:8080/",
          "height": 281
        }
      },
      "source": [
        "plt.title('Previsão com árvore de decisão')\n",
        "plt.plot(y_test.reset_index(drop=True), label='Real')\n",
        "plt.plot(prd_tr, label='Árvore de decisão')\n",
        "plt.legend()\n",
        "plt.show()"
      ],
      "execution_count": 133,
      "outputs": [
        {
          "output_type": "display_data",
          "data": {
            "image/png": "[encoded data removed]",
            "text/plain": [
              "<Figure size 432x288 with 1 Axes>"
            ]
          },
          "metadata": {
            "tags": [],
            "needs_background": "light"
          }
        }
      ]
    },
    {
      "cell_type": "markdown",
      "metadata": {
        "id": "-0tx0riOGITP"
      },
      "source": [
        "#### 3.2.3 *Random forest*"
      ]
    },
    {
      "cell_type": "code",
      "metadata": {
        "id": "Vvya-eGjGQ2W"
      },
      "source": [
        "rnd_frt_rgs = RandomForestRegressor(n_estimators=100)\n",
        "rnd_frt_rgs.fit(x_train, y_train)\n",
        "prd_frt = rnd_frt_rgs.predict(x_test)"
      ],
      "execution_count": 134,
      "outputs": []
    },
    {
      "cell_type": "code",
      "metadata": {
        "id": "8HGS89xxG1hg",
        "outputId": "acceb5d0-bd07-4e6c-c0ab-bc2540f25f85",
        "colab": {
          "base_uri": "https://localhost:8080/",
          "height": 281
        }
      },
      "source": [
        "plt.title('Previsão com Random forest')\n",
        "plt.plot(y_test.reset_index(drop=True), label='Real')\n",
        "plt.plot(prd_frt, label='Random forest')\n",
        "plt.legend()\n",
        "plt.show()"
      ],
      "execution_count": 135,
      "outputs": [
        {
          "output_type": "display_data",
          "data": {
            "image/png": "[encoded data removed]",
            "text/plain": [
              "<Figure size 432x288 with 1 Axes>"
            ]
          },
          "metadata": {
            "tags": [],
            "needs_background": "light"
          }
        }
      ]
    },
    {
      "cell_type": "markdown",
      "metadata": {
        "id": "OppPLp3hHZiy"
      },
      "source": [
        "#### 3.2.3 Rede neural *multi-layer perceptron* (MLP)"
      ]
    },
    {
      "cell_type": "code",
      "metadata": {
        "id": "g8mEVY0WHgRc"
      },
      "source": [
        "mlp_rgs = MLPRegressor(hidden_layer_sizes=(200, 50), activation='logistic', max_iter=1000)\n",
        "mlp_rgs.fit(x_train, y_train)\n",
        "prd_mlp = mlp_rgs.predict(x_test)"
      ],
      "execution_count": 136,
      "outputs": []
    },
    {
      "cell_type": "code",
      "metadata": {
        "id": "HmKgJMw2H7P2",
        "outputId": "e9ea46c8-9422-4717-b5c9-7da3620a6023",
        "colab": {
          "base_uri": "https://localhost:8080/",
          "height": 281
        }
      },
      "source": [
        "plt.title('Previsão com Rede neural MLP')\n",
        "plt.plot(y_test.reset_index(drop=True), label='Real')\n",
        "plt.plot(prd_mlp, label='MLP')\n",
        "plt.legend()\n",
        "plt.show()"
      ],
      "execution_count": 137,
      "outputs": [
        {
          "output_type": "display_data",
          "data": {
            "image/png": "[encoded data removed]",
            "text/plain": [
              "<Figure size 432x288 with 1 Axes>"
            ]
          },
          "metadata": {
            "tags": [],
            "needs_background": "light"
          }
        }
      ]
    },
    {
      "cell_type": "markdown",
      "metadata": {
        "id": "adKR0mGTIWRK"
      },
      "source": [
        "### 3.3 Avaliação do modelo"
      ]
    },
    {
      "cell_type": "markdown",
      "metadata": {
        "id": "FNsXnauQ_ni3"
      },
      "source": [
        "#### 3.3.1 *Mean Absolute Error* (MAE)"
      ]
    },
    {
      "cell_type": "markdown",
      "metadata": {
        "id": "55EsS0tWAF4A"
      },
      "source": [
        "##### Regressão linear"
      ]
    },
    {
      "cell_type": "code",
      "metadata": {
        "id": "UQ5hNImE_z3w",
        "outputId": "28e0f8bb-c98e-4341-e62b-5024c91f29ee",
        "colab": {
          "base_uri": "https://localhost:8080/",
          "height": 34
        }
      },
      "source": [
        "round(mean_absolute_error(y_test, prd_lnr), 4)"
      ],
      "execution_count": 153,
      "outputs": [
        {
          "output_type": "execute_result",
          "data": {
            "text/plain": [
              "0.0879"
            ]
          },
          "metadata": {
            "tags": []
          },
          "execution_count": 153
        }
      ]
    },
    {
      "cell_type": "markdown",
      "metadata": {
        "id": "Hz_1JF7nARFt"
      },
      "source": [
        "##### Árvore de decisão"
      ]
    },
    {
      "cell_type": "code",
      "metadata": {
        "id": "GPgwC0I1AVvA",
        "outputId": "e1fc6ee1-3db8-48c7-b8d8-9a1658989545",
        "colab": {
          "base_uri": "https://localhost:8080/",
          "height": 34
        }
      },
      "source": [
        "round(mean_absolute_error(y_test, prd_tr), 4)"
      ],
      "execution_count": 154,
      "outputs": [
        {
          "output_type": "execute_result",
          "data": {
            "text/plain": [
              "0.1031"
            ]
          },
          "metadata": {
            "tags": []
          },
          "execution_count": 154
        }
      ]
    },
    {
      "cell_type": "markdown",
      "metadata": {
        "id": "9BC75ovpAkVI"
      },
      "source": [
        "##### *Random forest*"
      ]
    },
    {
      "cell_type": "code",
      "metadata": {
        "id": "h8_jUJcDAnar",
        "outputId": "8a7aa480-125f-4f7e-ef82-6b545dbac8ad",
        "colab": {
          "base_uri": "https://localhost:8080/",
          "height": 34
        }
      },
      "source": [
        "round(mean_absolute_error(y_test, prd_frt), 4)"
      ],
      "execution_count": 155,
      "outputs": [
        {
          "output_type": "execute_result",
          "data": {
            "text/plain": [
              "0.0818"
            ]
          },
          "metadata": {
            "tags": []
          },
          "execution_count": 155
        }
      ]
    },
    {
      "cell_type": "markdown",
      "metadata": {
        "id": "P9MlK7N_ArqU"
      },
      "source": [
        "##### Rede neural *multi-layer perceptron* (MLP)"
      ]
    },
    {
      "cell_type": "code",
      "metadata": {
        "id": "vDy9128KAwvu",
        "outputId": "fb8e444c-fbdd-42ec-940c-c6a1913d00c5",
        "colab": {
          "base_uri": "https://localhost:8080/",
          "height": 34
        }
      },
      "source": [
        "round(mean_absolute_error(y_test, prd_mlp), 4)"
      ],
      "execution_count": 156,
      "outputs": [
        {
          "output_type": "execute_result",
          "data": {
            "text/plain": [
              "0.0843"
            ]
          },
          "metadata": {
            "tags": []
          },
          "execution_count": 156
        }
      ]
    },
    {
      "cell_type": "markdown",
      "metadata": {
        "id": "oR5DeJ2nIwPP"
      },
      "source": [
        "#### 3.3.2 *Mean Squared Error* (MSE)"
      ]
    },
    {
      "cell_type": "markdown",
      "metadata": {
        "id": "6IR4lJXuIzmC"
      },
      "source": [
        "##### Regressão linear"
      ]
    },
    {
      "cell_type": "code",
      "metadata": {
        "id": "dDDbtUWnI-Nv",
        "outputId": "0e27dcfd-8736-4e78-ee58-45e96748ce13",
        "colab": {
          "base_uri": "https://localhost:8080/",
          "height": 34
        }
      },
      "source": [
        "round(mean_squared_error(y_test, prd_lnr), 4)"
      ],
      "execution_count": 157,
      "outputs": [
        {
          "output_type": "execute_result",
          "data": {
            "text/plain": [
              "0.0144"
            ]
          },
          "metadata": {
            "tags": []
          },
          "execution_count": 157
        }
      ]
    },
    {
      "cell_type": "markdown",
      "metadata": {
        "id": "Ie1iLQvAJOSO"
      },
      "source": [
        "##### Árvore de decisão"
      ]
    },
    {
      "cell_type": "code",
      "metadata": {
        "id": "VPJdi8NcJS2Y",
        "outputId": "1e76f9a4-fe4a-4b94-ddd4-6876d1e369d3",
        "colab": {
          "base_uri": "https://localhost:8080/",
          "height": 34
        }
      },
      "source": [
        "round(mean_squared_error(y_test, prd_tr), 4)"
      ],
      "execution_count": 158,
      "outputs": [
        {
          "output_type": "execute_result",
          "data": {
            "text/plain": [
              "0.0246"
            ]
          },
          "metadata": {
            "tags": []
          },
          "execution_count": 158
        }
      ]
    },
    {
      "cell_type": "markdown",
      "metadata": {
        "id": "wTR9xLx3JZfd"
      },
      "source": [
        "##### *Random forest*"
      ]
    },
    {
      "cell_type": "code",
      "metadata": {
        "id": "gGz9HYdBJemg",
        "outputId": "03709ce9-cab4-45f2-f7f8-fde9f03750c6",
        "colab": {
          "base_uri": "https://localhost:8080/",
          "height": 34
        }
      },
      "source": [
        "round(mean_squared_error(y_test, prd_frt), 4)"
      ],
      "execution_count": 159,
      "outputs": [
        {
          "output_type": "execute_result",
          "data": {
            "text/plain": [
              "0.0141"
            ]
          },
          "metadata": {
            "tags": []
          },
          "execution_count": 159
        }
      ]
    },
    {
      "cell_type": "markdown",
      "metadata": {
        "id": "0CCaPdgXJkOR"
      },
      "source": [
        "##### Rede neural *multi-layer perceptron* (MLP)"
      ]
    },
    {
      "cell_type": "code",
      "metadata": {
        "id": "rbsXqVggJofs",
        "outputId": "7ac5988c-28bc-4322-eae9-d3fe9827c096",
        "colab": {
          "base_uri": "https://localhost:8080/",
          "height": 34
        }
      },
      "source": [
        "round(mean_squared_error(y_test, prd_mlp), 4)"
      ],
      "execution_count": 160,
      "outputs": [
        {
          "output_type": "execute_result",
          "data": {
            "text/plain": [
              "0.015"
            ]
          },
          "metadata": {
            "tags": []
          },
          "execution_count": 160
        }
      ]
    },
    {
      "cell_type": "markdown",
      "metadata": {
        "id": "p-ANVTTwJuEr"
      },
      "source": [
        "#### 3.3.3 *Root Mean Squared Error* (RMSE)"
      ]
    },
    {
      "cell_type": "markdown",
      "metadata": {
        "id": "gIClhL0WKXv0"
      },
      "source": [
        "##### Regressão linear"
      ]
    },
    {
      "cell_type": "code",
      "metadata": {
        "id": "A0YKc7MwKNmh",
        "outputId": "b81ecdac-c131-4258-96d4-a1784745b23a",
        "colab": {
          "base_uri": "https://localhost:8080/",
          "height": 34
        }
      },
      "source": [
        "round(mean_squared_error(y_test, prd_lnr)**(1/2), 4)"
      ],
      "execution_count": 161,
      "outputs": [
        {
          "output_type": "execute_result",
          "data": {
            "text/plain": [
              "0.1199"
            ]
          },
          "metadata": {
            "tags": []
          },
          "execution_count": 161
        }
      ]
    },
    {
      "cell_type": "markdown",
      "metadata": {
        "id": "RvioXDswKavL"
      },
      "source": [
        "##### Árvore de decisão"
      ]
    },
    {
      "cell_type": "code",
      "metadata": {
        "id": "1ioD67eHKdEe",
        "outputId": "bf513ef8-dd4e-496f-e641-cb4d60dac754",
        "colab": {
          "base_uri": "https://localhost:8080/",
          "height": 34
        }
      },
      "source": [
        "round(mean_squared_error(y_test, prd_tr)**(1/2), 4)"
      ],
      "execution_count": 162,
      "outputs": [
        {
          "output_type": "execute_result",
          "data": {
            "text/plain": [
              "0.1567"
            ]
          },
          "metadata": {
            "tags": []
          },
          "execution_count": 162
        }
      ]
    },
    {
      "cell_type": "markdown",
      "metadata": {
        "id": "8MdqL-kQKhxN"
      },
      "source": [
        "##### *Random forest*"
      ]
    },
    {
      "cell_type": "code",
      "metadata": {
        "id": "DcJcyxSRKklF",
        "outputId": "896cb2e5-b289-4e6c-9884-54f7fe302392",
        "colab": {
          "base_uri": "https://localhost:8080/",
          "height": 34
        }
      },
      "source": [
        "round(mean_squared_error(y_test, prd_frt)**(1/2), 4)"
      ],
      "execution_count": 163,
      "outputs": [
        {
          "output_type": "execute_result",
          "data": {
            "text/plain": [
              "0.1188"
            ]
          },
          "metadata": {
            "tags": []
          },
          "execution_count": 163
        }
      ]
    },
    {
      "cell_type": "markdown",
      "metadata": {
        "id": "B06SKs1hKpr6"
      },
      "source": [
        "##### Rede neural *multi-layer perceptron* (MLP)"
      ]
    },
    {
      "cell_type": "code",
      "metadata": {
        "id": "aYsK90UpKt2P",
        "outputId": "b392bc23-e66d-4c63-b752-3ef8df1eea6a",
        "colab": {
          "base_uri": "https://localhost:8080/",
          "height": 34
        }
      },
      "source": [
        "round(mean_squared_error(y_test, prd_mlp)**(1/2), 4)"
      ],
      "execution_count": 164,
      "outputs": [
        {
          "output_type": "execute_result",
          "data": {
            "text/plain": [
              "0.1226"
            ]
          },
          "metadata": {
            "tags": []
          },
          "execution_count": 164
        }
      ]
    },
    {
      "cell_type": "markdown",
      "metadata": {
        "id": "ePfioNhALazc"
      },
      "source": [
        "#### 3.3.4 *Mean Absolute Percentage Error* (MAPE)"
      ]
    },
    {
      "cell_type": "code",
      "metadata": {
        "id": "WeTXepYmLhyr"
      },
      "source": [
        "def mean_absolute_percentage_error(y_test, y_pred):\n",
        "    y_test = y_test.values\n",
        "    erro = 0\n",
        "    for i in range(len(y_test)):\n",
        "        erro += abs(y_test[i] - y_pred[i]) / y_test[i]\n",
        "    return erro / len(y_test)"
      ],
      "execution_count": 165,
      "outputs": []
    },
    {
      "cell_type": "markdown",
      "metadata": {
        "id": "n-4Yr0NqMPON"
      },
      "source": [
        "##### Regressão linear"
      ]
    },
    {
      "cell_type": "code",
      "metadata": {
        "id": "JDASVB8-MSy8",
        "outputId": "8204c52b-1160-41f6-cc60-5db1bf303f66",
        "colab": {
          "base_uri": "https://localhost:8080/",
          "height": 34
        }
      },
      "source": [
        "round(mean_absolute_error(y_test, prd_lnr), 4)"
      ],
      "execution_count": 166,
      "outputs": [
        {
          "output_type": "execute_result",
          "data": {
            "text/plain": [
              "0.0879"
            ]
          },
          "metadata": {
            "tags": []
          },
          "execution_count": 166
        }
      ]
    },
    {
      "cell_type": "markdown",
      "metadata": {
        "id": "xBj3wTp9Milf"
      },
      "source": [
        "##### Árvore de decisão"
      ]
    },
    {
      "cell_type": "code",
      "metadata": {
        "id": "DtbVwvPdMmEt",
        "outputId": "19ca0512-9fb5-46d3-c19a-b15cfbbb6b49",
        "colab": {
          "base_uri": "https://localhost:8080/",
          "height": 34
        }
      },
      "source": [
        "round(mean_absolute_error(y_test, prd_tr), 4)"
      ],
      "execution_count": 167,
      "outputs": [
        {
          "output_type": "execute_result",
          "data": {
            "text/plain": [
              "0.1031"
            ]
          },
          "metadata": {
            "tags": []
          },
          "execution_count": 167
        }
      ]
    },
    {
      "cell_type": "markdown",
      "metadata": {
        "id": "dBxkFphzMsEn"
      },
      "source": [
        "##### *Random forest*"
      ]
    },
    {
      "cell_type": "code",
      "metadata": {
        "id": "CwG1kU6bMyva",
        "outputId": "14609693-b5c4-47cf-9624-1de9f2287673",
        "colab": {
          "base_uri": "https://localhost:8080/",
          "height": 34
        }
      },
      "source": [
        "round(mean_absolute_error(y_test, prd_frt), 4)"
      ],
      "execution_count": 168,
      "outputs": [
        {
          "output_type": "execute_result",
          "data": {
            "text/plain": [
              "0.0818"
            ]
          },
          "metadata": {
            "tags": []
          },
          "execution_count": 168
        }
      ]
    },
    {
      "cell_type": "markdown",
      "metadata": {
        "id": "wwbE_dAJNZ9r"
      },
      "source": [
        "##### Rede neural *multi-layer perceptron* (MLP)"
      ]
    },
    {
      "cell_type": "code",
      "metadata": {
        "id": "SSTQ2PMbNeSo",
        "outputId": "6d105410-90ec-4c8f-8d2c-89c85d851d02",
        "colab": {
          "base_uri": "https://localhost:8080/",
          "height": 34
        }
      },
      "source": [
        "round(mean_absolute_error(y_test, prd_mlp), 4)"
      ],
      "execution_count": 170,
      "outputs": [
        {
          "output_type": "execute_result",
          "data": {
            "text/plain": [
              "0.0843"
            ]
          },
          "metadata": {
            "tags": []
          },
          "execution_count": 170
        }
      ]
    },
    {
      "cell_type": "markdown",
      "metadata": {
        "id": "cTpTCkaYDMHn"
      },
      "source": [
        "## 4. Considerações"
      ]
    },
    {
      "cell_type": "markdown",
      "metadata": {
        "id": "jOqRkF6cvkEh"
      },
      "source": [
        "\n",
        "Diante dos gráficos apresentados na Subseção 3.2 e as taxas de erro calculadas na Subseção 3.3, pode-se observar que as modelagens realizadas com as seguintes abordagens: 1º Árvore de Decisão e 2º MLP obtiveram resultados de previsão inferiores comparado com os demais modelos, além de taxas de erro mais altas.\n",
        "\n",
        "Contudo, os modelos criados com a 1º *Random Forest* e a 2º Regressão Linear alcançaram resultados com taxas de erro menores e consequentemente uma melhor previsão (Subseção 3.2 e 3.3)."
      ]
    }
  ]
}