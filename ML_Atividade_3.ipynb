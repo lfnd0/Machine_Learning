{
  "nbformat": 4,
  "nbformat_minor": 0,
  "metadata": {
    "colab": {
      "name": "ML_Atividade_3.ipynb",
      "provenance": [],
      "authorship_tag": "ABX9TyOK+1uiVT07+AFaUqxbm97L",
      "include_colab_link": true
    },
    "kernelspec": {
      "name": "python3",
      "display_name": "Python 3"
    }
  },
  "cells": [
    {
      "cell_type": "markdown",
      "metadata": {
        "id": "view-in-github",
        "colab_type": "text"
      },
      "source": [
        "<a href=\"https://colab.research.google.com/github/lfnd0/Machine_Learning/blob/master/ML_Atividade_3.ipynb\" target=\"_parent\"><img src=\"https://colab.research.google.com/assets/colab-badge.svg\" alt=\"Open In Colab\"/></a>"
      ]
    },
    {
      "cell_type": "markdown",
      "metadata": {
        "id": "IrSvyU2NU-2_",
        "colab_type": "text"
      },
      "source": [
        "# Rede neural utilizando dados sobre câncer de próstata\n",
        "> Dataset: [Prostate cancer](https://www.kaggle.com/sajidsaifi/prostate-cancer)"
      ]
    },
    {
      "cell_type": "markdown",
      "metadata": {
        "id": "F8KdpD7DVMsm",
        "colab_type": "text"
      },
      "source": [
        "## 1. Leitura dos dados"
      ]
    },
    {
      "cell_type": "code",
      "metadata": {
        "id": "LETofmF0WZ6Q",
        "colab_type": "code",
        "colab": {}
      },
      "source": [
        "from google.colab import drive\n",
        "\n",
        "from sklearn.model_selection import train_test_split\n",
        "from sklearn.tree import DecisionTreeClassifier\n",
        "from sklearn.tree import plot_tree\n",
        "from sklearn.metrics import accuracy_score\n",
        "from sklearn.metrics import precision_score\n",
        "from sklearn.metrics import recall_score\n",
        "from sklearn.metrics import f1_score\n",
        "from sklearn.metrics  import roc_curve\n",
        "from sklearn.metrics import roc_auc_score\n",
        "from sklearn.ensemble import RandomForestClassifier\n",
        "from sklearn.model_selection import cross_val_score\n",
        "\n",
        "import pandas as pd\n",
        "import matplotlib.pyplot as plt"
      ],
      "execution_count": 3,
      "outputs": []
    },
    {
      "cell_type": "code",
      "metadata": {
        "id": "1bOYmI3fWdln",
        "colab_type": "code",
        "colab": {
          "base_uri": "https://localhost:8080/",
          "height": 122
        },
        "outputId": "3ea1a97d-d6b8-4a51-ef36-5328a024b69a"
      },
      "source": [
        "drive.mount('/content/drive/')"
      ],
      "execution_count": 4,
      "outputs": [
        {
          "output_type": "stream",
          "text": [
            "Go to this URL in a browser: https://accounts.google.com/o/oauth2/auth?client_id=947318989803-6bn6qk8qdgf4n4g3pfee6491hc0brc4i.apps.googleusercontent.com&redirect_uri=urn%3aietf%3awg%3aoauth%3a2.0%3aoob&scope=email%20https%3a%2f%2fwww.googleapis.com%2fauth%2fdocs.test%20https%3a%2f%2fwww.googleapis.com%2fauth%2fdrive%20https%3a%2f%2fwww.googleapis.com%2fauth%2fdrive.photos.readonly%20https%3a%2f%2fwww.googleapis.com%2fauth%2fpeopleapi.readonly&response_type=code\n",
            "\n",
            "Enter your authorization code:\n",
            "··········\n",
            "Mounted at /content/drive/\n"
          ],
          "name": "stdout"
        }
      ]
    },
    {
      "cell_type": "code",
      "metadata": {
        "id": "2GM2L3RTWfoW",
        "colab_type": "code",
        "colab": {
          "base_uri": "https://localhost:8080/",
          "height": 204
        },
        "outputId": "5dbd6f2a-3849-4527-aeac-7564196ea688"
      },
      "source": [
        "data = pd.read_csv('/content/drive/My Drive/Machine_Learning/Datasets/Atividade_3/ca_prostata.csv')\n",
        "data.head()"
      ],
      "execution_count": 5,
      "outputs": [
        {
          "output_type": "execute_result",
          "data": {
            "text/html": [
              "<div>\n",
              "<style scoped>\n",
              "    .dataframe tbody tr th:only-of-type {\n",
              "        vertical-align: middle;\n",
              "    }\n",
              "\n",
              "    .dataframe tbody tr th {\n",
              "        vertical-align: top;\n",
              "    }\n",
              "\n",
              "    .dataframe thead th {\n",
              "        text-align: right;\n",
              "    }\n",
              "</style>\n",
              "<table border=\"1\" class=\"dataframe\">\n",
              "  <thead>\n",
              "    <tr style=\"text-align: right;\">\n",
              "      <th></th>\n",
              "      <th>id</th>\n",
              "      <th>diagnosis_result</th>\n",
              "      <th>radius</th>\n",
              "      <th>texture</th>\n",
              "      <th>perimeter</th>\n",
              "      <th>area</th>\n",
              "      <th>smoothness</th>\n",
              "      <th>compactness</th>\n",
              "      <th>symmetry</th>\n",
              "      <th>fractal_dimension</th>\n",
              "    </tr>\n",
              "  </thead>\n",
              "  <tbody>\n",
              "    <tr>\n",
              "      <th>0</th>\n",
              "      <td>1</td>\n",
              "      <td>M</td>\n",
              "      <td>23</td>\n",
              "      <td>12</td>\n",
              "      <td>151</td>\n",
              "      <td>954</td>\n",
              "      <td>0.143</td>\n",
              "      <td>0.278</td>\n",
              "      <td>0.242</td>\n",
              "      <td>0.079</td>\n",
              "    </tr>\n",
              "    <tr>\n",
              "      <th>1</th>\n",
              "      <td>2</td>\n",
              "      <td>B</td>\n",
              "      <td>9</td>\n",
              "      <td>13</td>\n",
              "      <td>133</td>\n",
              "      <td>1326</td>\n",
              "      <td>0.143</td>\n",
              "      <td>0.079</td>\n",
              "      <td>0.181</td>\n",
              "      <td>0.057</td>\n",
              "    </tr>\n",
              "    <tr>\n",
              "      <th>2</th>\n",
              "      <td>3</td>\n",
              "      <td>M</td>\n",
              "      <td>21</td>\n",
              "      <td>27</td>\n",
              "      <td>130</td>\n",
              "      <td>1203</td>\n",
              "      <td>0.125</td>\n",
              "      <td>0.160</td>\n",
              "      <td>0.207</td>\n",
              "      <td>0.060</td>\n",
              "    </tr>\n",
              "    <tr>\n",
              "      <th>3</th>\n",
              "      <td>4</td>\n",
              "      <td>M</td>\n",
              "      <td>14</td>\n",
              "      <td>16</td>\n",
              "      <td>78</td>\n",
              "      <td>386</td>\n",
              "      <td>0.070</td>\n",
              "      <td>0.284</td>\n",
              "      <td>0.260</td>\n",
              "      <td>0.097</td>\n",
              "    </tr>\n",
              "    <tr>\n",
              "      <th>4</th>\n",
              "      <td>5</td>\n",
              "      <td>M</td>\n",
              "      <td>9</td>\n",
              "      <td>19</td>\n",
              "      <td>135</td>\n",
              "      <td>1297</td>\n",
              "      <td>0.141</td>\n",
              "      <td>0.133</td>\n",
              "      <td>0.181</td>\n",
              "      <td>0.059</td>\n",
              "    </tr>\n",
              "  </tbody>\n",
              "</table>\n",
              "</div>"
            ],
            "text/plain": [
              "   id diagnosis_result  radius  ...  compactness  symmetry  fractal_dimension\n",
              "0   1                M      23  ...        0.278     0.242              0.079\n",
              "1   2                B       9  ...        0.079     0.181              0.057\n",
              "2   3                M      21  ...        0.160     0.207              0.060\n",
              "3   4                M      14  ...        0.284     0.260              0.097\n",
              "4   5                M       9  ...        0.133     0.181              0.059\n",
              "\n",
              "[5 rows x 10 columns]"
            ]
          },
          "metadata": {
            "tags": []
          },
          "execution_count": 5
        }
      ]
    },
    {
      "cell_type": "markdown",
      "metadata": {
        "id": "r1RgZSIXZpqH",
        "colab_type": "text"
      },
      "source": [
        "## 2. Limpeza e organização dos dados"
      ]
    },
    {
      "cell_type": "markdown",
      "metadata": {
        "id": "qp2Fo_fWZrfX",
        "colab_type": "text"
      },
      "source": [
        "### 2.1 Limpeza dos dados"
      ]
    },
    {
      "cell_type": "markdown",
      "metadata": {
        "id": "A1p2MGnZZr5q",
        "colab_type": "text"
      },
      "source": [
        "#### 2.1.1 Remoção da coluna 'id'"
      ]
    },
    {
      "cell_type": "code",
      "metadata": {
        "id": "Xcuw_6qqaGDJ",
        "colab_type": "code",
        "colab": {
          "base_uri": "https://localhost:8080/",
          "height": 204
        },
        "outputId": "efdfc144-9278-4aea-8b9c-a11a50515cd9"
      },
      "source": [
        "data = data.dropna()\n",
        "data = data.drop(columns = ['id'])\n",
        "data.head()"
      ],
      "execution_count": 6,
      "outputs": [
        {
          "output_type": "execute_result",
          "data": {
            "text/html": [
              "<div>\n",
              "<style scoped>\n",
              "    .dataframe tbody tr th:only-of-type {\n",
              "        vertical-align: middle;\n",
              "    }\n",
              "\n",
              "    .dataframe tbody tr th {\n",
              "        vertical-align: top;\n",
              "    }\n",
              "\n",
              "    .dataframe thead th {\n",
              "        text-align: right;\n",
              "    }\n",
              "</style>\n",
              "<table border=\"1\" class=\"dataframe\">\n",
              "  <thead>\n",
              "    <tr style=\"text-align: right;\">\n",
              "      <th></th>\n",
              "      <th>diagnosis_result</th>\n",
              "      <th>radius</th>\n",
              "      <th>texture</th>\n",
              "      <th>perimeter</th>\n",
              "      <th>area</th>\n",
              "      <th>smoothness</th>\n",
              "      <th>compactness</th>\n",
              "      <th>symmetry</th>\n",
              "      <th>fractal_dimension</th>\n",
              "    </tr>\n",
              "  </thead>\n",
              "  <tbody>\n",
              "    <tr>\n",
              "      <th>0</th>\n",
              "      <td>M</td>\n",
              "      <td>23</td>\n",
              "      <td>12</td>\n",
              "      <td>151</td>\n",
              "      <td>954</td>\n",
              "      <td>0.143</td>\n",
              "      <td>0.278</td>\n",
              "      <td>0.242</td>\n",
              "      <td>0.079</td>\n",
              "    </tr>\n",
              "    <tr>\n",
              "      <th>1</th>\n",
              "      <td>B</td>\n",
              "      <td>9</td>\n",
              "      <td>13</td>\n",
              "      <td>133</td>\n",
              "      <td>1326</td>\n",
              "      <td>0.143</td>\n",
              "      <td>0.079</td>\n",
              "      <td>0.181</td>\n",
              "      <td>0.057</td>\n",
              "    </tr>\n",
              "    <tr>\n",
              "      <th>2</th>\n",
              "      <td>M</td>\n",
              "      <td>21</td>\n",
              "      <td>27</td>\n",
              "      <td>130</td>\n",
              "      <td>1203</td>\n",
              "      <td>0.125</td>\n",
              "      <td>0.160</td>\n",
              "      <td>0.207</td>\n",
              "      <td>0.060</td>\n",
              "    </tr>\n",
              "    <tr>\n",
              "      <th>3</th>\n",
              "      <td>M</td>\n",
              "      <td>14</td>\n",
              "      <td>16</td>\n",
              "      <td>78</td>\n",
              "      <td>386</td>\n",
              "      <td>0.070</td>\n",
              "      <td>0.284</td>\n",
              "      <td>0.260</td>\n",
              "      <td>0.097</td>\n",
              "    </tr>\n",
              "    <tr>\n",
              "      <th>4</th>\n",
              "      <td>M</td>\n",
              "      <td>9</td>\n",
              "      <td>19</td>\n",
              "      <td>135</td>\n",
              "      <td>1297</td>\n",
              "      <td>0.141</td>\n",
              "      <td>0.133</td>\n",
              "      <td>0.181</td>\n",
              "      <td>0.059</td>\n",
              "    </tr>\n",
              "  </tbody>\n",
              "</table>\n",
              "</div>"
            ],
            "text/plain": [
              "  diagnosis_result  radius  texture  ...  compactness  symmetry  fractal_dimension\n",
              "0                M      23       12  ...        0.278     0.242              0.079\n",
              "1                B       9       13  ...        0.079     0.181              0.057\n",
              "2                M      21       27  ...        0.160     0.207              0.060\n",
              "3                M      14       16  ...        0.284     0.260              0.097\n",
              "4                M       9       19  ...        0.133     0.181              0.059\n",
              "\n",
              "[5 rows x 9 columns]"
            ]
          },
          "metadata": {
            "tags": []
          },
          "execution_count": 6
        }
      ]
    },
    {
      "cell_type": "markdown",
      "metadata": {
        "id": "OvH2sr2maIwW",
        "colab_type": "text"
      },
      "source": [
        "#### 2.1.2 Mudança dos valores 'B' e 'M' para '0' e '1'"
      ]
    },
    {
      "cell_type": "code",
      "metadata": {
        "id": "_K9Rpp0ZaNkg",
        "colab_type": "code",
        "colab": {
          "base_uri": "https://localhost:8080/",
          "height": 204
        },
        "outputId": "76627847-090d-4190-a2a5-13641b351014"
      },
      "source": [
        "data['diagnosis_result'] = data['diagnosis_result'].replace(['B', 'M'], [0, 1])\n",
        "data.head()"
      ],
      "execution_count": 7,
      "outputs": [
        {
          "output_type": "execute_result",
          "data": {
            "text/html": [
              "<div>\n",
              "<style scoped>\n",
              "    .dataframe tbody tr th:only-of-type {\n",
              "        vertical-align: middle;\n",
              "    }\n",
              "\n",
              "    .dataframe tbody tr th {\n",
              "        vertical-align: top;\n",
              "    }\n",
              "\n",
              "    .dataframe thead th {\n",
              "        text-align: right;\n",
              "    }\n",
              "</style>\n",
              "<table border=\"1\" class=\"dataframe\">\n",
              "  <thead>\n",
              "    <tr style=\"text-align: right;\">\n",
              "      <th></th>\n",
              "      <th>diagnosis_result</th>\n",
              "      <th>radius</th>\n",
              "      <th>texture</th>\n",
              "      <th>perimeter</th>\n",
              "      <th>area</th>\n",
              "      <th>smoothness</th>\n",
              "      <th>compactness</th>\n",
              "      <th>symmetry</th>\n",
              "      <th>fractal_dimension</th>\n",
              "    </tr>\n",
              "  </thead>\n",
              "  <tbody>\n",
              "    <tr>\n",
              "      <th>0</th>\n",
              "      <td>1</td>\n",
              "      <td>23</td>\n",
              "      <td>12</td>\n",
              "      <td>151</td>\n",
              "      <td>954</td>\n",
              "      <td>0.143</td>\n",
              "      <td>0.278</td>\n",
              "      <td>0.242</td>\n",
              "      <td>0.079</td>\n",
              "    </tr>\n",
              "    <tr>\n",
              "      <th>1</th>\n",
              "      <td>0</td>\n",
              "      <td>9</td>\n",
              "      <td>13</td>\n",
              "      <td>133</td>\n",
              "      <td>1326</td>\n",
              "      <td>0.143</td>\n",
              "      <td>0.079</td>\n",
              "      <td>0.181</td>\n",
              "      <td>0.057</td>\n",
              "    </tr>\n",
              "    <tr>\n",
              "      <th>2</th>\n",
              "      <td>1</td>\n",
              "      <td>21</td>\n",
              "      <td>27</td>\n",
              "      <td>130</td>\n",
              "      <td>1203</td>\n",
              "      <td>0.125</td>\n",
              "      <td>0.160</td>\n",
              "      <td>0.207</td>\n",
              "      <td>0.060</td>\n",
              "    </tr>\n",
              "    <tr>\n",
              "      <th>3</th>\n",
              "      <td>1</td>\n",
              "      <td>14</td>\n",
              "      <td>16</td>\n",
              "      <td>78</td>\n",
              "      <td>386</td>\n",
              "      <td>0.070</td>\n",
              "      <td>0.284</td>\n",
              "      <td>0.260</td>\n",
              "      <td>0.097</td>\n",
              "    </tr>\n",
              "    <tr>\n",
              "      <th>4</th>\n",
              "      <td>1</td>\n",
              "      <td>9</td>\n",
              "      <td>19</td>\n",
              "      <td>135</td>\n",
              "      <td>1297</td>\n",
              "      <td>0.141</td>\n",
              "      <td>0.133</td>\n",
              "      <td>0.181</td>\n",
              "      <td>0.059</td>\n",
              "    </tr>\n",
              "  </tbody>\n",
              "</table>\n",
              "</div>"
            ],
            "text/plain": [
              "   diagnosis_result  radius  texture  ...  compactness  symmetry  fractal_dimension\n",
              "0                 1      23       12  ...        0.278     0.242              0.079\n",
              "1                 0       9       13  ...        0.079     0.181              0.057\n",
              "2                 1      21       27  ...        0.160     0.207              0.060\n",
              "3                 1      14       16  ...        0.284     0.260              0.097\n",
              "4                 1       9       19  ...        0.133     0.181              0.059\n",
              "\n",
              "[5 rows x 9 columns]"
            ]
          },
          "metadata": {
            "tags": []
          },
          "execution_count": 7
        }
      ]
    },
    {
      "cell_type": "markdown",
      "metadata": {
        "id": "egO08ZevaWQU",
        "colab_type": "text"
      },
      "source": [
        "### 2.2 Re-escala dos dados usando máximo e mínimo"
      ]
    },
    {
      "cell_type": "code",
      "metadata": {
        "id": "Fzf3fkanaX_j",
        "colab_type": "code",
        "colab": {
          "base_uri": "https://localhost:8080/",
          "height": 204
        },
        "outputId": "198d9955-5abe-48b3-fede-856ab4509edf"
      },
      "source": [
        "data = (data - data.min()) / (data.max() - data.min())\n",
        "data.head()"
      ],
      "execution_count": 8,
      "outputs": [
        {
          "output_type": "execute_result",
          "data": {
            "text/html": [
              "<div>\n",
              "<style scoped>\n",
              "    .dataframe tbody tr th:only-of-type {\n",
              "        vertical-align: middle;\n",
              "    }\n",
              "\n",
              "    .dataframe tbody tr th {\n",
              "        vertical-align: top;\n",
              "    }\n",
              "\n",
              "    .dataframe thead th {\n",
              "        text-align: right;\n",
              "    }\n",
              "</style>\n",
              "<table border=\"1\" class=\"dataframe\">\n",
              "  <thead>\n",
              "    <tr style=\"text-align: right;\">\n",
              "      <th></th>\n",
              "      <th>diagnosis_result</th>\n",
              "      <th>radius</th>\n",
              "      <th>texture</th>\n",
              "      <th>perimeter</th>\n",
              "      <th>area</th>\n",
              "      <th>smoothness</th>\n",
              "      <th>compactness</th>\n",
              "      <th>symmetry</th>\n",
              "      <th>fractal_dimension</th>\n",
              "    </tr>\n",
              "  </thead>\n",
              "  <tbody>\n",
              "    <tr>\n",
              "      <th>0</th>\n",
              "      <td>1.0</td>\n",
              "      <td>0.8750</td>\n",
              "      <td>0.0625</td>\n",
              "      <td>0.825000</td>\n",
              "      <td>0.448687</td>\n",
              "      <td>1.000000</td>\n",
              "      <td>0.781759</td>\n",
              "      <td>0.633136</td>\n",
              "      <td>0.590909</td>\n",
              "    </tr>\n",
              "    <tr>\n",
              "      <th>1</th>\n",
              "      <td>0.0</td>\n",
              "      <td>0.0000</td>\n",
              "      <td>0.1250</td>\n",
              "      <td>0.675000</td>\n",
              "      <td>0.670644</td>\n",
              "      <td>1.000000</td>\n",
              "      <td>0.133550</td>\n",
              "      <td>0.272189</td>\n",
              "      <td>0.090909</td>\n",
              "    </tr>\n",
              "    <tr>\n",
              "      <th>2</th>\n",
              "      <td>1.0</td>\n",
              "      <td>0.7500</td>\n",
              "      <td>1.0000</td>\n",
              "      <td>0.650000</td>\n",
              "      <td>0.597255</td>\n",
              "      <td>0.753425</td>\n",
              "      <td>0.397394</td>\n",
              "      <td>0.426036</td>\n",
              "      <td>0.159091</td>\n",
              "    </tr>\n",
              "    <tr>\n",
              "      <th>3</th>\n",
              "      <td>1.0</td>\n",
              "      <td>0.3125</td>\n",
              "      <td>0.3125</td>\n",
              "      <td>0.216667</td>\n",
              "      <td>0.109785</td>\n",
              "      <td>0.000000</td>\n",
              "      <td>0.801303</td>\n",
              "      <td>0.739645</td>\n",
              "      <td>1.000000</td>\n",
              "    </tr>\n",
              "    <tr>\n",
              "      <th>4</th>\n",
              "      <td>1.0</td>\n",
              "      <td>0.0000</td>\n",
              "      <td>0.5000</td>\n",
              "      <td>0.691667</td>\n",
              "      <td>0.653341</td>\n",
              "      <td>0.972603</td>\n",
              "      <td>0.309446</td>\n",
              "      <td>0.272189</td>\n",
              "      <td>0.136364</td>\n",
              "    </tr>\n",
              "  </tbody>\n",
              "</table>\n",
              "</div>"
            ],
            "text/plain": [
              "   diagnosis_result  radius  texture  ...  compactness  symmetry  fractal_dimension\n",
              "0               1.0  0.8750   0.0625  ...     0.781759  0.633136           0.590909\n",
              "1               0.0  0.0000   0.1250  ...     0.133550  0.272189           0.090909\n",
              "2               1.0  0.7500   1.0000  ...     0.397394  0.426036           0.159091\n",
              "3               1.0  0.3125   0.3125  ...     0.801303  0.739645           1.000000\n",
              "4               1.0  0.0000   0.5000  ...     0.309446  0.272189           0.136364\n",
              "\n",
              "[5 rows x 9 columns]"
            ]
          },
          "metadata": {
            "tags": []
          },
          "execution_count": 8
        }
      ]
    },
    {
      "cell_type": "markdown",
      "metadata": {
        "id": "6Zq4Ab9ndApC",
        "colab_type": "text"
      },
      "source": [
        "### 2.3 Divisão dos dados"
      ]
    },
    {
      "cell_type": "markdown",
      "metadata": {
        "id": "DYSzQTGvadnf",
        "colab_type": "text"
      },
      "source": [
        "#### 2.3.1 Atributos de classe"
      ]
    },
    {
      "cell_type": "markdown",
      "metadata": {
        "id": "Y1kJHmkcbUHr",
        "colab_type": "text"
      },
      "source": [
        "Os atributos de classe para este dataset são:\n",
        "*   B (*benign*) com valor 0.0\n",
        "*   M (*malign*) com valor 1.0\n",
        "\n"
      ]
    },
    {
      "cell_type": "code",
      "metadata": {
        "id": "6a4zNmHcaiMo",
        "colab_type": "code",
        "colab": {
          "base_uri": "https://localhost:8080/",
          "height": 119
        },
        "outputId": "300b6fb6-9a76-4390-c6e2-0c8146ed52c8"
      },
      "source": [
        "y = data.diagnosis_result\n",
        "y.head()"
      ],
      "execution_count": 9,
      "outputs": [
        {
          "output_type": "execute_result",
          "data": {
            "text/plain": [
              "0    1.0\n",
              "1    0.0\n",
              "2    1.0\n",
              "3    1.0\n",
              "4    1.0\n",
              "Name: diagnosis_result, dtype: float64"
            ]
          },
          "metadata": {
            "tags": []
          },
          "execution_count": 9
        }
      ]
    },
    {
      "cell_type": "markdown",
      "metadata": {
        "id": "sKO_A-hjamZn",
        "colab_type": "text"
      },
      "source": [
        "#### 2.3.2 Atributos descritores"
      ]
    },
    {
      "cell_type": "markdown",
      "metadata": {
        "id": "1X4DqPHwb6G9",
        "colab_type": "text"
      },
      "source": [
        "Os atributos descritores para este dataset são:\n",
        "*    *radius*\n",
        "*    *texture*\n",
        "*    *perimeter*\n",
        "*    *area*\n",
        "*    *smoothness*\n",
        "*    *compactness*\n",
        "*    *symmetry*\n",
        "*    *fractal_dimension*"
      ]
    },
    {
      "cell_type": "code",
      "metadata": {
        "id": "0bG3nrb8aoYH",
        "colab_type": "code",
        "colab": {
          "base_uri": "https://localhost:8080/",
          "height": 204
        },
        "outputId": "3e8cd049-b2f4-4183-aded-76de278cf401"
      },
      "source": [
        "x = data.iloc[:, 1:]\n",
        "x.head()"
      ],
      "execution_count": 10,
      "outputs": [
        {
          "output_type": "execute_result",
          "data": {
            "text/html": [
              "<div>\n",
              "<style scoped>\n",
              "    .dataframe tbody tr th:only-of-type {\n",
              "        vertical-align: middle;\n",
              "    }\n",
              "\n",
              "    .dataframe tbody tr th {\n",
              "        vertical-align: top;\n",
              "    }\n",
              "\n",
              "    .dataframe thead th {\n",
              "        text-align: right;\n",
              "    }\n",
              "</style>\n",
              "<table border=\"1\" class=\"dataframe\">\n",
              "  <thead>\n",
              "    <tr style=\"text-align: right;\">\n",
              "      <th></th>\n",
              "      <th>radius</th>\n",
              "      <th>texture</th>\n",
              "      <th>perimeter</th>\n",
              "      <th>area</th>\n",
              "      <th>smoothness</th>\n",
              "      <th>compactness</th>\n",
              "      <th>symmetry</th>\n",
              "      <th>fractal_dimension</th>\n",
              "    </tr>\n",
              "  </thead>\n",
              "  <tbody>\n",
              "    <tr>\n",
              "      <th>0</th>\n",
              "      <td>0.8750</td>\n",
              "      <td>0.0625</td>\n",
              "      <td>0.825000</td>\n",
              "      <td>0.448687</td>\n",
              "      <td>1.000000</td>\n",
              "      <td>0.781759</td>\n",
              "      <td>0.633136</td>\n",
              "      <td>0.590909</td>\n",
              "    </tr>\n",
              "    <tr>\n",
              "      <th>1</th>\n",
              "      <td>0.0000</td>\n",
              "      <td>0.1250</td>\n",
              "      <td>0.675000</td>\n",
              "      <td>0.670644</td>\n",
              "      <td>1.000000</td>\n",
              "      <td>0.133550</td>\n",
              "      <td>0.272189</td>\n",
              "      <td>0.090909</td>\n",
              "    </tr>\n",
              "    <tr>\n",
              "      <th>2</th>\n",
              "      <td>0.7500</td>\n",
              "      <td>1.0000</td>\n",
              "      <td>0.650000</td>\n",
              "      <td>0.597255</td>\n",
              "      <td>0.753425</td>\n",
              "      <td>0.397394</td>\n",
              "      <td>0.426036</td>\n",
              "      <td>0.159091</td>\n",
              "    </tr>\n",
              "    <tr>\n",
              "      <th>3</th>\n",
              "      <td>0.3125</td>\n",
              "      <td>0.3125</td>\n",
              "      <td>0.216667</td>\n",
              "      <td>0.109785</td>\n",
              "      <td>0.000000</td>\n",
              "      <td>0.801303</td>\n",
              "      <td>0.739645</td>\n",
              "      <td>1.000000</td>\n",
              "    </tr>\n",
              "    <tr>\n",
              "      <th>4</th>\n",
              "      <td>0.0000</td>\n",
              "      <td>0.5000</td>\n",
              "      <td>0.691667</td>\n",
              "      <td>0.653341</td>\n",
              "      <td>0.972603</td>\n",
              "      <td>0.309446</td>\n",
              "      <td>0.272189</td>\n",
              "      <td>0.136364</td>\n",
              "    </tr>\n",
              "  </tbody>\n",
              "</table>\n",
              "</div>"
            ],
            "text/plain": [
              "   radius  texture  perimeter  ...  compactness  symmetry  fractal_dimension\n",
              "0  0.8750   0.0625   0.825000  ...     0.781759  0.633136           0.590909\n",
              "1  0.0000   0.1250   0.675000  ...     0.133550  0.272189           0.090909\n",
              "2  0.7500   1.0000   0.650000  ...     0.397394  0.426036           0.159091\n",
              "3  0.3125   0.3125   0.216667  ...     0.801303  0.739645           1.000000\n",
              "4  0.0000   0.5000   0.691667  ...     0.309446  0.272189           0.136364\n",
              "\n",
              "[5 rows x 8 columns]"
            ]
          },
          "metadata": {
            "tags": []
          },
          "execution_count": 10
        }
      ]
    },
    {
      "cell_type": "markdown",
      "metadata": {
        "id": "CV01qXO7cd0S",
        "colab_type": "text"
      },
      "source": [
        "## 3. Treinamentos"
      ]
    }
  ]
}