{
  "nbformat": 4,
  "nbformat_minor": 0,
  "metadata": {
    "colab": {
      "name": "ML_Atividade_4.ipynb",
      "provenance": [],
      "collapsed_sections": [],
      "authorship_tag": "ABX9TyOJa83Aj5mGzQn4B/OGmRjY",
      "include_colab_link": true
    },
    "kernelspec": {
      "name": "python3",
      "display_name": "Python 3"
    }
  },
  "cells": [
    {
      "cell_type": "markdown",
      "metadata": {
        "id": "view-in-github",
        "colab_type": "text"
      },
      "source": [
        "<a href=\"https://colab.research.google.com/github/lfnd0/Machine_Learning/blob/master/ML_Atividade_4.ipynb\" target=\"_parent\"><img src=\"https://colab.research.google.com/assets/colab-badge.svg\" alt=\"Open In Colab\"/></a>"
      ]
    },
    {
      "cell_type": "markdown",
      "metadata": {
        "id": "1kPYyjFcfYbh",
        "colab_type": "text"
      },
      "source": [
        "# Agrupamento com dados sobre câncer de próstata\n",
        "> Dataset: [Prostate cancer](https://www.kaggle.com/sajidsaifi/prostate-cancer)"
      ]
    },
    {
      "cell_type": "markdown",
      "metadata": {
        "id": "66vrinvcJ2x_",
        "colab_type": "text"
      },
      "source": [
        "## 1. Leitura dos dados"
      ]
    },
    {
      "cell_type": "code",
      "metadata": {
        "id": "aoKD6juHfOBK",
        "colab_type": "code",
        "colab": {}
      },
      "source": [
        "from google.colab import drive\n",
        "\n",
        "from sklearn.model_selection import train_test_split\n",
        "\n",
        "import pandas as pd\n",
        "import matplotlib.pyplot as plt"
      ],
      "execution_count": 12,
      "outputs": []
    },
    {
      "cell_type": "code",
      "metadata": {
        "id": "i4VweQgyfcXG",
        "colab_type": "code",
        "colab": {
          "base_uri": "https://localhost:8080/",
          "height": 34
        },
        "outputId": "ebcf4373-0b71-43a1-fe7e-2d6dd68c5dd3"
      },
      "source": [
        "drive.mount('/content/drive/')"
      ],
      "execution_count": 2,
      "outputs": [
        {
          "output_type": "stream",
          "text": [
            "Mounted at /content/drive/\n"
          ],
          "name": "stdout"
        }
      ]
    },
    {
      "cell_type": "code",
      "metadata": {
        "id": "d-f56Q9Kfg9j",
        "colab_type": "code",
        "colab": {
          "base_uri": "https://localhost:8080/",
          "height": 204
        },
        "outputId": "74681c60-4b99-44a8-8f6e-3cddfb8bda06"
      },
      "source": [
        "data = pd.read_csv('/content/drive/My Drive/Machine_Learning/Datasets/Atividade_4/ca_prostata.csv')\n",
        "data.head()"
      ],
      "execution_count": 3,
      "outputs": [
        {
          "output_type": "execute_result",
          "data": {
            "text/html": [
              "<div>\n",
              "<style scoped>\n",
              "    .dataframe tbody tr th:only-of-type {\n",
              "        vertical-align: middle;\n",
              "    }\n",
              "\n",
              "    .dataframe tbody tr th {\n",
              "        vertical-align: top;\n",
              "    }\n",
              "\n",
              "    .dataframe thead th {\n",
              "        text-align: right;\n",
              "    }\n",
              "</style>\n",
              "<table border=\"1\" class=\"dataframe\">\n",
              "  <thead>\n",
              "    <tr style=\"text-align: right;\">\n",
              "      <th></th>\n",
              "      <th>id</th>\n",
              "      <th>diagnosis_result</th>\n",
              "      <th>radius</th>\n",
              "      <th>texture</th>\n",
              "      <th>perimeter</th>\n",
              "      <th>area</th>\n",
              "      <th>smoothness</th>\n",
              "      <th>compactness</th>\n",
              "      <th>symmetry</th>\n",
              "      <th>fractal_dimension</th>\n",
              "    </tr>\n",
              "  </thead>\n",
              "  <tbody>\n",
              "    <tr>\n",
              "      <th>0</th>\n",
              "      <td>1</td>\n",
              "      <td>M</td>\n",
              "      <td>23</td>\n",
              "      <td>12</td>\n",
              "      <td>151</td>\n",
              "      <td>954</td>\n",
              "      <td>0.143</td>\n",
              "      <td>0.278</td>\n",
              "      <td>0.242</td>\n",
              "      <td>0.079</td>\n",
              "    </tr>\n",
              "    <tr>\n",
              "      <th>1</th>\n",
              "      <td>2</td>\n",
              "      <td>B</td>\n",
              "      <td>9</td>\n",
              "      <td>13</td>\n",
              "      <td>133</td>\n",
              "      <td>1326</td>\n",
              "      <td>0.143</td>\n",
              "      <td>0.079</td>\n",
              "      <td>0.181</td>\n",
              "      <td>0.057</td>\n",
              "    </tr>\n",
              "    <tr>\n",
              "      <th>2</th>\n",
              "      <td>3</td>\n",
              "      <td>M</td>\n",
              "      <td>21</td>\n",
              "      <td>27</td>\n",
              "      <td>130</td>\n",
              "      <td>1203</td>\n",
              "      <td>0.125</td>\n",
              "      <td>0.160</td>\n",
              "      <td>0.207</td>\n",
              "      <td>0.060</td>\n",
              "    </tr>\n",
              "    <tr>\n",
              "      <th>3</th>\n",
              "      <td>4</td>\n",
              "      <td>M</td>\n",
              "      <td>14</td>\n",
              "      <td>16</td>\n",
              "      <td>78</td>\n",
              "      <td>386</td>\n",
              "      <td>0.070</td>\n",
              "      <td>0.284</td>\n",
              "      <td>0.260</td>\n",
              "      <td>0.097</td>\n",
              "    </tr>\n",
              "    <tr>\n",
              "      <th>4</th>\n",
              "      <td>5</td>\n",
              "      <td>M</td>\n",
              "      <td>9</td>\n",
              "      <td>19</td>\n",
              "      <td>135</td>\n",
              "      <td>1297</td>\n",
              "      <td>0.141</td>\n",
              "      <td>0.133</td>\n",
              "      <td>0.181</td>\n",
              "      <td>0.059</td>\n",
              "    </tr>\n",
              "  </tbody>\n",
              "</table>\n",
              "</div>"
            ],
            "text/plain": [
              "   id diagnosis_result  radius  ...  compactness  symmetry  fractal_dimension\n",
              "0   1                M      23  ...        0.278     0.242              0.079\n",
              "1   2                B       9  ...        0.079     0.181              0.057\n",
              "2   3                M      21  ...        0.160     0.207              0.060\n",
              "3   4                M      14  ...        0.284     0.260              0.097\n",
              "4   5                M       9  ...        0.133     0.181              0.059\n",
              "\n",
              "[5 rows x 10 columns]"
            ]
          },
          "metadata": {
            "tags": []
          },
          "execution_count": 3
        }
      ]
    },
    {
      "cell_type": "markdown",
      "metadata": {
        "id": "M-X-UHdYfa5S",
        "colab_type": "text"
      },
      "source": [
        "## 2. Limpeza e organização dos dados"
      ]
    },
    {
      "cell_type": "markdown",
      "metadata": {
        "id": "e5VNdNcDfjy0",
        "colab_type": "text"
      },
      "source": [
        "### 2.1 Limpeza dos dados"
      ]
    },
    {
      "cell_type": "markdown",
      "metadata": {
        "id": "aV1VLEWPfjax",
        "colab_type": "text"
      },
      "source": [
        "#### 2.1.1 Remoção da coluna 'id'"
      ]
    },
    {
      "cell_type": "code",
      "metadata": {
        "id": "v5pBI1lgfpBR",
        "colab_type": "code",
        "colab": {
          "base_uri": "https://localhost:8080/",
          "height": 204
        },
        "outputId": "307456a2-a646-4702-c40c-0688b750cb30"
      },
      "source": [
        "data = data.dropna()\n",
        "data = data.drop(columns = ['id'])\n",
        "data.head()"
      ],
      "execution_count": 4,
      "outputs": [
        {
          "output_type": "execute_result",
          "data": {
            "text/html": [
              "<div>\n",
              "<style scoped>\n",
              "    .dataframe tbody tr th:only-of-type {\n",
              "        vertical-align: middle;\n",
              "    }\n",
              "\n",
              "    .dataframe tbody tr th {\n",
              "        vertical-align: top;\n",
              "    }\n",
              "\n",
              "    .dataframe thead th {\n",
              "        text-align: right;\n",
              "    }\n",
              "</style>\n",
              "<table border=\"1\" class=\"dataframe\">\n",
              "  <thead>\n",
              "    <tr style=\"text-align: right;\">\n",
              "      <th></th>\n",
              "      <th>diagnosis_result</th>\n",
              "      <th>radius</th>\n",
              "      <th>texture</th>\n",
              "      <th>perimeter</th>\n",
              "      <th>area</th>\n",
              "      <th>smoothness</th>\n",
              "      <th>compactness</th>\n",
              "      <th>symmetry</th>\n",
              "      <th>fractal_dimension</th>\n",
              "    </tr>\n",
              "  </thead>\n",
              "  <tbody>\n",
              "    <tr>\n",
              "      <th>0</th>\n",
              "      <td>M</td>\n",
              "      <td>23</td>\n",
              "      <td>12</td>\n",
              "      <td>151</td>\n",
              "      <td>954</td>\n",
              "      <td>0.143</td>\n",
              "      <td>0.278</td>\n",
              "      <td>0.242</td>\n",
              "      <td>0.079</td>\n",
              "    </tr>\n",
              "    <tr>\n",
              "      <th>1</th>\n",
              "      <td>B</td>\n",
              "      <td>9</td>\n",
              "      <td>13</td>\n",
              "      <td>133</td>\n",
              "      <td>1326</td>\n",
              "      <td>0.143</td>\n",
              "      <td>0.079</td>\n",
              "      <td>0.181</td>\n",
              "      <td>0.057</td>\n",
              "    </tr>\n",
              "    <tr>\n",
              "      <th>2</th>\n",
              "      <td>M</td>\n",
              "      <td>21</td>\n",
              "      <td>27</td>\n",
              "      <td>130</td>\n",
              "      <td>1203</td>\n",
              "      <td>0.125</td>\n",
              "      <td>0.160</td>\n",
              "      <td>0.207</td>\n",
              "      <td>0.060</td>\n",
              "    </tr>\n",
              "    <tr>\n",
              "      <th>3</th>\n",
              "      <td>M</td>\n",
              "      <td>14</td>\n",
              "      <td>16</td>\n",
              "      <td>78</td>\n",
              "      <td>386</td>\n",
              "      <td>0.070</td>\n",
              "      <td>0.284</td>\n",
              "      <td>0.260</td>\n",
              "      <td>0.097</td>\n",
              "    </tr>\n",
              "    <tr>\n",
              "      <th>4</th>\n",
              "      <td>M</td>\n",
              "      <td>9</td>\n",
              "      <td>19</td>\n",
              "      <td>135</td>\n",
              "      <td>1297</td>\n",
              "      <td>0.141</td>\n",
              "      <td>0.133</td>\n",
              "      <td>0.181</td>\n",
              "      <td>0.059</td>\n",
              "    </tr>\n",
              "  </tbody>\n",
              "</table>\n",
              "</div>"
            ],
            "text/plain": [
              "  diagnosis_result  radius  texture  ...  compactness  symmetry  fractal_dimension\n",
              "0                M      23       12  ...        0.278     0.242              0.079\n",
              "1                B       9       13  ...        0.079     0.181              0.057\n",
              "2                M      21       27  ...        0.160     0.207              0.060\n",
              "3                M      14       16  ...        0.284     0.260              0.097\n",
              "4                M       9       19  ...        0.133     0.181              0.059\n",
              "\n",
              "[5 rows x 9 columns]"
            ]
          },
          "metadata": {
            "tags": []
          },
          "execution_count": 4
        }
      ]
    },
    {
      "cell_type": "markdown",
      "metadata": {
        "id": "8AQ5pPW0fsGZ",
        "colab_type": "text"
      },
      "source": [
        "#### 2.1.2 Mudança dos valores 'B' e 'M' para '0' e '1'"
      ]
    },
    {
      "cell_type": "code",
      "metadata": {
        "id": "Q0EpMMSlfssp",
        "colab_type": "code",
        "colab": {
          "base_uri": "https://localhost:8080/",
          "height": 204
        },
        "outputId": "1eef8333-c825-40de-fe2a-804ff8344a27"
      },
      "source": [
        "data['diagnosis_result'] = data['diagnosis_result'].replace(['B', 'M'], [0, 1])\n",
        "data.head()"
      ],
      "execution_count": 5,
      "outputs": [
        {
          "output_type": "execute_result",
          "data": {
            "text/html": [
              "<div>\n",
              "<style scoped>\n",
              "    .dataframe tbody tr th:only-of-type {\n",
              "        vertical-align: middle;\n",
              "    }\n",
              "\n",
              "    .dataframe tbody tr th {\n",
              "        vertical-align: top;\n",
              "    }\n",
              "\n",
              "    .dataframe thead th {\n",
              "        text-align: right;\n",
              "    }\n",
              "</style>\n",
              "<table border=\"1\" class=\"dataframe\">\n",
              "  <thead>\n",
              "    <tr style=\"text-align: right;\">\n",
              "      <th></th>\n",
              "      <th>diagnosis_result</th>\n",
              "      <th>radius</th>\n",
              "      <th>texture</th>\n",
              "      <th>perimeter</th>\n",
              "      <th>area</th>\n",
              "      <th>smoothness</th>\n",
              "      <th>compactness</th>\n",
              "      <th>symmetry</th>\n",
              "      <th>fractal_dimension</th>\n",
              "    </tr>\n",
              "  </thead>\n",
              "  <tbody>\n",
              "    <tr>\n",
              "      <th>0</th>\n",
              "      <td>1</td>\n",
              "      <td>23</td>\n",
              "      <td>12</td>\n",
              "      <td>151</td>\n",
              "      <td>954</td>\n",
              "      <td>0.143</td>\n",
              "      <td>0.278</td>\n",
              "      <td>0.242</td>\n",
              "      <td>0.079</td>\n",
              "    </tr>\n",
              "    <tr>\n",
              "      <th>1</th>\n",
              "      <td>0</td>\n",
              "      <td>9</td>\n",
              "      <td>13</td>\n",
              "      <td>133</td>\n",
              "      <td>1326</td>\n",
              "      <td>0.143</td>\n",
              "      <td>0.079</td>\n",
              "      <td>0.181</td>\n",
              "      <td>0.057</td>\n",
              "    </tr>\n",
              "    <tr>\n",
              "      <th>2</th>\n",
              "      <td>1</td>\n",
              "      <td>21</td>\n",
              "      <td>27</td>\n",
              "      <td>130</td>\n",
              "      <td>1203</td>\n",
              "      <td>0.125</td>\n",
              "      <td>0.160</td>\n",
              "      <td>0.207</td>\n",
              "      <td>0.060</td>\n",
              "    </tr>\n",
              "    <tr>\n",
              "      <th>3</th>\n",
              "      <td>1</td>\n",
              "      <td>14</td>\n",
              "      <td>16</td>\n",
              "      <td>78</td>\n",
              "      <td>386</td>\n",
              "      <td>0.070</td>\n",
              "      <td>0.284</td>\n",
              "      <td>0.260</td>\n",
              "      <td>0.097</td>\n",
              "    </tr>\n",
              "    <tr>\n",
              "      <th>4</th>\n",
              "      <td>1</td>\n",
              "      <td>9</td>\n",
              "      <td>19</td>\n",
              "      <td>135</td>\n",
              "      <td>1297</td>\n",
              "      <td>0.141</td>\n",
              "      <td>0.133</td>\n",
              "      <td>0.181</td>\n",
              "      <td>0.059</td>\n",
              "    </tr>\n",
              "  </tbody>\n",
              "</table>\n",
              "</div>"
            ],
            "text/plain": [
              "   diagnosis_result  radius  texture  ...  compactness  symmetry  fractal_dimension\n",
              "0                 1      23       12  ...        0.278     0.242              0.079\n",
              "1                 0       9       13  ...        0.079     0.181              0.057\n",
              "2                 1      21       27  ...        0.160     0.207              0.060\n",
              "3                 1      14       16  ...        0.284     0.260              0.097\n",
              "4                 1       9       19  ...        0.133     0.181              0.059\n",
              "\n",
              "[5 rows x 9 columns]"
            ]
          },
          "metadata": {
            "tags": []
          },
          "execution_count": 5
        }
      ]
    },
    {
      "cell_type": "markdown",
      "metadata": {
        "id": "CDKGjTA-f59k",
        "colab_type": "text"
      },
      "source": [
        "### 2.2 Re-escala dos dados usando máximo e mínimo"
      ]
    },
    {
      "cell_type": "code",
      "metadata": {
        "id": "Jr-E9YcYf6mB",
        "colab_type": "code",
        "colab": {
          "base_uri": "https://localhost:8080/",
          "height": 204
        },
        "outputId": "87fa0b90-9150-41c3-9316-4dbcfe9accb2"
      },
      "source": [
        "data = (data - data.min()) / (data.max() - data.min())\n",
        "data.head()"
      ],
      "execution_count": 6,
      "outputs": [
        {
          "output_type": "execute_result",
          "data": {
            "text/html": [
              "<div>\n",
              "<style scoped>\n",
              "    .dataframe tbody tr th:only-of-type {\n",
              "        vertical-align: middle;\n",
              "    }\n",
              "\n",
              "    .dataframe tbody tr th {\n",
              "        vertical-align: top;\n",
              "    }\n",
              "\n",
              "    .dataframe thead th {\n",
              "        text-align: right;\n",
              "    }\n",
              "</style>\n",
              "<table border=\"1\" class=\"dataframe\">\n",
              "  <thead>\n",
              "    <tr style=\"text-align: right;\">\n",
              "      <th></th>\n",
              "      <th>diagnosis_result</th>\n",
              "      <th>radius</th>\n",
              "      <th>texture</th>\n",
              "      <th>perimeter</th>\n",
              "      <th>area</th>\n",
              "      <th>smoothness</th>\n",
              "      <th>compactness</th>\n",
              "      <th>symmetry</th>\n",
              "      <th>fractal_dimension</th>\n",
              "    </tr>\n",
              "  </thead>\n",
              "  <tbody>\n",
              "    <tr>\n",
              "      <th>0</th>\n",
              "      <td>1.0</td>\n",
              "      <td>0.8750</td>\n",
              "      <td>0.0625</td>\n",
              "      <td>0.825000</td>\n",
              "      <td>0.448687</td>\n",
              "      <td>1.000000</td>\n",
              "      <td>0.781759</td>\n",
              "      <td>0.633136</td>\n",
              "      <td>0.590909</td>\n",
              "    </tr>\n",
              "    <tr>\n",
              "      <th>1</th>\n",
              "      <td>0.0</td>\n",
              "      <td>0.0000</td>\n",
              "      <td>0.1250</td>\n",
              "      <td>0.675000</td>\n",
              "      <td>0.670644</td>\n",
              "      <td>1.000000</td>\n",
              "      <td>0.133550</td>\n",
              "      <td>0.272189</td>\n",
              "      <td>0.090909</td>\n",
              "    </tr>\n",
              "    <tr>\n",
              "      <th>2</th>\n",
              "      <td>1.0</td>\n",
              "      <td>0.7500</td>\n",
              "      <td>1.0000</td>\n",
              "      <td>0.650000</td>\n",
              "      <td>0.597255</td>\n",
              "      <td>0.753425</td>\n",
              "      <td>0.397394</td>\n",
              "      <td>0.426036</td>\n",
              "      <td>0.159091</td>\n",
              "    </tr>\n",
              "    <tr>\n",
              "      <th>3</th>\n",
              "      <td>1.0</td>\n",
              "      <td>0.3125</td>\n",
              "      <td>0.3125</td>\n",
              "      <td>0.216667</td>\n",
              "      <td>0.109785</td>\n",
              "      <td>0.000000</td>\n",
              "      <td>0.801303</td>\n",
              "      <td>0.739645</td>\n",
              "      <td>1.000000</td>\n",
              "    </tr>\n",
              "    <tr>\n",
              "      <th>4</th>\n",
              "      <td>1.0</td>\n",
              "      <td>0.0000</td>\n",
              "      <td>0.5000</td>\n",
              "      <td>0.691667</td>\n",
              "      <td>0.653341</td>\n",
              "      <td>0.972603</td>\n",
              "      <td>0.309446</td>\n",
              "      <td>0.272189</td>\n",
              "      <td>0.136364</td>\n",
              "    </tr>\n",
              "  </tbody>\n",
              "</table>\n",
              "</div>"
            ],
            "text/plain": [
              "   diagnosis_result  radius  texture  ...  compactness  symmetry  fractal_dimension\n",
              "0               1.0  0.8750   0.0625  ...     0.781759  0.633136           0.590909\n",
              "1               0.0  0.0000   0.1250  ...     0.133550  0.272189           0.090909\n",
              "2               1.0  0.7500   1.0000  ...     0.397394  0.426036           0.159091\n",
              "3               1.0  0.3125   0.3125  ...     0.801303  0.739645           1.000000\n",
              "4               1.0  0.0000   0.5000  ...     0.309446  0.272189           0.136364\n",
              "\n",
              "[5 rows x 9 columns]"
            ]
          },
          "metadata": {
            "tags": []
          },
          "execution_count": 6
        }
      ]
    },
    {
      "cell_type": "markdown",
      "metadata": {
        "id": "0JUgtKvJf-qO",
        "colab_type": "text"
      },
      "source": [
        "### 2.3 Divisão dos dados"
      ]
    },
    {
      "cell_type": "markdown",
      "metadata": {
        "id": "LHGhzYzaf-hr",
        "colab_type": "text"
      },
      "source": [
        "#### 2.3.1 Atributos de classe"
      ]
    },
    {
      "cell_type": "markdown",
      "metadata": {
        "id": "VneKv5Zkf_BC",
        "colab_type": "text"
      },
      "source": [
        "Os atributos de classe para este dataset são:\n",
        "*   B (*benign*) com valor 0.0\n",
        "*   M (*malign*) com valor 1.0"
      ]
    },
    {
      "cell_type": "code",
      "metadata": {
        "id": "w5vjGQkZgA48",
        "colab_type": "code",
        "colab": {
          "base_uri": "https://localhost:8080/",
          "height": 119
        },
        "outputId": "61c32fb7-4624-4245-c5ba-516260bc823c"
      },
      "source": [
        "y = data.diagnosis_result\n",
        "y.head()"
      ],
      "execution_count": 7,
      "outputs": [
        {
          "output_type": "execute_result",
          "data": {
            "text/plain": [
              "0    1.0\n",
              "1    0.0\n",
              "2    1.0\n",
              "3    1.0\n",
              "4    1.0\n",
              "Name: diagnosis_result, dtype: float64"
            ]
          },
          "metadata": {
            "tags": []
          },
          "execution_count": 7
        }
      ]
    },
    {
      "cell_type": "markdown",
      "metadata": {
        "id": "mVgwjtXPgHY9",
        "colab_type": "text"
      },
      "source": [
        "#### 2.3.2 Atributos descritores"
      ]
    },
    {
      "cell_type": "markdown",
      "metadata": {
        "id": "q768gK9DgHVB",
        "colab_type": "text"
      },
      "source": [
        "Os atributos descritores para este dataset são:\n",
        "*    *radius*\n",
        "*    *texture*\n",
        "*    *perimeter*\n",
        "*    *area*\n",
        "*    *smoothness*\n",
        "*    *compactness*\n",
        "*    *symmetry*\n",
        "*    *fractal_dimension*"
      ]
    },
    {
      "cell_type": "code",
      "metadata": {
        "id": "ohlvkYWpgH2f",
        "colab_type": "code",
        "colab": {
          "base_uri": "https://localhost:8080/",
          "height": 204
        },
        "outputId": "26ccf340-8ae8-42e8-abcf-ba91d48de3db"
      },
      "source": [
        "x = data.iloc[:, 1:]\n",
        "x.head()"
      ],
      "execution_count": 8,
      "outputs": [
        {
          "output_type": "execute_result",
          "data": {
            "text/html": [
              "<div>\n",
              "<style scoped>\n",
              "    .dataframe tbody tr th:only-of-type {\n",
              "        vertical-align: middle;\n",
              "    }\n",
              "\n",
              "    .dataframe tbody tr th {\n",
              "        vertical-align: top;\n",
              "    }\n",
              "\n",
              "    .dataframe thead th {\n",
              "        text-align: right;\n",
              "    }\n",
              "</style>\n",
              "<table border=\"1\" class=\"dataframe\">\n",
              "  <thead>\n",
              "    <tr style=\"text-align: right;\">\n",
              "      <th></th>\n",
              "      <th>radius</th>\n",
              "      <th>texture</th>\n",
              "      <th>perimeter</th>\n",
              "      <th>area</th>\n",
              "      <th>smoothness</th>\n",
              "      <th>compactness</th>\n",
              "      <th>symmetry</th>\n",
              "      <th>fractal_dimension</th>\n",
              "    </tr>\n",
              "  </thead>\n",
              "  <tbody>\n",
              "    <tr>\n",
              "      <th>0</th>\n",
              "      <td>0.8750</td>\n",
              "      <td>0.0625</td>\n",
              "      <td>0.825000</td>\n",
              "      <td>0.448687</td>\n",
              "      <td>1.000000</td>\n",
              "      <td>0.781759</td>\n",
              "      <td>0.633136</td>\n",
              "      <td>0.590909</td>\n",
              "    </tr>\n",
              "    <tr>\n",
              "      <th>1</th>\n",
              "      <td>0.0000</td>\n",
              "      <td>0.1250</td>\n",
              "      <td>0.675000</td>\n",
              "      <td>0.670644</td>\n",
              "      <td>1.000000</td>\n",
              "      <td>0.133550</td>\n",
              "      <td>0.272189</td>\n",
              "      <td>0.090909</td>\n",
              "    </tr>\n",
              "    <tr>\n",
              "      <th>2</th>\n",
              "      <td>0.7500</td>\n",
              "      <td>1.0000</td>\n",
              "      <td>0.650000</td>\n",
              "      <td>0.597255</td>\n",
              "      <td>0.753425</td>\n",
              "      <td>0.397394</td>\n",
              "      <td>0.426036</td>\n",
              "      <td>0.159091</td>\n",
              "    </tr>\n",
              "    <tr>\n",
              "      <th>3</th>\n",
              "      <td>0.3125</td>\n",
              "      <td>0.3125</td>\n",
              "      <td>0.216667</td>\n",
              "      <td>0.109785</td>\n",
              "      <td>0.000000</td>\n",
              "      <td>0.801303</td>\n",
              "      <td>0.739645</td>\n",
              "      <td>1.000000</td>\n",
              "    </tr>\n",
              "    <tr>\n",
              "      <th>4</th>\n",
              "      <td>0.0000</td>\n",
              "      <td>0.5000</td>\n",
              "      <td>0.691667</td>\n",
              "      <td>0.653341</td>\n",
              "      <td>0.972603</td>\n",
              "      <td>0.309446</td>\n",
              "      <td>0.272189</td>\n",
              "      <td>0.136364</td>\n",
              "    </tr>\n",
              "  </tbody>\n",
              "</table>\n",
              "</div>"
            ],
            "text/plain": [
              "   radius  texture  perimeter  ...  compactness  symmetry  fractal_dimension\n",
              "0  0.8750   0.0625   0.825000  ...     0.781759  0.633136           0.590909\n",
              "1  0.0000   0.1250   0.675000  ...     0.133550  0.272189           0.090909\n",
              "2  0.7500   1.0000   0.650000  ...     0.397394  0.426036           0.159091\n",
              "3  0.3125   0.3125   0.216667  ...     0.801303  0.739645           1.000000\n",
              "4  0.0000   0.5000   0.691667  ...     0.309446  0.272189           0.136364\n",
              "\n",
              "[5 rows x 8 columns]"
            ]
          },
          "metadata": {
            "tags": []
          },
          "execution_count": 8
        }
      ]
    },
    {
      "cell_type": "markdown",
      "metadata": {
        "id": "nHdS7Q7YLl72",
        "colab_type": "text"
      },
      "source": [
        "#### 2.3.3 Conjunto de treino e conjunto de teste"
      ]
    },
    {
      "cell_type": "code",
      "metadata": {
        "id": "wL_kkzKJL0ju",
        "colab_type": "code",
        "colab": {}
      },
      "source": [
        "x_train, x_test, y_train, y_test = train_test_split(x, y, test_size =  0.2)"
      ],
      "execution_count": 13,
      "outputs": []
    },
    {
      "cell_type": "markdown",
      "metadata": {
        "id": "6bIHXGQ6L-AS",
        "colab_type": "text"
      },
      "source": [
        "##### Conjunto de treino para os atributos de classe"
      ]
    },
    {
      "cell_type": "code",
      "metadata": {
        "id": "GjwX9DTuLmlI",
        "colab_type": "code",
        "colab": {
          "base_uri": "https://localhost:8080/",
          "height": 119
        },
        "outputId": "d5ab3d73-1c76-4cd2-8a34-bfafe1ef4afd"
      },
      "source": [
        "y_train.head()"
      ],
      "execution_count": 14,
      "outputs": [
        {
          "output_type": "execute_result",
          "data": {
            "text/plain": [
              "64    1.0\n",
              "63    0.0\n",
              "2     1.0\n",
              "72    1.0\n",
              "51    0.0\n",
              "Name: diagnosis_result, dtype: float64"
            ]
          },
          "metadata": {
            "tags": []
          },
          "execution_count": 14
        }
      ]
    },
    {
      "cell_type": "markdown",
      "metadata": {
        "id": "NCNd2ROPLnCI",
        "colab_type": "text"
      },
      "source": [
        "##### Conjunto de treino para os atributos descritores"
      ]
    },
    {
      "cell_type": "code",
      "metadata": {
        "id": "8xcDUg9KLnXH",
        "colab_type": "code",
        "colab": {
          "base_uri": "https://localhost:8080/",
          "height": 204
        },
        "outputId": "fc73c746-2350-4840-c896-05713b6c6192"
      },
      "source": [
        "x_train.head()"
      ],
      "execution_count": 15,
      "outputs": [
        {
          "output_type": "execute_result",
          "data": {
            "text/html": [
              "<div>\n",
              "<style scoped>\n",
              "    .dataframe tbody tr th:only-of-type {\n",
              "        vertical-align: middle;\n",
              "    }\n",
              "\n",
              "    .dataframe tbody tr th {\n",
              "        vertical-align: top;\n",
              "    }\n",
              "\n",
              "    .dataframe thead th {\n",
              "        text-align: right;\n",
              "    }\n",
              "</style>\n",
              "<table border=\"1\" class=\"dataframe\">\n",
              "  <thead>\n",
              "    <tr style=\"text-align: right;\">\n",
              "      <th></th>\n",
              "      <th>radius</th>\n",
              "      <th>texture</th>\n",
              "      <th>perimeter</th>\n",
              "      <th>area</th>\n",
              "      <th>smoothness</th>\n",
              "      <th>compactness</th>\n",
              "      <th>symmetry</th>\n",
              "      <th>fractal_dimension</th>\n",
              "    </tr>\n",
              "  </thead>\n",
              "  <tbody>\n",
              "    <tr>\n",
              "      <th>64</th>\n",
              "      <td>0.4375</td>\n",
              "      <td>0.5000</td>\n",
              "      <td>0.258333</td>\n",
              "      <td>0.177208</td>\n",
              "      <td>0.575342</td>\n",
              "      <td>0.286645</td>\n",
              "      <td>0.331361</td>\n",
              "      <td>0.295455</td>\n",
              "    </tr>\n",
              "    <tr>\n",
              "      <th>63</th>\n",
              "      <td>0.9375</td>\n",
              "      <td>0.3750</td>\n",
              "      <td>0.058333</td>\n",
              "      <td>0.035203</td>\n",
              "      <td>0.095890</td>\n",
              "      <td>0.162866</td>\n",
              "      <td>0.585799</td>\n",
              "      <td>0.386364</td>\n",
              "    </tr>\n",
              "    <tr>\n",
              "      <th>2</th>\n",
              "      <td>0.7500</td>\n",
              "      <td>1.0000</td>\n",
              "      <td>0.650000</td>\n",
              "      <td>0.597255</td>\n",
              "      <td>0.753425</td>\n",
              "      <td>0.397394</td>\n",
              "      <td>0.426036</td>\n",
              "      <td>0.159091</td>\n",
              "    </tr>\n",
              "    <tr>\n",
              "      <th>72</th>\n",
              "      <td>0.7500</td>\n",
              "      <td>0.0625</td>\n",
              "      <td>0.516667</td>\n",
              "      <td>0.433771</td>\n",
              "      <td>0.506849</td>\n",
              "      <td>0.472313</td>\n",
              "      <td>0.343195</td>\n",
              "      <td>0.272727</td>\n",
              "    </tr>\n",
              "    <tr>\n",
              "      <th>51</th>\n",
              "      <td>0.6250</td>\n",
              "      <td>0.6875</td>\n",
              "      <td>0.291667</td>\n",
              "      <td>0.220764</td>\n",
              "      <td>0.095890</td>\n",
              "      <td>0.074919</td>\n",
              "      <td>0.000000</td>\n",
              "      <td>0.159091</td>\n",
              "    </tr>\n",
              "  </tbody>\n",
              "</table>\n",
              "</div>"
            ],
            "text/plain": [
              "    radius  texture  perimeter  ...  compactness  symmetry  fractal_dimension\n",
              "64  0.4375   0.5000   0.258333  ...     0.286645  0.331361           0.295455\n",
              "63  0.9375   0.3750   0.058333  ...     0.162866  0.585799           0.386364\n",
              "2   0.7500   1.0000   0.650000  ...     0.397394  0.426036           0.159091\n",
              "72  0.7500   0.0625   0.516667  ...     0.472313  0.343195           0.272727\n",
              "51  0.6250   0.6875   0.291667  ...     0.074919  0.000000           0.159091\n",
              "\n",
              "[5 rows x 8 columns]"
            ]
          },
          "metadata": {
            "tags": []
          },
          "execution_count": 15
        }
      ]
    },
    {
      "cell_type": "markdown",
      "metadata": {
        "id": "5_-G__utMb8g",
        "colab_type": "text"
      },
      "source": [
        "## 3. Agrupamento"
      ]
    },
    {
      "cell_type": "markdown",
      "metadata": {
        "id": "E2sefuD1NItI",
        "colab_type": "text"
      },
      "source": [
        "## 4. Considerações"
      ]
    }
  ]
}