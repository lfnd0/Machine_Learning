{
  "nbformat": 4,
  "nbformat_minor": 0,
  "metadata": {
    "colab": {
      "name": "ML_Atividade_4.ipynb",
      "provenance": [],
      "collapsed_sections": [],
      "authorship_tag": "ABX9TyNSYmVgX2G+SE4gMxFvc7lq",
      "include_colab_link": true
    },
    "kernelspec": {
      "name": "python3",
      "display_name": "Python 3"
    }
  },
  "cells": [
    {
      "cell_type": "markdown",
      "metadata": {
        "id": "view-in-github",
        "colab_type": "text"
      },
      "source": [
        "<a href=\"https://colab.research.google.com/github/lfnd0/Machine_Learning/blob/master/ML_Atividade_4.ipynb\" target=\"_parent\"><img src=\"https://colab.research.google.com/assets/colab-badge.svg\" alt=\"Open In Colab\"/></a>"
      ]
    },
    {
      "cell_type": "markdown",
      "metadata": {
        "id": "1kPYyjFcfYbh"
      },
      "source": [
        "# Agrupamento com dados sobre câncer de próstata\n",
        "> Dataset: [Prostate cancer](https://www.kaggle.com/sajidsaifi/prostate-cancer)"
      ]
    },
    {
      "cell_type": "markdown",
      "metadata": {
        "id": "66vrinvcJ2x_"
      },
      "source": [
        "## 1. Leitura dos dados"
      ]
    },
    {
      "cell_type": "code",
      "metadata": {
        "id": "aoKD6juHfOBK"
      },
      "source": [
        "from google.colab import drive\n",
        "\n",
        "from sklearn.cluster import KMeans\n",
        "from sklearn.metrics import accuracy_score\n",
        "from sklearn.metrics import adjusted_rand_score\n",
        "from sklearn.metrics import adjusted_mutual_info_score\n",
        "from sklearn.metrics import fowlkes_mallows_score\n",
        "from sklearn.metrics import davies_bouldin_score\n",
        "from sklearn.metrics import silhouette_score\n",
        "from sklearn.metrics import calinski_harabasz_score\n",
        "from sklearn.cluster import AgglomerativeClustering\n",
        "\n",
        "import pandas as pd\n",
        "import matplotlib.pyplot as plt"
      ],
      "execution_count": null,
      "outputs": []
    },
    {
      "cell_type": "code",
      "metadata": {
        "id": "i4VweQgyfcXG",
        "outputId": "3118c8d2-21e4-4abc-e6c5-775db96d2fa4",
        "colab": {
          "base_uri": "https://localhost:8080/",
          "height": 34
        }
      },
      "source": [
        "drive.mount('/content/drive/')"
      ],
      "execution_count": null,
      "outputs": [
        {
          "output_type": "stream",
          "text": [
            "Drive already mounted at /content/drive/; to attempt to forcibly remount, call drive.mount(\"/content/drive/\", force_remount=True).\n"
          ],
          "name": "stdout"
        }
      ]
    },
    {
      "cell_type": "code",
      "metadata": {
        "id": "d-f56Q9Kfg9j",
        "outputId": "ddf188e8-aec9-4b72-ce29-f8682636e968",
        "colab": {
          "base_uri": "https://localhost:8080/",
          "height": 204
        }
      },
      "source": [
        "data = pd.read_csv('/content/drive/My Drive/Machine_Learning/Datasets/Atividade_4/ca_prostata.csv')\n",
        "data.head()"
      ],
      "execution_count": null,
      "outputs": [
        {
          "output_type": "execute_result",
          "data": {
            "text/html": [
              "<div>\n",
              "<style scoped>\n",
              "    .dataframe tbody tr th:only-of-type {\n",
              "        vertical-align: middle;\n",
              "    }\n",
              "\n",
              "    .dataframe tbody tr th {\n",
              "        vertical-align: top;\n",
              "    }\n",
              "\n",
              "    .dataframe thead th {\n",
              "        text-align: right;\n",
              "    }\n",
              "</style>\n",
              "<table border=\"1\" class=\"dataframe\">\n",
              "  <thead>\n",
              "    <tr style=\"text-align: right;\">\n",
              "      <th></th>\n",
              "      <th>id</th>\n",
              "      <th>diagnosis_result</th>\n",
              "      <th>radius</th>\n",
              "      <th>texture</th>\n",
              "      <th>perimeter</th>\n",
              "      <th>area</th>\n",
              "      <th>smoothness</th>\n",
              "      <th>compactness</th>\n",
              "      <th>symmetry</th>\n",
              "      <th>fractal_dimension</th>\n",
              "    </tr>\n",
              "  </thead>\n",
              "  <tbody>\n",
              "    <tr>\n",
              "      <th>0</th>\n",
              "      <td>1</td>\n",
              "      <td>M</td>\n",
              "      <td>23</td>\n",
              "      <td>12</td>\n",
              "      <td>151</td>\n",
              "      <td>954</td>\n",
              "      <td>0.143</td>\n",
              "      <td>0.278</td>\n",
              "      <td>0.242</td>\n",
              "      <td>0.079</td>\n",
              "    </tr>\n",
              "    <tr>\n",
              "      <th>1</th>\n",
              "      <td>2</td>\n",
              "      <td>B</td>\n",
              "      <td>9</td>\n",
              "      <td>13</td>\n",
              "      <td>133</td>\n",
              "      <td>1326</td>\n",
              "      <td>0.143</td>\n",
              "      <td>0.079</td>\n",
              "      <td>0.181</td>\n",
              "      <td>0.057</td>\n",
              "    </tr>\n",
              "    <tr>\n",
              "      <th>2</th>\n",
              "      <td>3</td>\n",
              "      <td>M</td>\n",
              "      <td>21</td>\n",
              "      <td>27</td>\n",
              "      <td>130</td>\n",
              "      <td>1203</td>\n",
              "      <td>0.125</td>\n",
              "      <td>0.160</td>\n",
              "      <td>0.207</td>\n",
              "      <td>0.060</td>\n",
              "    </tr>\n",
              "    <tr>\n",
              "      <th>3</th>\n",
              "      <td>4</td>\n",
              "      <td>M</td>\n",
              "      <td>14</td>\n",
              "      <td>16</td>\n",
              "      <td>78</td>\n",
              "      <td>386</td>\n",
              "      <td>0.070</td>\n",
              "      <td>0.284</td>\n",
              "      <td>0.260</td>\n",
              "      <td>0.097</td>\n",
              "    </tr>\n",
              "    <tr>\n",
              "      <th>4</th>\n",
              "      <td>5</td>\n",
              "      <td>M</td>\n",
              "      <td>9</td>\n",
              "      <td>19</td>\n",
              "      <td>135</td>\n",
              "      <td>1297</td>\n",
              "      <td>0.141</td>\n",
              "      <td>0.133</td>\n",
              "      <td>0.181</td>\n",
              "      <td>0.059</td>\n",
              "    </tr>\n",
              "  </tbody>\n",
              "</table>\n",
              "</div>"
            ],
            "text/plain": [
              "   id diagnosis_result  radius  ...  compactness  symmetry  fractal_dimension\n",
              "0   1                M      23  ...        0.278     0.242              0.079\n",
              "1   2                B       9  ...        0.079     0.181              0.057\n",
              "2   3                M      21  ...        0.160     0.207              0.060\n",
              "3   4                M      14  ...        0.284     0.260              0.097\n",
              "4   5                M       9  ...        0.133     0.181              0.059\n",
              "\n",
              "[5 rows x 10 columns]"
            ]
          },
          "metadata": {
            "tags": []
          },
          "execution_count": 4
        }
      ]
    },
    {
      "cell_type": "markdown",
      "metadata": {
        "id": "M-X-UHdYfa5S"
      },
      "source": [
        "## 2. Limpeza e organização dos dados"
      ]
    },
    {
      "cell_type": "markdown",
      "metadata": {
        "id": "e5VNdNcDfjy0"
      },
      "source": [
        "### 2.1 Limpeza dos dados"
      ]
    },
    {
      "cell_type": "markdown",
      "metadata": {
        "id": "aV1VLEWPfjax"
      },
      "source": [
        "#### 2.1.1 Remoção da coluna 'id'"
      ]
    },
    {
      "cell_type": "code",
      "metadata": {
        "id": "v5pBI1lgfpBR",
        "outputId": "01c83ee4-0367-478e-acd8-442b9c792137",
        "colab": {
          "base_uri": "https://localhost:8080/",
          "height": 204
        }
      },
      "source": [
        "data = data.dropna()\n",
        "data = data.drop(columns = ['id'])\n",
        "data.head()"
      ],
      "execution_count": null,
      "outputs": [
        {
          "output_type": "execute_result",
          "data": {
            "text/html": [
              "<div>\n",
              "<style scoped>\n",
              "    .dataframe tbody tr th:only-of-type {\n",
              "        vertical-align: middle;\n",
              "    }\n",
              "\n",
              "    .dataframe tbody tr th {\n",
              "        vertical-align: top;\n",
              "    }\n",
              "\n",
              "    .dataframe thead th {\n",
              "        text-align: right;\n",
              "    }\n",
              "</style>\n",
              "<table border=\"1\" class=\"dataframe\">\n",
              "  <thead>\n",
              "    <tr style=\"text-align: right;\">\n",
              "      <th></th>\n",
              "      <th>diagnosis_result</th>\n",
              "      <th>radius</th>\n",
              "      <th>texture</th>\n",
              "      <th>perimeter</th>\n",
              "      <th>area</th>\n",
              "      <th>smoothness</th>\n",
              "      <th>compactness</th>\n",
              "      <th>symmetry</th>\n",
              "      <th>fractal_dimension</th>\n",
              "    </tr>\n",
              "  </thead>\n",
              "  <tbody>\n",
              "    <tr>\n",
              "      <th>0</th>\n",
              "      <td>M</td>\n",
              "      <td>23</td>\n",
              "      <td>12</td>\n",
              "      <td>151</td>\n",
              "      <td>954</td>\n",
              "      <td>0.143</td>\n",
              "      <td>0.278</td>\n",
              "      <td>0.242</td>\n",
              "      <td>0.079</td>\n",
              "    </tr>\n",
              "    <tr>\n",
              "      <th>1</th>\n",
              "      <td>B</td>\n",
              "      <td>9</td>\n",
              "      <td>13</td>\n",
              "      <td>133</td>\n",
              "      <td>1326</td>\n",
              "      <td>0.143</td>\n",
              "      <td>0.079</td>\n",
              "      <td>0.181</td>\n",
              "      <td>0.057</td>\n",
              "    </tr>\n",
              "    <tr>\n",
              "      <th>2</th>\n",
              "      <td>M</td>\n",
              "      <td>21</td>\n",
              "      <td>27</td>\n",
              "      <td>130</td>\n",
              "      <td>1203</td>\n",
              "      <td>0.125</td>\n",
              "      <td>0.160</td>\n",
              "      <td>0.207</td>\n",
              "      <td>0.060</td>\n",
              "    </tr>\n",
              "    <tr>\n",
              "      <th>3</th>\n",
              "      <td>M</td>\n",
              "      <td>14</td>\n",
              "      <td>16</td>\n",
              "      <td>78</td>\n",
              "      <td>386</td>\n",
              "      <td>0.070</td>\n",
              "      <td>0.284</td>\n",
              "      <td>0.260</td>\n",
              "      <td>0.097</td>\n",
              "    </tr>\n",
              "    <tr>\n",
              "      <th>4</th>\n",
              "      <td>M</td>\n",
              "      <td>9</td>\n",
              "      <td>19</td>\n",
              "      <td>135</td>\n",
              "      <td>1297</td>\n",
              "      <td>0.141</td>\n",
              "      <td>0.133</td>\n",
              "      <td>0.181</td>\n",
              "      <td>0.059</td>\n",
              "    </tr>\n",
              "  </tbody>\n",
              "</table>\n",
              "</div>"
            ],
            "text/plain": [
              "  diagnosis_result  radius  texture  ...  compactness  symmetry  fractal_dimension\n",
              "0                M      23       12  ...        0.278     0.242              0.079\n",
              "1                B       9       13  ...        0.079     0.181              0.057\n",
              "2                M      21       27  ...        0.160     0.207              0.060\n",
              "3                M      14       16  ...        0.284     0.260              0.097\n",
              "4                M       9       19  ...        0.133     0.181              0.059\n",
              "\n",
              "[5 rows x 9 columns]"
            ]
          },
          "metadata": {
            "tags": []
          },
          "execution_count": 5
        }
      ]
    },
    {
      "cell_type": "markdown",
      "metadata": {
        "id": "8AQ5pPW0fsGZ"
      },
      "source": [
        "#### 2.1.2 Mudança dos valores 'B' e 'M' para '0' e '1'"
      ]
    },
    {
      "cell_type": "code",
      "metadata": {
        "id": "Q0EpMMSlfssp",
        "outputId": "e907715a-c98b-4afc-d294-b58550c8e116",
        "colab": {
          "base_uri": "https://localhost:8080/",
          "height": 204
        }
      },
      "source": [
        "data['diagnosis_result'] = data['diagnosis_result'].replace(['B', 'M'], [0, 1])\n",
        "data.head()"
      ],
      "execution_count": null,
      "outputs": [
        {
          "output_type": "execute_result",
          "data": {
            "text/html": [
              "<div>\n",
              "<style scoped>\n",
              "    .dataframe tbody tr th:only-of-type {\n",
              "        vertical-align: middle;\n",
              "    }\n",
              "\n",
              "    .dataframe tbody tr th {\n",
              "        vertical-align: top;\n",
              "    }\n",
              "\n",
              "    .dataframe thead th {\n",
              "        text-align: right;\n",
              "    }\n",
              "</style>\n",
              "<table border=\"1\" class=\"dataframe\">\n",
              "  <thead>\n",
              "    <tr style=\"text-align: right;\">\n",
              "      <th></th>\n",
              "      <th>diagnosis_result</th>\n",
              "      <th>radius</th>\n",
              "      <th>texture</th>\n",
              "      <th>perimeter</th>\n",
              "      <th>area</th>\n",
              "      <th>smoothness</th>\n",
              "      <th>compactness</th>\n",
              "      <th>symmetry</th>\n",
              "      <th>fractal_dimension</th>\n",
              "    </tr>\n",
              "  </thead>\n",
              "  <tbody>\n",
              "    <tr>\n",
              "      <th>0</th>\n",
              "      <td>1</td>\n",
              "      <td>23</td>\n",
              "      <td>12</td>\n",
              "      <td>151</td>\n",
              "      <td>954</td>\n",
              "      <td>0.143</td>\n",
              "      <td>0.278</td>\n",
              "      <td>0.242</td>\n",
              "      <td>0.079</td>\n",
              "    </tr>\n",
              "    <tr>\n",
              "      <th>1</th>\n",
              "      <td>0</td>\n",
              "      <td>9</td>\n",
              "      <td>13</td>\n",
              "      <td>133</td>\n",
              "      <td>1326</td>\n",
              "      <td>0.143</td>\n",
              "      <td>0.079</td>\n",
              "      <td>0.181</td>\n",
              "      <td>0.057</td>\n",
              "    </tr>\n",
              "    <tr>\n",
              "      <th>2</th>\n",
              "      <td>1</td>\n",
              "      <td>21</td>\n",
              "      <td>27</td>\n",
              "      <td>130</td>\n",
              "      <td>1203</td>\n",
              "      <td>0.125</td>\n",
              "      <td>0.160</td>\n",
              "      <td>0.207</td>\n",
              "      <td>0.060</td>\n",
              "    </tr>\n",
              "    <tr>\n",
              "      <th>3</th>\n",
              "      <td>1</td>\n",
              "      <td>14</td>\n",
              "      <td>16</td>\n",
              "      <td>78</td>\n",
              "      <td>386</td>\n",
              "      <td>0.070</td>\n",
              "      <td>0.284</td>\n",
              "      <td>0.260</td>\n",
              "      <td>0.097</td>\n",
              "    </tr>\n",
              "    <tr>\n",
              "      <th>4</th>\n",
              "      <td>1</td>\n",
              "      <td>9</td>\n",
              "      <td>19</td>\n",
              "      <td>135</td>\n",
              "      <td>1297</td>\n",
              "      <td>0.141</td>\n",
              "      <td>0.133</td>\n",
              "      <td>0.181</td>\n",
              "      <td>0.059</td>\n",
              "    </tr>\n",
              "  </tbody>\n",
              "</table>\n",
              "</div>"
            ],
            "text/plain": [
              "   diagnosis_result  radius  texture  ...  compactness  symmetry  fractal_dimension\n",
              "0                 1      23       12  ...        0.278     0.242              0.079\n",
              "1                 0       9       13  ...        0.079     0.181              0.057\n",
              "2                 1      21       27  ...        0.160     0.207              0.060\n",
              "3                 1      14       16  ...        0.284     0.260              0.097\n",
              "4                 1       9       19  ...        0.133     0.181              0.059\n",
              "\n",
              "[5 rows x 9 columns]"
            ]
          },
          "metadata": {
            "tags": []
          },
          "execution_count": 6
        }
      ]
    },
    {
      "cell_type": "markdown",
      "metadata": {
        "id": "CDKGjTA-f59k"
      },
      "source": [
        "### 2.2 Re-escala dos dados usando máximo e mínimo"
      ]
    },
    {
      "cell_type": "code",
      "metadata": {
        "id": "Jr-E9YcYf6mB",
        "outputId": "be6dd9d3-9b4a-478c-e6ac-0de05f55320f",
        "colab": {
          "base_uri": "https://localhost:8080/",
          "height": 204
        }
      },
      "source": [
        "data = (data - data.min()) / (data.max() - data.min())\n",
        "data.head()"
      ],
      "execution_count": null,
      "outputs": [
        {
          "output_type": "execute_result",
          "data": {
            "text/html": [
              "<div>\n",
              "<style scoped>\n",
              "    .dataframe tbody tr th:only-of-type {\n",
              "        vertical-align: middle;\n",
              "    }\n",
              "\n",
              "    .dataframe tbody tr th {\n",
              "        vertical-align: top;\n",
              "    }\n",
              "\n",
              "    .dataframe thead th {\n",
              "        text-align: right;\n",
              "    }\n",
              "</style>\n",
              "<table border=\"1\" class=\"dataframe\">\n",
              "  <thead>\n",
              "    <tr style=\"text-align: right;\">\n",
              "      <th></th>\n",
              "      <th>diagnosis_result</th>\n",
              "      <th>radius</th>\n",
              "      <th>texture</th>\n",
              "      <th>perimeter</th>\n",
              "      <th>area</th>\n",
              "      <th>smoothness</th>\n",
              "      <th>compactness</th>\n",
              "      <th>symmetry</th>\n",
              "      <th>fractal_dimension</th>\n",
              "    </tr>\n",
              "  </thead>\n",
              "  <tbody>\n",
              "    <tr>\n",
              "      <th>0</th>\n",
              "      <td>1.0</td>\n",
              "      <td>0.8750</td>\n",
              "      <td>0.0625</td>\n",
              "      <td>0.825000</td>\n",
              "      <td>0.448687</td>\n",
              "      <td>1.000000</td>\n",
              "      <td>0.781759</td>\n",
              "      <td>0.633136</td>\n",
              "      <td>0.590909</td>\n",
              "    </tr>\n",
              "    <tr>\n",
              "      <th>1</th>\n",
              "      <td>0.0</td>\n",
              "      <td>0.0000</td>\n",
              "      <td>0.1250</td>\n",
              "      <td>0.675000</td>\n",
              "      <td>0.670644</td>\n",
              "      <td>1.000000</td>\n",
              "      <td>0.133550</td>\n",
              "      <td>0.272189</td>\n",
              "      <td>0.090909</td>\n",
              "    </tr>\n",
              "    <tr>\n",
              "      <th>2</th>\n",
              "      <td>1.0</td>\n",
              "      <td>0.7500</td>\n",
              "      <td>1.0000</td>\n",
              "      <td>0.650000</td>\n",
              "      <td>0.597255</td>\n",
              "      <td>0.753425</td>\n",
              "      <td>0.397394</td>\n",
              "      <td>0.426036</td>\n",
              "      <td>0.159091</td>\n",
              "    </tr>\n",
              "    <tr>\n",
              "      <th>3</th>\n",
              "      <td>1.0</td>\n",
              "      <td>0.3125</td>\n",
              "      <td>0.3125</td>\n",
              "      <td>0.216667</td>\n",
              "      <td>0.109785</td>\n",
              "      <td>0.000000</td>\n",
              "      <td>0.801303</td>\n",
              "      <td>0.739645</td>\n",
              "      <td>1.000000</td>\n",
              "    </tr>\n",
              "    <tr>\n",
              "      <th>4</th>\n",
              "      <td>1.0</td>\n",
              "      <td>0.0000</td>\n",
              "      <td>0.5000</td>\n",
              "      <td>0.691667</td>\n",
              "      <td>0.653341</td>\n",
              "      <td>0.972603</td>\n",
              "      <td>0.309446</td>\n",
              "      <td>0.272189</td>\n",
              "      <td>0.136364</td>\n",
              "    </tr>\n",
              "  </tbody>\n",
              "</table>\n",
              "</div>"
            ],
            "text/plain": [
              "   diagnosis_result  radius  texture  ...  compactness  symmetry  fractal_dimension\n",
              "0               1.0  0.8750   0.0625  ...     0.781759  0.633136           0.590909\n",
              "1               0.0  0.0000   0.1250  ...     0.133550  0.272189           0.090909\n",
              "2               1.0  0.7500   1.0000  ...     0.397394  0.426036           0.159091\n",
              "3               1.0  0.3125   0.3125  ...     0.801303  0.739645           1.000000\n",
              "4               1.0  0.0000   0.5000  ...     0.309446  0.272189           0.136364\n",
              "\n",
              "[5 rows x 9 columns]"
            ]
          },
          "metadata": {
            "tags": []
          },
          "execution_count": 7
        }
      ]
    },
    {
      "cell_type": "markdown",
      "metadata": {
        "id": "0JUgtKvJf-qO"
      },
      "source": [
        "### 2.3 Divisão dos dados"
      ]
    },
    {
      "cell_type": "markdown",
      "metadata": {
        "id": "LHGhzYzaf-hr"
      },
      "source": [
        "#### 2.3.1 Atributos de classe"
      ]
    },
    {
      "cell_type": "markdown",
      "metadata": {
        "id": "VneKv5Zkf_BC"
      },
      "source": [
        "Os atributos de classe para este dataset são:\n",
        "*   B (*benign*) com valor 0.0\n",
        "*   M (*malign*) com valor 1.0"
      ]
    },
    {
      "cell_type": "code",
      "metadata": {
        "id": "w5vjGQkZgA48",
        "outputId": "7ecb3d29-e896-4386-808f-12a31dfe3178",
        "colab": {
          "base_uri": "https://localhost:8080/",
          "height": 119
        }
      },
      "source": [
        "y = data.diagnosis_result\n",
        "y.head()"
      ],
      "execution_count": null,
      "outputs": [
        {
          "output_type": "execute_result",
          "data": {
            "text/plain": [
              "0    1.0\n",
              "1    0.0\n",
              "2    1.0\n",
              "3    1.0\n",
              "4    1.0\n",
              "Name: diagnosis_result, dtype: float64"
            ]
          },
          "metadata": {
            "tags": []
          },
          "execution_count": 8
        }
      ]
    },
    {
      "cell_type": "markdown",
      "metadata": {
        "id": "mVgwjtXPgHY9"
      },
      "source": [
        "#### 2.3.2 Atributos descritores"
      ]
    },
    {
      "cell_type": "markdown",
      "metadata": {
        "id": "q768gK9DgHVB"
      },
      "source": [
        "Os atributos descritores para este dataset são:\n",
        "*    *radius*\n",
        "*    *texture*\n",
        "*    *perimeter*\n",
        "*    *area*\n",
        "*    *smoothness*\n",
        "*    *compactness*\n",
        "*    *symmetry*\n",
        "*    *fractal_dimension*"
      ]
    },
    {
      "cell_type": "code",
      "metadata": {
        "id": "ohlvkYWpgH2f",
        "outputId": "d441311e-7fd5-4e74-ba90-9fc8684c245a",
        "colab": {
          "base_uri": "https://localhost:8080/",
          "height": 204
        }
      },
      "source": [
        "x = data.iloc[:, 1:]\n",
        "x.head()"
      ],
      "execution_count": null,
      "outputs": [
        {
          "output_type": "execute_result",
          "data": {
            "text/html": [
              "<div>\n",
              "<style scoped>\n",
              "    .dataframe tbody tr th:only-of-type {\n",
              "        vertical-align: middle;\n",
              "    }\n",
              "\n",
              "    .dataframe tbody tr th {\n",
              "        vertical-align: top;\n",
              "    }\n",
              "\n",
              "    .dataframe thead th {\n",
              "        text-align: right;\n",
              "    }\n",
              "</style>\n",
              "<table border=\"1\" class=\"dataframe\">\n",
              "  <thead>\n",
              "    <tr style=\"text-align: right;\">\n",
              "      <th></th>\n",
              "      <th>radius</th>\n",
              "      <th>texture</th>\n",
              "      <th>perimeter</th>\n",
              "      <th>area</th>\n",
              "      <th>smoothness</th>\n",
              "      <th>compactness</th>\n",
              "      <th>symmetry</th>\n",
              "      <th>fractal_dimension</th>\n",
              "    </tr>\n",
              "  </thead>\n",
              "  <tbody>\n",
              "    <tr>\n",
              "      <th>0</th>\n",
              "      <td>0.8750</td>\n",
              "      <td>0.0625</td>\n",
              "      <td>0.825000</td>\n",
              "      <td>0.448687</td>\n",
              "      <td>1.000000</td>\n",
              "      <td>0.781759</td>\n",
              "      <td>0.633136</td>\n",
              "      <td>0.590909</td>\n",
              "    </tr>\n",
              "    <tr>\n",
              "      <th>1</th>\n",
              "      <td>0.0000</td>\n",
              "      <td>0.1250</td>\n",
              "      <td>0.675000</td>\n",
              "      <td>0.670644</td>\n",
              "      <td>1.000000</td>\n",
              "      <td>0.133550</td>\n",
              "      <td>0.272189</td>\n",
              "      <td>0.090909</td>\n",
              "    </tr>\n",
              "    <tr>\n",
              "      <th>2</th>\n",
              "      <td>0.7500</td>\n",
              "      <td>1.0000</td>\n",
              "      <td>0.650000</td>\n",
              "      <td>0.597255</td>\n",
              "      <td>0.753425</td>\n",
              "      <td>0.397394</td>\n",
              "      <td>0.426036</td>\n",
              "      <td>0.159091</td>\n",
              "    </tr>\n",
              "    <tr>\n",
              "      <th>3</th>\n",
              "      <td>0.3125</td>\n",
              "      <td>0.3125</td>\n",
              "      <td>0.216667</td>\n",
              "      <td>0.109785</td>\n",
              "      <td>0.000000</td>\n",
              "      <td>0.801303</td>\n",
              "      <td>0.739645</td>\n",
              "      <td>1.000000</td>\n",
              "    </tr>\n",
              "    <tr>\n",
              "      <th>4</th>\n",
              "      <td>0.0000</td>\n",
              "      <td>0.5000</td>\n",
              "      <td>0.691667</td>\n",
              "      <td>0.653341</td>\n",
              "      <td>0.972603</td>\n",
              "      <td>0.309446</td>\n",
              "      <td>0.272189</td>\n",
              "      <td>0.136364</td>\n",
              "    </tr>\n",
              "  </tbody>\n",
              "</table>\n",
              "</div>"
            ],
            "text/plain": [
              "   radius  texture  perimeter  ...  compactness  symmetry  fractal_dimension\n",
              "0  0.8750   0.0625   0.825000  ...     0.781759  0.633136           0.590909\n",
              "1  0.0000   0.1250   0.675000  ...     0.133550  0.272189           0.090909\n",
              "2  0.7500   1.0000   0.650000  ...     0.397394  0.426036           0.159091\n",
              "3  0.3125   0.3125   0.216667  ...     0.801303  0.739645           1.000000\n",
              "4  0.0000   0.5000   0.691667  ...     0.309446  0.272189           0.136364\n",
              "\n",
              "[5 rows x 8 columns]"
            ]
          },
          "metadata": {
            "tags": []
          },
          "execution_count": 9
        }
      ]
    },
    {
      "cell_type": "markdown",
      "metadata": {
        "id": "5_-G__utMb8g"
      },
      "source": [
        "## 3. Agrupamento com *K-means*"
      ]
    },
    {
      "cell_type": "markdown",
      "metadata": {
        "id": "GZX5G34aFfJm"
      },
      "source": [
        "### 3.1 Criação do modelo e ajustes dos dados"
      ]
    },
    {
      "cell_type": "code",
      "metadata": {
        "id": "1l5A-3HXFlC-",
        "outputId": "ed914bfd-4564-40bb-8ae9-2d9992e94f0d",
        "colab": {
          "base_uri": "https://localhost:8080/",
          "height": 68
        }
      },
      "source": [
        "kmeans = KMeans(n_clusters=2)\n",
        "kmeans.fit(x)"
      ],
      "execution_count": null,
      "outputs": [
        {
          "output_type": "execute_result",
          "data": {
            "text/plain": [
              "KMeans(algorithm='auto', copy_x=True, init='k-means++', max_iter=300,\n",
              "       n_clusters=2, n_init=10, n_jobs=None, precompute_distances='auto',\n",
              "       random_state=None, tol=0.0001, verbose=0)"
            ]
          },
          "metadata": {
            "tags": []
          },
          "execution_count": 10
        }
      ]
    },
    {
      "cell_type": "markdown",
      "metadata": {
        "id": "ZizzoTzeFz9N"
      },
      "source": [
        "### 3.2 Aplicação do modelo aos dados de teste"
      ]
    },
    {
      "cell_type": "code",
      "metadata": {
        "id": "tvJZc2kcF-90",
        "outputId": "9b0bd386-cfd6-4f59-b85d-4112805efbfb",
        "colab": {
          "base_uri": "https://localhost:8080/",
          "height": 102
        }
      },
      "source": [
        "kmeans_labels = kmeans.predict(x)\n",
        "kmeans_labels"
      ],
      "execution_count": null,
      "outputs": [
        {
          "output_type": "execute_result",
          "data": {
            "text/plain": [
              "array([1, 1, 0, 1, 1, 0, 0, 1, 0, 1, 0, 1, 1, 0, 1, 0, 1, 1, 1, 1, 1, 0,\n",
              "       0, 1, 1, 0, 1, 0, 1, 1, 1, 0, 1, 1, 0, 1, 1, 0, 1, 1, 0, 0, 1, 0,\n",
              "       1, 1, 0, 1, 0, 0, 0, 0, 0, 0, 0, 0, 1, 0, 0, 0, 0, 0, 1, 0, 0, 1,\n",
              "       1, 0, 0, 0, 0, 0, 1, 0, 0, 0, 1, 1, 1, 0, 1, 0, 1, 1, 0, 1, 0, 1,\n",
              "       1, 1, 0, 1, 1, 1, 0, 1, 0, 0, 0, 0], dtype=int32)"
            ]
          },
          "metadata": {
            "tags": []
          },
          "execution_count": 11
        }
      ]
    },
    {
      "cell_type": "markdown",
      "metadata": {
        "id": "aCz-na4hGLm7"
      },
      "source": [
        "### 3.3 Visualização"
      ]
    },
    {
      "cell_type": "code",
      "metadata": {
        "id": "i_iIOi7bGSHg"
      },
      "source": [
        "x = x.reset_index(drop=True)\n",
        "clusters = pd.DataFrame(kmeans_labels)\n",
        "x.insert((x.shape[1]), 'diagnosis_result', clusters)\n",
        "benign = x[x['diagnosis_result'] == 0]\n",
        "malign = x[x['diagnosis_result'] == 1]"
      ],
      "execution_count": null,
      "outputs": []
    },
    {
      "cell_type": "markdown",
      "metadata": {
        "id": "wNnpEj4RIop-"
      },
      "source": [
        "#### 3.3.1 Textura, raio e perímetro"
      ]
    },
    {
      "cell_type": "code",
      "metadata": {
        "id": "JMYcgoD5Hqiy",
        "outputId": "1791d086-d3ed-4a33-eafb-4bd96eebd3e7",
        "colab": {
          "base_uri": "https://localhost:8080/",
          "height": 303
        }
      },
      "source": [
        "plt.rcParams[\"figure.figsize\"] = (8,5)\n",
        "ax = plt.axes(projection='3d')\n",
        "ax.scatter3D(benign.texture, benign.radius, benign.perimeter, s=50, label='Benigno')\n",
        "ax.scatter3D(malign.texture, malign.radius, malign.perimeter, s=50, label='Maligno')\n",
        "plt.legend()\n",
        "ax.set_xlabel('Textura')\n",
        "ax.set_ylabel('Raio')\n",
        "ax.set_zlabel('Perímetro')\n",
        "plt.title('Textura, raio e perímetro')\n",
        "plt.show()"
      ],
      "execution_count": null,
      "outputs": [
        {
          "output_type": "display_data",
          "data": {
            "image/png": "[encoded data removed]",
            "text/plain": [
              "<Figure size 576x360 with 1 Axes>"
            ]
          },
          "metadata": {
            "tags": [],
            "needs_background": "light"
          }
        }
      ]
    },
    {
      "cell_type": "markdown",
      "metadata": {
        "id": "hZaj34JFIyNI"
      },
      "source": [
        "#### 3.3.2 Textura, raio e perímetro"
      ]
    },
    {
      "cell_type": "code",
      "metadata": {
        "id": "d_FRV0DgJD1Z",
        "outputId": "fba5de70-788e-460f-ac6b-01f605eafddb",
        "colab": {
          "base_uri": "https://localhost:8080/",
          "height": 303
        }
      },
      "source": [
        "plt.rcParams[\"figure.figsize\"] = (8, 5)\n",
        "ax = plt.axes(projection='3d')\n",
        "ax.scatter3D(benign.texture, benign.radius, benign.area, s=50, label='Benigno')\n",
        "ax.scatter3D(malign.texture, malign.radius, malign.area, s=50, label='Maligno')\n",
        "plt.legend()\n",
        "ax.set_xlabel('Textura')\n",
        "ax.set_ylabel('Raio')\n",
        "ax.set_zlabel('Área')\n",
        "plt.title('Textura, raio e área')\n",
        "plt.show()"
      ],
      "execution_count": null,
      "outputs": [
        {
          "output_type": "display_data",
          "data": {
            "image/png": "[encoded data removed]",
            "text/plain": [
              "<Figure size 576x360 with 1 Axes>"
            ]
          },
          "metadata": {
            "tags": [],
            "needs_background": "light"
          }
        }
      ]
    },
    {
      "cell_type": "markdown",
      "metadata": {
        "id": "DJaNkTt8JcB1"
      },
      "source": [
        "#### 3.3.3 Comparação com atributos diversos"
      ]
    },
    {
      "cell_type": "code",
      "metadata": {
        "id": "Gr8fQfmKJirw",
        "outputId": "d719168f-ca23-4899-bc2b-121f561f4088",
        "colab": {
          "base_uri": "https://localhost:8080/",
          "height": 922
        }
      },
      "source": [
        "plt.rcParams[\"figure.figsize\"] = (25, 20)\n",
        "fig, axs = plt.subplots(6, 6)\n",
        "for i in range(6):\n",
        "  for j in range(6):\n",
        "    axs[i,j].scatter(benign.iloc[i], benign.iloc[j], label='Benigno')\n",
        "    axs[i,j].scatter(malign.iloc[i], malign.iloc[j], label='Maligno')\n",
        "    axs[i,j].set(xlabel=x.columns[i], ylabel=x.columns[j])\n",
        "plt.legend()\n",
        "plt.show()"
      ],
      "execution_count": null,
      "outputs": [
        {
          "output_type": "display_data",
          "data": {
            "image/png": "[encoded data removed]",
            "text/plain": [
              "<Figure size 1800x1440 with 36 Axes>"
            ]
          },
          "metadata": {
            "tags": [],
            "needs_background": "light"
          }
        }
      ]
    },
    {
      "cell_type": "markdown",
      "metadata": {
        "id": "p4VOZIs3KS3S"
      },
      "source": [
        "### 3.4 Avaliação"
      ]
    },
    {
      "cell_type": "markdown",
      "metadata": {
        "id": "WOtm5RiKKcVg"
      },
      "source": [
        "#### Acurácia"
      ]
    },
    {
      "cell_type": "code",
      "metadata": {
        "id": "hYslDStzKf3x",
        "outputId": "bb1b69fa-9146-4029-b8b1-554b29d278c5",
        "colab": {
          "base_uri": "https://localhost:8080/",
          "height": 34
        }
      },
      "source": [
        "round(accuracy_score(y, kmeans_labels), 2)"
      ],
      "execution_count": null,
      "outputs": [
        {
          "output_type": "execute_result",
          "data": {
            "text/plain": [
              "0.65"
            ]
          },
          "metadata": {
            "tags": []
          },
          "execution_count": 16
        }
      ]
    },
    {
      "cell_type": "markdown",
      "metadata": {
        "id": "NcN-4Jd_cAdo"
      },
      "source": [
        "#### Índice rand ajustado"
      ]
    },
    {
      "cell_type": "code",
      "metadata": {
        "id": "hO2iMG5VMUnx",
        "outputId": "5e46ad3c-325a-483d-d493-b426ef25e5bd",
        "colab": {
          "base_uri": "https://localhost:8080/",
          "height": 34
        }
      },
      "source": [
        "round(adjusted_rand_score(y, kmeans_labels), 2)"
      ],
      "execution_count": null,
      "outputs": [
        {
          "output_type": "execute_result",
          "data": {
            "text/plain": [
              "0.08"
            ]
          },
          "metadata": {
            "tags": []
          },
          "execution_count": 29
        }
      ]
    },
    {
      "cell_type": "markdown",
      "metadata": {
        "id": "h85v5nhgcKAg"
      },
      "source": [
        "#### Score baseado em informação mútua"
      ]
    },
    {
      "cell_type": "code",
      "metadata": {
        "id": "os537pBrcYOd",
        "outputId": "a0f7df45-c661-46d3-e4f0-42647974be2e",
        "colab": {
          "base_uri": "https://localhost:8080/",
          "height": 34
        }
      },
      "source": [
        "round(adjusted_mutual_info_score(y, kmeans_labels), 2)"
      ],
      "execution_count": null,
      "outputs": [
        {
          "output_type": "execute_result",
          "data": {
            "text/plain": [
              "0.07"
            ]
          },
          "metadata": {
            "tags": []
          },
          "execution_count": 30
        }
      ]
    },
    {
      "cell_type": "markdown",
      "metadata": {
        "id": "lQ4THtSycbAi"
      },
      "source": [
        "#### Fowlkes-Mallows score"
      ]
    },
    {
      "cell_type": "code",
      "metadata": {
        "id": "SFfG9tWscd-O",
        "outputId": "d97461f4-68ab-4211-dee5-f0bdcd2a9225",
        "colab": {
          "base_uri": "https://localhost:8080/",
          "height": 34
        }
      },
      "source": [
        "round(fowlkes_mallows_score(y, kmeans_labels), 2)"
      ],
      "execution_count": null,
      "outputs": [
        {
          "output_type": "execute_result",
          "data": {
            "text/plain": [
              "0.55"
            ]
          },
          "metadata": {
            "tags": []
          },
          "execution_count": 31
        }
      ]
    },
    {
      "cell_type": "markdown",
      "metadata": {
        "id": "fIusGwmScwE6"
      },
      "source": [
        "#### Índice Davies-Boldin"
      ]
    },
    {
      "cell_type": "code",
      "metadata": {
        "id": "YIHor-_Ic00K"
      },
      "source": [
        "x = x.drop(columns=['diagnosis_result'])"
      ],
      "execution_count": null,
      "outputs": []
    },
    {
      "cell_type": "code",
      "metadata": {
        "id": "x_MWTuXae1MR",
        "outputId": "776d4d8a-e24c-41c8-bd82-e0880089a819",
        "colab": {
          "base_uri": "https://localhost:8080/",
          "height": 34
        }
      },
      "source": [
        "round(davies_bouldin_score(x, kmeans_labels), 2)"
      ],
      "execution_count": null,
      "outputs": [
        {
          "output_type": "execute_result",
          "data": {
            "text/plain": [
              "1.88"
            ]
          },
          "metadata": {
            "tags": []
          },
          "execution_count": 34
        }
      ]
    },
    {
      "cell_type": "markdown",
      "metadata": {
        "id": "A5_leXmUdQQb"
      },
      "source": [
        "#### Coeficiente de silhueta"
      ]
    },
    {
      "cell_type": "code",
      "metadata": {
        "id": "MNTnUe-wdQeS",
        "outputId": "583a6e79-b4f7-4251-a880-ba4341a091d9",
        "colab": {
          "base_uri": "https://localhost:8080/",
          "height": 34
        }
      },
      "source": [
        "round(silhouette_score(x, kmeans_labels, metric='euclidean'), 2)"
      ],
      "execution_count": null,
      "outputs": [
        {
          "output_type": "execute_result",
          "data": {
            "text/plain": [
              "0.19"
            ]
          },
          "metadata": {
            "tags": []
          },
          "execution_count": 37
        }
      ]
    },
    {
      "cell_type": "markdown",
      "metadata": {
        "id": "xCDJ7ptNdRRa"
      },
      "source": [
        "#### Índice Calinski-Harabasz"
      ]
    },
    {
      "cell_type": "code",
      "metadata": {
        "id": "pHVfth67dRil",
        "outputId": "0b5fbf6f-e7e0-4374-d80a-17f7d8f46c53",
        "colab": {
          "base_uri": "https://localhost:8080/",
          "height": 34
        }
      },
      "source": [
        "round(calinski_harabasz_score(x, kmeans_labels), 2)"
      ],
      "execution_count": null,
      "outputs": [
        {
          "output_type": "execute_result",
          "data": {
            "text/plain": [
              "24.97"
            ]
          },
          "metadata": {
            "tags": []
          },
          "execution_count": 36
        }
      ]
    },
    {
      "cell_type": "markdown",
      "metadata": {
        "id": "tIZWBrnadTvB"
      },
      "source": [
        "## 4. Agrupamento hierárquico aglomerativo"
      ]
    },
    {
      "cell_type": "markdown",
      "metadata": {
        "id": "2MSQddn0dSU3"
      },
      "source": [
        "### 4.1 Criação do modelo"
      ]
    },
    {
      "cell_type": "code",
      "metadata": {
        "id": "f1aVj1UadR9h",
        "outputId": "a1355544-c7dc-4b1a-a166-8d217542092a",
        "colab": {
          "base_uri": "https://localhost:8080/",
          "height": 102
        }
      },
      "source": [
        "agg_clt = AgglomerativeClustering(n_clusters=2)\n",
        "labels_agg_clt = agg_clt.fit(x).labels_\n",
        "labels_agg_clt"
      ],
      "execution_count": null,
      "outputs": [
        {
          "output_type": "execute_result",
          "data": {
            "text/plain": [
              "array([1, 1, 0, 1, 1, 0, 0, 1, 0, 0, 0, 1, 1, 0, 1, 1, 1, 1, 1, 0, 1, 0,\n",
              "       0, 1, 1, 0, 1, 0, 1, 1, 1, 0, 1, 1, 1, 1, 0, 0, 1, 1, 0, 0, 1, 1,\n",
              "       1, 1, 0, 0, 0, 0, 0, 0, 0, 1, 0, 0, 1, 1, 0, 0, 1, 0, 1, 0, 1, 1,\n",
              "       1, 0, 1, 0, 0, 1, 1, 0, 0, 0, 1, 1, 1, 0, 1, 1, 1, 1, 0, 1, 0, 1,\n",
              "       1, 1, 0, 1, 1, 1, 0, 1, 0, 0, 0, 0])"
            ]
          },
          "metadata": {
            "tags": []
          },
          "execution_count": 39
        }
      ]
    },
    {
      "cell_type": "markdown",
      "metadata": {
        "id": "VJWOu1h3dRz2"
      },
      "source": [
        "### 4.2 Avaliação"
      ]
    },
    {
      "cell_type": "markdown",
      "metadata": {
        "id": "-sthRp5ih8DM"
      },
      "source": [
        "#### Acurácia"
      ]
    },
    {
      "cell_type": "code",
      "metadata": {
        "id": "SpH6k1OMdSeg",
        "outputId": "47c42985-6d5c-41f7-80b7-6c48d9f1a649",
        "colab": {
          "base_uri": "https://localhost:8080/",
          "height": 34
        }
      },
      "source": [
        "round(accuracy_score(y, labels_agg_clt), 2)"
      ],
      "execution_count": null,
      "outputs": [
        {
          "output_type": "execute_result",
          "data": {
            "text/plain": [
              "0.65"
            ]
          },
          "metadata": {
            "tags": []
          },
          "execution_count": 50
        }
      ]
    },
    {
      "cell_type": "markdown",
      "metadata": {
        "id": "fLP9RvvdiYU5"
      },
      "source": [
        "#### Índice *rand* ajustado"
      ]
    },
    {
      "cell_type": "code",
      "metadata": {
        "id": "ZVuUjPgydZSt",
        "outputId": "698f35db-e5a4-4423-d2a7-bffee4a3f0d2",
        "colab": {
          "base_uri": "https://localhost:8080/",
          "height": 34
        }
      },
      "source": [
        "round(adjusted_rand_score(y, labels_agg_clt), 2)"
      ],
      "execution_count": null,
      "outputs": [
        {
          "output_type": "execute_result",
          "data": {
            "text/plain": [
              "0.08"
            ]
          },
          "metadata": {
            "tags": []
          },
          "execution_count": 41
        }
      ]
    },
    {
      "cell_type": "markdown",
      "metadata": {
        "id": "KCtIiksViqzp"
      },
      "source": [
        "#### *Score* baseado em informação mútua"
      ]
    },
    {
      "cell_type": "code",
      "metadata": {
        "id": "JRzkQVYJise4",
        "outputId": "13ff87d8-2f6d-4dd5-abd3-5c2de1041ffe",
        "colab": {
          "base_uri": "https://localhost:8080/",
          "height": 34
        }
      },
      "source": [
        "round(adjusted_mutual_info_score(y, labels_agg_clt), 2)"
      ],
      "execution_count": null,
      "outputs": [
        {
          "output_type": "execute_result",
          "data": {
            "text/plain": [
              "0.05"
            ]
          },
          "metadata": {
            "tags": []
          },
          "execution_count": 42
        }
      ]
    },
    {
      "cell_type": "markdown",
      "metadata": {
        "id": "b661T1BLjFpN"
      },
      "source": [
        "#### Fowlkes-Mallows *score*"
      ]
    },
    {
      "cell_type": "code",
      "metadata": {
        "id": "upFEiOKvjIH_",
        "outputId": "b997c58a-9ba5-4784-ecab-3d4911a743b6",
        "colab": {
          "base_uri": "https://localhost:8080/",
          "height": 34
        }
      },
      "source": [
        "round(fowlkes_mallows_score(y, labels_agg_clt), 2)"
      ],
      "execution_count": null,
      "outputs": [
        {
          "output_type": "execute_result",
          "data": {
            "text/plain": [
              "0.55"
            ]
          },
          "metadata": {
            "tags": []
          },
          "execution_count": 43
        }
      ]
    },
    {
      "cell_type": "markdown",
      "metadata": {
        "id": "c4K75G4ojIc3"
      },
      "source": [
        "#### Índice Davies-Boldin"
      ]
    },
    {
      "cell_type": "code",
      "metadata": {
        "id": "CQyM415NjHte",
        "outputId": "4422c7de-5122-42b3-e14c-3ce578fe8a97",
        "colab": {
          "base_uri": "https://localhost:8080/",
          "height": 34
        }
      },
      "source": [
        "round(davies_bouldin_score(x, labels_agg_clt), 2)"
      ],
      "execution_count": null,
      "outputs": [
        {
          "output_type": "execute_result",
          "data": {
            "text/plain": [
              "1.95"
            ]
          },
          "metadata": {
            "tags": []
          },
          "execution_count": 46
        }
      ]
    },
    {
      "cell_type": "markdown",
      "metadata": {
        "id": "axlTNmZEkEPX"
      },
      "source": [
        "#### Coeficiente de silhueta"
      ]
    },
    {
      "cell_type": "code",
      "metadata": {
        "id": "FPiloh5nkL5Z",
        "outputId": "15c620f1-ed2f-4f43-8c8b-1e88a657e6de",
        "colab": {
          "base_uri": "https://localhost:8080/",
          "height": 34
        }
      },
      "source": [
        "round(silhouette_score(x, labels_agg_clt, metric='euclidean'), 2)"
      ],
      "execution_count": null,
      "outputs": [
        {
          "output_type": "execute_result",
          "data": {
            "text/plain": [
              "0.18"
            ]
          },
          "metadata": {
            "tags": []
          },
          "execution_count": 48
        }
      ]
    },
    {
      "cell_type": "markdown",
      "metadata": {
        "id": "AgwjO5bwkcHX"
      },
      "source": [
        "#### Índice Calinski-Harabasz"
      ]
    },
    {
      "cell_type": "code",
      "metadata": {
        "id": "OVs673q1kdOD",
        "outputId": "87aafcb5-02bf-4030-e49a-3eefbe7c4543",
        "colab": {
          "base_uri": "https://localhost:8080/",
          "height": 34
        }
      },
      "source": [
        "round(calinski_harabasz_score(x, labels_agg_clt))"
      ],
      "execution_count": null,
      "outputs": [
        {
          "output_type": "execute_result",
          "data": {
            "text/plain": [
              "23.0"
            ]
          },
          "metadata": {
            "tags": []
          },
          "execution_count": 49
        }
      ]
    },
    {
      "cell_type": "markdown",
      "metadata": {
        "id": "E2sefuD1NItI"
      },
      "source": [
        "## 5. Considerações"
      ]
    },
    {
      "cell_type": "markdown",
      "metadata": {
        "id": "w-HEkEAjpnFB"
      },
      "source": [
        "\n",
        "\n",
        "Tanto o agrupamento produzido com o algoritmo de *clustering* *K-means* quanto com a abordagem do Agrupamento Hierárquico Aglomerativo, obtiveram na maioria das métricas de avaliação valores baixos e/ou mais próximos de 0, o que pode levar a interpretação de que os *clusters* criados não foram os melhores. A exceção destes resultados para ambos os agrupamentos compete ao Índice de Davies-Boldin (Subseção 3.4, 4.2)."
      ]
    }
  ]
}