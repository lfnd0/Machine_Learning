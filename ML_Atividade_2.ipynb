{
  "nbformat": 4,
  "nbformat_minor": 0,
  "metadata": {
    "colab": {
      "name": "ML_Atividade_2.ipynb",
      "provenance": [],
      "collapsed_sections": [],
      "authorship_tag": "ABX9TyN+lh1nhkFPgoVjL16gifH+",
      "include_colab_link": true
    },
    "kernelspec": {
      "name": "python3",
      "display_name": "Python 3"
    }
  },
  "cells": [
    {
      "cell_type": "markdown",
      "metadata": {
        "id": "view-in-github",
        "colab_type": "text"
      },
      "source": [
        "<a href=\"https://colab.research.google.com/github/lfnd0/Machine_Learning/blob/master/ML_Atividade_2.ipynb\" target=\"_parent\"><img src=\"https://colab.research.google.com/assets/colab-badge.svg\" alt=\"Open In Colab\"/></a>"
      ]
    },
    {
      "cell_type": "markdown",
      "metadata": {
        "id": "Qz69S12nrqdc",
        "colab_type": "text"
      },
      "source": [
        "# Modelagem de dados sobre câncer de próstata\n",
        "> Dataset: [Prostate cancer](https://www.kaggle.com/sajidsaifi/prostate-cancer)"
      ]
    },
    {
      "cell_type": "markdown",
      "metadata": {
        "id": "1RFSSoWwr4sU",
        "colab_type": "text"
      },
      "source": [
        "## 1. Leitura dos dados"
      ]
    },
    {
      "cell_type": "code",
      "metadata": {
        "id": "2NqUcB4FM0UW",
        "colab_type": "code",
        "colab": {}
      },
      "source": [
        "from google.colab import drive\n",
        "\n",
        "from sklearn.model_selection import train_test_split\n",
        "from sklearn.tree import DecisionTreeClassifier\n",
        "from sklearn.tree import plot_tree\n",
        "from sklearn.metrics import accuracy_score\n",
        "from sklearn.metrics import precision_score\n",
        "from sklearn.metrics import recall_score\n",
        "from sklearn.metrics import f1_score\n",
        "from sklearn.metrics  import roc_curve\n",
        "from sklearn.metrics import roc_auc_score\n",
        "from sklearn.ensemble import RandomForestClassifier\n",
        "from sklearn.model_selection import cross_val_score\n",
        "\n",
        "import pandas as pd\n",
        "import matplotlib.pyplot as plt"
      ],
      "execution_count": 166,
      "outputs": []
    },
    {
      "cell_type": "code",
      "metadata": {
        "id": "H7uF94FgNBS_",
        "colab_type": "code",
        "colab": {
          "base_uri": "https://localhost:8080/",
          "height": 34
        },
        "outputId": "3a880ae8-ca38-462f-d222-9c94be3a3b22"
      },
      "source": [
        "drive.mount('/content/drive/')"
      ],
      "execution_count": 167,
      "outputs": [
        {
          "output_type": "stream",
          "text": [
            "Drive already mounted at /content/drive/; to attempt to forcibly remount, call drive.mount(\"/content/drive/\", force_remount=True).\n"
          ],
          "name": "stdout"
        }
      ]
    },
    {
      "cell_type": "code",
      "metadata": {
        "id": "miv2pOFfMB45",
        "colab_type": "code",
        "colab": {
          "base_uri": "https://localhost:8080/",
          "height": 204
        },
        "outputId": "1bccb146-89c7-4a9b-9795-e450cff3de84"
      },
      "source": [
        "data = pd.read_csv('/content/drive/My Drive/Machine_Learning/Datasets/Atividade_2/ca_prostata.csv')\n",
        "data.head()"
      ],
      "execution_count": 168,
      "outputs": [
        {
          "output_type": "execute_result",
          "data": {
            "text/html": [
              "<div>\n",
              "<style scoped>\n",
              "    .dataframe tbody tr th:only-of-type {\n",
              "        vertical-align: middle;\n",
              "    }\n",
              "\n",
              "    .dataframe tbody tr th {\n",
              "        vertical-align: top;\n",
              "    }\n",
              "\n",
              "    .dataframe thead th {\n",
              "        text-align: right;\n",
              "    }\n",
              "</style>\n",
              "<table border=\"1\" class=\"dataframe\">\n",
              "  <thead>\n",
              "    <tr style=\"text-align: right;\">\n",
              "      <th></th>\n",
              "      <th>id</th>\n",
              "      <th>diagnosis_result</th>\n",
              "      <th>radius</th>\n",
              "      <th>texture</th>\n",
              "      <th>perimeter</th>\n",
              "      <th>area</th>\n",
              "      <th>smoothness</th>\n",
              "      <th>compactness</th>\n",
              "      <th>symmetry</th>\n",
              "      <th>fractal_dimension</th>\n",
              "    </tr>\n",
              "  </thead>\n",
              "  <tbody>\n",
              "    <tr>\n",
              "      <th>0</th>\n",
              "      <td>1</td>\n",
              "      <td>M</td>\n",
              "      <td>23</td>\n",
              "      <td>12</td>\n",
              "      <td>151</td>\n",
              "      <td>954</td>\n",
              "      <td>0.143</td>\n",
              "      <td>0.278</td>\n",
              "      <td>0.242</td>\n",
              "      <td>0.079</td>\n",
              "    </tr>\n",
              "    <tr>\n",
              "      <th>1</th>\n",
              "      <td>2</td>\n",
              "      <td>B</td>\n",
              "      <td>9</td>\n",
              "      <td>13</td>\n",
              "      <td>133</td>\n",
              "      <td>1326</td>\n",
              "      <td>0.143</td>\n",
              "      <td>0.079</td>\n",
              "      <td>0.181</td>\n",
              "      <td>0.057</td>\n",
              "    </tr>\n",
              "    <tr>\n",
              "      <th>2</th>\n",
              "      <td>3</td>\n",
              "      <td>M</td>\n",
              "      <td>21</td>\n",
              "      <td>27</td>\n",
              "      <td>130</td>\n",
              "      <td>1203</td>\n",
              "      <td>0.125</td>\n",
              "      <td>0.160</td>\n",
              "      <td>0.207</td>\n",
              "      <td>0.060</td>\n",
              "    </tr>\n",
              "    <tr>\n",
              "      <th>3</th>\n",
              "      <td>4</td>\n",
              "      <td>M</td>\n",
              "      <td>14</td>\n",
              "      <td>16</td>\n",
              "      <td>78</td>\n",
              "      <td>386</td>\n",
              "      <td>0.070</td>\n",
              "      <td>0.284</td>\n",
              "      <td>0.260</td>\n",
              "      <td>0.097</td>\n",
              "    </tr>\n",
              "    <tr>\n",
              "      <th>4</th>\n",
              "      <td>5</td>\n",
              "      <td>M</td>\n",
              "      <td>9</td>\n",
              "      <td>19</td>\n",
              "      <td>135</td>\n",
              "      <td>1297</td>\n",
              "      <td>0.141</td>\n",
              "      <td>0.133</td>\n",
              "      <td>0.181</td>\n",
              "      <td>0.059</td>\n",
              "    </tr>\n",
              "  </tbody>\n",
              "</table>\n",
              "</div>"
            ],
            "text/plain": [
              "   id diagnosis_result  radius  ...  compactness  symmetry  fractal_dimension\n",
              "0   1                M      23  ...        0.278     0.242              0.079\n",
              "1   2                B       9  ...        0.079     0.181              0.057\n",
              "2   3                M      21  ...        0.160     0.207              0.060\n",
              "3   4                M      14  ...        0.284     0.260              0.097\n",
              "4   5                M       9  ...        0.133     0.181              0.059\n",
              "\n",
              "[5 rows x 10 columns]"
            ]
          },
          "metadata": {
            "tags": []
          },
          "execution_count": 168
        }
      ]
    },
    {
      "cell_type": "markdown",
      "metadata": {
        "colab_type": "text",
        "id": "-4LriInVsCEi"
      },
      "source": [
        "## 2. Limpeza e organização dos dados"
      ]
    },
    {
      "cell_type": "markdown",
      "metadata": {
        "id": "_ke2NNZEN3oa",
        "colab_type": "text"
      },
      "source": [
        "### 2.1 Limpeza dos dados"
      ]
    },
    {
      "cell_type": "markdown",
      "metadata": {
        "id": "J_KJyKJuSyVm",
        "colab_type": "text"
      },
      "source": [
        "#### 2.1.1 Remoção da coluna 'id'"
      ]
    },
    {
      "cell_type": "code",
      "metadata": {
        "id": "sU4ZWQ2dNVOM",
        "colab_type": "code",
        "colab": {
          "base_uri": "https://localhost:8080/",
          "height": 204
        },
        "outputId": "b58bed6a-eb46-4a3a-b6cb-6cf469da46a6"
      },
      "source": [
        "data = data.dropna()\n",
        "data = data.drop(columns = ['id'])\n",
        "data.head()"
      ],
      "execution_count": 169,
      "outputs": [
        {
          "output_type": "execute_result",
          "data": {
            "text/html": [
              "<div>\n",
              "<style scoped>\n",
              "    .dataframe tbody tr th:only-of-type {\n",
              "        vertical-align: middle;\n",
              "    }\n",
              "\n",
              "    .dataframe tbody tr th {\n",
              "        vertical-align: top;\n",
              "    }\n",
              "\n",
              "    .dataframe thead th {\n",
              "        text-align: right;\n",
              "    }\n",
              "</style>\n",
              "<table border=\"1\" class=\"dataframe\">\n",
              "  <thead>\n",
              "    <tr style=\"text-align: right;\">\n",
              "      <th></th>\n",
              "      <th>diagnosis_result</th>\n",
              "      <th>radius</th>\n",
              "      <th>texture</th>\n",
              "      <th>perimeter</th>\n",
              "      <th>area</th>\n",
              "      <th>smoothness</th>\n",
              "      <th>compactness</th>\n",
              "      <th>symmetry</th>\n",
              "      <th>fractal_dimension</th>\n",
              "    </tr>\n",
              "  </thead>\n",
              "  <tbody>\n",
              "    <tr>\n",
              "      <th>0</th>\n",
              "      <td>M</td>\n",
              "      <td>23</td>\n",
              "      <td>12</td>\n",
              "      <td>151</td>\n",
              "      <td>954</td>\n",
              "      <td>0.143</td>\n",
              "      <td>0.278</td>\n",
              "      <td>0.242</td>\n",
              "      <td>0.079</td>\n",
              "    </tr>\n",
              "    <tr>\n",
              "      <th>1</th>\n",
              "      <td>B</td>\n",
              "      <td>9</td>\n",
              "      <td>13</td>\n",
              "      <td>133</td>\n",
              "      <td>1326</td>\n",
              "      <td>0.143</td>\n",
              "      <td>0.079</td>\n",
              "      <td>0.181</td>\n",
              "      <td>0.057</td>\n",
              "    </tr>\n",
              "    <tr>\n",
              "      <th>2</th>\n",
              "      <td>M</td>\n",
              "      <td>21</td>\n",
              "      <td>27</td>\n",
              "      <td>130</td>\n",
              "      <td>1203</td>\n",
              "      <td>0.125</td>\n",
              "      <td>0.160</td>\n",
              "      <td>0.207</td>\n",
              "      <td>0.060</td>\n",
              "    </tr>\n",
              "    <tr>\n",
              "      <th>3</th>\n",
              "      <td>M</td>\n",
              "      <td>14</td>\n",
              "      <td>16</td>\n",
              "      <td>78</td>\n",
              "      <td>386</td>\n",
              "      <td>0.070</td>\n",
              "      <td>0.284</td>\n",
              "      <td>0.260</td>\n",
              "      <td>0.097</td>\n",
              "    </tr>\n",
              "    <tr>\n",
              "      <th>4</th>\n",
              "      <td>M</td>\n",
              "      <td>9</td>\n",
              "      <td>19</td>\n",
              "      <td>135</td>\n",
              "      <td>1297</td>\n",
              "      <td>0.141</td>\n",
              "      <td>0.133</td>\n",
              "      <td>0.181</td>\n",
              "      <td>0.059</td>\n",
              "    </tr>\n",
              "  </tbody>\n",
              "</table>\n",
              "</div>"
            ],
            "text/plain": [
              "  diagnosis_result  radius  texture  ...  compactness  symmetry  fractal_dimension\n",
              "0                M      23       12  ...        0.278     0.242              0.079\n",
              "1                B       9       13  ...        0.079     0.181              0.057\n",
              "2                M      21       27  ...        0.160     0.207              0.060\n",
              "3                M      14       16  ...        0.284     0.260              0.097\n",
              "4                M       9       19  ...        0.133     0.181              0.059\n",
              "\n",
              "[5 rows x 9 columns]"
            ]
          },
          "metadata": {
            "tags": []
          },
          "execution_count": 169
        }
      ]
    },
    {
      "cell_type": "markdown",
      "metadata": {
        "id": "UZDGOTOAS2ZV",
        "colab_type": "text"
      },
      "source": [
        "#### 2.1.2 Mudança dos valores 'B' e 'M' para '0' e '1'"
      ]
    },
    {
      "cell_type": "code",
      "metadata": {
        "id": "Gl1vZMo8NuRw",
        "colab_type": "code",
        "colab": {
          "base_uri": "https://localhost:8080/",
          "height": 204
        },
        "outputId": "1a00834d-f50d-4573-8a0b-a6a11f050333"
      },
      "source": [
        "data['diagnosis_result'] = data['diagnosis_result'].replace(['B', 'M'], [0, 1])\n",
        "data.head()"
      ],
      "execution_count": 170,
      "outputs": [
        {
          "output_type": "execute_result",
          "data": {
            "text/html": [
              "<div>\n",
              "<style scoped>\n",
              "    .dataframe tbody tr th:only-of-type {\n",
              "        vertical-align: middle;\n",
              "    }\n",
              "\n",
              "    .dataframe tbody tr th {\n",
              "        vertical-align: top;\n",
              "    }\n",
              "\n",
              "    .dataframe thead th {\n",
              "        text-align: right;\n",
              "    }\n",
              "</style>\n",
              "<table border=\"1\" class=\"dataframe\">\n",
              "  <thead>\n",
              "    <tr style=\"text-align: right;\">\n",
              "      <th></th>\n",
              "      <th>diagnosis_result</th>\n",
              "      <th>radius</th>\n",
              "      <th>texture</th>\n",
              "      <th>perimeter</th>\n",
              "      <th>area</th>\n",
              "      <th>smoothness</th>\n",
              "      <th>compactness</th>\n",
              "      <th>symmetry</th>\n",
              "      <th>fractal_dimension</th>\n",
              "    </tr>\n",
              "  </thead>\n",
              "  <tbody>\n",
              "    <tr>\n",
              "      <th>0</th>\n",
              "      <td>1</td>\n",
              "      <td>23</td>\n",
              "      <td>12</td>\n",
              "      <td>151</td>\n",
              "      <td>954</td>\n",
              "      <td>0.143</td>\n",
              "      <td>0.278</td>\n",
              "      <td>0.242</td>\n",
              "      <td>0.079</td>\n",
              "    </tr>\n",
              "    <tr>\n",
              "      <th>1</th>\n",
              "      <td>0</td>\n",
              "      <td>9</td>\n",
              "      <td>13</td>\n",
              "      <td>133</td>\n",
              "      <td>1326</td>\n",
              "      <td>0.143</td>\n",
              "      <td>0.079</td>\n",
              "      <td>0.181</td>\n",
              "      <td>0.057</td>\n",
              "    </tr>\n",
              "    <tr>\n",
              "      <th>2</th>\n",
              "      <td>1</td>\n",
              "      <td>21</td>\n",
              "      <td>27</td>\n",
              "      <td>130</td>\n",
              "      <td>1203</td>\n",
              "      <td>0.125</td>\n",
              "      <td>0.160</td>\n",
              "      <td>0.207</td>\n",
              "      <td>0.060</td>\n",
              "    </tr>\n",
              "    <tr>\n",
              "      <th>3</th>\n",
              "      <td>1</td>\n",
              "      <td>14</td>\n",
              "      <td>16</td>\n",
              "      <td>78</td>\n",
              "      <td>386</td>\n",
              "      <td>0.070</td>\n",
              "      <td>0.284</td>\n",
              "      <td>0.260</td>\n",
              "      <td>0.097</td>\n",
              "    </tr>\n",
              "    <tr>\n",
              "      <th>4</th>\n",
              "      <td>1</td>\n",
              "      <td>9</td>\n",
              "      <td>19</td>\n",
              "      <td>135</td>\n",
              "      <td>1297</td>\n",
              "      <td>0.141</td>\n",
              "      <td>0.133</td>\n",
              "      <td>0.181</td>\n",
              "      <td>0.059</td>\n",
              "    </tr>\n",
              "  </tbody>\n",
              "</table>\n",
              "</div>"
            ],
            "text/plain": [
              "   diagnosis_result  radius  texture  ...  compactness  symmetry  fractal_dimension\n",
              "0                 1      23       12  ...        0.278     0.242              0.079\n",
              "1                 0       9       13  ...        0.079     0.181              0.057\n",
              "2                 1      21       27  ...        0.160     0.207              0.060\n",
              "3                 1      14       16  ...        0.284     0.260              0.097\n",
              "4                 1       9       19  ...        0.133     0.181              0.059\n",
              "\n",
              "[5 rows x 9 columns]"
            ]
          },
          "metadata": {
            "tags": []
          },
          "execution_count": 170
        }
      ]
    },
    {
      "cell_type": "markdown",
      "metadata": {
        "id": "lWuDlGphN-BZ",
        "colab_type": "text"
      },
      "source": [
        "### 2.2 Re-escala dos dados usando máximo e mínimo"
      ]
    },
    {
      "cell_type": "code",
      "metadata": {
        "id": "zBc9sKcfOBUP",
        "colab_type": "code",
        "colab": {
          "base_uri": "https://localhost:8080/",
          "height": 204
        },
        "outputId": "270039b9-7952-402e-c6bb-f13f46f3cb51"
      },
      "source": [
        "data = (data - data.min()) / (data.max() - data.min())\n",
        "data.head()"
      ],
      "execution_count": 171,
      "outputs": [
        {
          "output_type": "execute_result",
          "data": {
            "text/html": [
              "<div>\n",
              "<style scoped>\n",
              "    .dataframe tbody tr th:only-of-type {\n",
              "        vertical-align: middle;\n",
              "    }\n",
              "\n",
              "    .dataframe tbody tr th {\n",
              "        vertical-align: top;\n",
              "    }\n",
              "\n",
              "    .dataframe thead th {\n",
              "        text-align: right;\n",
              "    }\n",
              "</style>\n",
              "<table border=\"1\" class=\"dataframe\">\n",
              "  <thead>\n",
              "    <tr style=\"text-align: right;\">\n",
              "      <th></th>\n",
              "      <th>diagnosis_result</th>\n",
              "      <th>radius</th>\n",
              "      <th>texture</th>\n",
              "      <th>perimeter</th>\n",
              "      <th>area</th>\n",
              "      <th>smoothness</th>\n",
              "      <th>compactness</th>\n",
              "      <th>symmetry</th>\n",
              "      <th>fractal_dimension</th>\n",
              "    </tr>\n",
              "  </thead>\n",
              "  <tbody>\n",
              "    <tr>\n",
              "      <th>0</th>\n",
              "      <td>1.0</td>\n",
              "      <td>0.8750</td>\n",
              "      <td>0.0625</td>\n",
              "      <td>0.825000</td>\n",
              "      <td>0.448687</td>\n",
              "      <td>1.000000</td>\n",
              "      <td>0.781759</td>\n",
              "      <td>0.633136</td>\n",
              "      <td>0.590909</td>\n",
              "    </tr>\n",
              "    <tr>\n",
              "      <th>1</th>\n",
              "      <td>0.0</td>\n",
              "      <td>0.0000</td>\n",
              "      <td>0.1250</td>\n",
              "      <td>0.675000</td>\n",
              "      <td>0.670644</td>\n",
              "      <td>1.000000</td>\n",
              "      <td>0.133550</td>\n",
              "      <td>0.272189</td>\n",
              "      <td>0.090909</td>\n",
              "    </tr>\n",
              "    <tr>\n",
              "      <th>2</th>\n",
              "      <td>1.0</td>\n",
              "      <td>0.7500</td>\n",
              "      <td>1.0000</td>\n",
              "      <td>0.650000</td>\n",
              "      <td>0.597255</td>\n",
              "      <td>0.753425</td>\n",
              "      <td>0.397394</td>\n",
              "      <td>0.426036</td>\n",
              "      <td>0.159091</td>\n",
              "    </tr>\n",
              "    <tr>\n",
              "      <th>3</th>\n",
              "      <td>1.0</td>\n",
              "      <td>0.3125</td>\n",
              "      <td>0.3125</td>\n",
              "      <td>0.216667</td>\n",
              "      <td>0.109785</td>\n",
              "      <td>0.000000</td>\n",
              "      <td>0.801303</td>\n",
              "      <td>0.739645</td>\n",
              "      <td>1.000000</td>\n",
              "    </tr>\n",
              "    <tr>\n",
              "      <th>4</th>\n",
              "      <td>1.0</td>\n",
              "      <td>0.0000</td>\n",
              "      <td>0.5000</td>\n",
              "      <td>0.691667</td>\n",
              "      <td>0.653341</td>\n",
              "      <td>0.972603</td>\n",
              "      <td>0.309446</td>\n",
              "      <td>0.272189</td>\n",
              "      <td>0.136364</td>\n",
              "    </tr>\n",
              "  </tbody>\n",
              "</table>\n",
              "</div>"
            ],
            "text/plain": [
              "   diagnosis_result  radius  texture  ...  compactness  symmetry  fractal_dimension\n",
              "0               1.0  0.8750   0.0625  ...     0.781759  0.633136           0.590909\n",
              "1               0.0  0.0000   0.1250  ...     0.133550  0.272189           0.090909\n",
              "2               1.0  0.7500   1.0000  ...     0.397394  0.426036           0.159091\n",
              "3               1.0  0.3125   0.3125  ...     0.801303  0.739645           1.000000\n",
              "4               1.0  0.0000   0.5000  ...     0.309446  0.272189           0.136364\n",
              "\n",
              "[5 rows x 9 columns]"
            ]
          },
          "metadata": {
            "tags": []
          },
          "execution_count": 171
        }
      ]
    },
    {
      "cell_type": "markdown",
      "metadata": {
        "id": "h6ur5MbnPpGP",
        "colab_type": "text"
      },
      "source": [
        "### 2.3 Divisão dos dados"
      ]
    },
    {
      "cell_type": "markdown",
      "metadata": {
        "id": "jMpeB48EPuuE",
        "colab_type": "text"
      },
      "source": [
        "#### 2.3.1 Atributos de classe"
      ]
    },
    {
      "cell_type": "code",
      "metadata": {
        "id": "vu64Yb-lP4_E",
        "colab_type": "code",
        "colab": {
          "base_uri": "https://localhost:8080/",
          "height": 119
        },
        "outputId": "2370ddc6-125b-42e6-c5c7-d01a9024dc13"
      },
      "source": [
        "y = data.diagnosis_result\n",
        "y.head()"
      ],
      "execution_count": 172,
      "outputs": [
        {
          "output_type": "execute_result",
          "data": {
            "text/plain": [
              "0    1.0\n",
              "1    0.0\n",
              "2    1.0\n",
              "3    1.0\n",
              "4    1.0\n",
              "Name: diagnosis_result, dtype: float64"
            ]
          },
          "metadata": {
            "tags": []
          },
          "execution_count": 172
        }
      ]
    },
    {
      "cell_type": "markdown",
      "metadata": {
        "colab_type": "text",
        "id": "DfhNMi4JP03p"
      },
      "source": [
        "#### 2.3.2 Atributos descritores"
      ]
    },
    {
      "cell_type": "code",
      "metadata": {
        "id": "TDBSmsBgP6FZ",
        "colab_type": "code",
        "colab": {
          "base_uri": "https://localhost:8080/",
          "height": 204
        },
        "outputId": "efb642f8-4378-4a0c-dfa5-d4e09091a53f"
      },
      "source": [
        "x = data.iloc[:, 1:]\n",
        "x.head()"
      ],
      "execution_count": 173,
      "outputs": [
        {
          "output_type": "execute_result",
          "data": {
            "text/html": [
              "<div>\n",
              "<style scoped>\n",
              "    .dataframe tbody tr th:only-of-type {\n",
              "        vertical-align: middle;\n",
              "    }\n",
              "\n",
              "    .dataframe tbody tr th {\n",
              "        vertical-align: top;\n",
              "    }\n",
              "\n",
              "    .dataframe thead th {\n",
              "        text-align: right;\n",
              "    }\n",
              "</style>\n",
              "<table border=\"1\" class=\"dataframe\">\n",
              "  <thead>\n",
              "    <tr style=\"text-align: right;\">\n",
              "      <th></th>\n",
              "      <th>radius</th>\n",
              "      <th>texture</th>\n",
              "      <th>perimeter</th>\n",
              "      <th>area</th>\n",
              "      <th>smoothness</th>\n",
              "      <th>compactness</th>\n",
              "      <th>symmetry</th>\n",
              "      <th>fractal_dimension</th>\n",
              "    </tr>\n",
              "  </thead>\n",
              "  <tbody>\n",
              "    <tr>\n",
              "      <th>0</th>\n",
              "      <td>0.8750</td>\n",
              "      <td>0.0625</td>\n",
              "      <td>0.825000</td>\n",
              "      <td>0.448687</td>\n",
              "      <td>1.000000</td>\n",
              "      <td>0.781759</td>\n",
              "      <td>0.633136</td>\n",
              "      <td>0.590909</td>\n",
              "    </tr>\n",
              "    <tr>\n",
              "      <th>1</th>\n",
              "      <td>0.0000</td>\n",
              "      <td>0.1250</td>\n",
              "      <td>0.675000</td>\n",
              "      <td>0.670644</td>\n",
              "      <td>1.000000</td>\n",
              "      <td>0.133550</td>\n",
              "      <td>0.272189</td>\n",
              "      <td>0.090909</td>\n",
              "    </tr>\n",
              "    <tr>\n",
              "      <th>2</th>\n",
              "      <td>0.7500</td>\n",
              "      <td>1.0000</td>\n",
              "      <td>0.650000</td>\n",
              "      <td>0.597255</td>\n",
              "      <td>0.753425</td>\n",
              "      <td>0.397394</td>\n",
              "      <td>0.426036</td>\n",
              "      <td>0.159091</td>\n",
              "    </tr>\n",
              "    <tr>\n",
              "      <th>3</th>\n",
              "      <td>0.3125</td>\n",
              "      <td>0.3125</td>\n",
              "      <td>0.216667</td>\n",
              "      <td>0.109785</td>\n",
              "      <td>0.000000</td>\n",
              "      <td>0.801303</td>\n",
              "      <td>0.739645</td>\n",
              "      <td>1.000000</td>\n",
              "    </tr>\n",
              "    <tr>\n",
              "      <th>4</th>\n",
              "      <td>0.0000</td>\n",
              "      <td>0.5000</td>\n",
              "      <td>0.691667</td>\n",
              "      <td>0.653341</td>\n",
              "      <td>0.972603</td>\n",
              "      <td>0.309446</td>\n",
              "      <td>0.272189</td>\n",
              "      <td>0.136364</td>\n",
              "    </tr>\n",
              "  </tbody>\n",
              "</table>\n",
              "</div>"
            ],
            "text/plain": [
              "   radius  texture  perimeter  ...  compactness  symmetry  fractal_dimension\n",
              "0  0.8750   0.0625   0.825000  ...     0.781759  0.633136           0.590909\n",
              "1  0.0000   0.1250   0.675000  ...     0.133550  0.272189           0.090909\n",
              "2  0.7500   1.0000   0.650000  ...     0.397394  0.426036           0.159091\n",
              "3  0.3125   0.3125   0.216667  ...     0.801303  0.739645           1.000000\n",
              "4  0.0000   0.5000   0.691667  ...     0.309446  0.272189           0.136364\n",
              "\n",
              "[5 rows x 8 columns]"
            ]
          },
          "metadata": {
            "tags": []
          },
          "execution_count": 173
        }
      ]
    },
    {
      "cell_type": "markdown",
      "metadata": {
        "id": "nnvf_SubTRlE",
        "colab_type": "text"
      },
      "source": [
        "#### 2.3.3 Conjunto de treino e conjunto de teste"
      ]
    },
    {
      "cell_type": "code",
      "metadata": {
        "id": "sr7gixfxTd01",
        "colab_type": "code",
        "colab": {}
      },
      "source": [
        "x_train, x_test, y_train, y_test = train_test_split(x, y, test_size =  0.2)"
      ],
      "execution_count": 174,
      "outputs": []
    },
    {
      "cell_type": "code",
      "metadata": {
        "id": "_TDKAY3pcDUC",
        "colab_type": "code",
        "colab": {
          "base_uri": "https://localhost:8080/",
          "height": 204
        },
        "outputId": "b8723816-300c-40a6-fc25-da3d8381f9b0"
      },
      "source": [
        "x_train.head()"
      ],
      "execution_count": 175,
      "outputs": [
        {
          "output_type": "execute_result",
          "data": {
            "text/html": [
              "<div>\n",
              "<style scoped>\n",
              "    .dataframe tbody tr th:only-of-type {\n",
              "        vertical-align: middle;\n",
              "    }\n",
              "\n",
              "    .dataframe tbody tr th {\n",
              "        vertical-align: top;\n",
              "    }\n",
              "\n",
              "    .dataframe thead th {\n",
              "        text-align: right;\n",
              "    }\n",
              "</style>\n",
              "<table border=\"1\" class=\"dataframe\">\n",
              "  <thead>\n",
              "    <tr style=\"text-align: right;\">\n",
              "      <th></th>\n",
              "      <th>radius</th>\n",
              "      <th>texture</th>\n",
              "      <th>perimeter</th>\n",
              "      <th>area</th>\n",
              "      <th>smoothness</th>\n",
              "      <th>compactness</th>\n",
              "      <th>symmetry</th>\n",
              "      <th>fractal_dimension</th>\n",
              "    </tr>\n",
              "  </thead>\n",
              "  <tbody>\n",
              "    <tr>\n",
              "      <th>69</th>\n",
              "      <td>0.5000</td>\n",
              "      <td>0.6250</td>\n",
              "      <td>0.241667</td>\n",
              "      <td>0.179594</td>\n",
              "      <td>0.383562</td>\n",
              "      <td>0.045603</td>\n",
              "      <td>0.142012</td>\n",
              "      <td>0.090909</td>\n",
              "    </tr>\n",
              "    <tr>\n",
              "      <th>17</th>\n",
              "      <td>0.3750</td>\n",
              "      <td>0.1875</td>\n",
              "      <td>0.466667</td>\n",
              "      <td>0.356205</td>\n",
              "      <td>0.643836</td>\n",
              "      <td>0.534202</td>\n",
              "      <td>0.479290</td>\n",
              "      <td>0.477273</td>\n",
              "    </tr>\n",
              "    <tr>\n",
              "      <th>42</th>\n",
              "      <td>0.1250</td>\n",
              "      <td>0.0000</td>\n",
              "      <td>0.633333</td>\n",
              "      <td>0.538186</td>\n",
              "      <td>0.287671</td>\n",
              "      <td>0.589577</td>\n",
              "      <td>0.568047</td>\n",
              "      <td>0.227273</td>\n",
              "    </tr>\n",
              "    <tr>\n",
              "      <th>64</th>\n",
              "      <td>0.4375</td>\n",
              "      <td>0.5000</td>\n",
              "      <td>0.258333</td>\n",
              "      <td>0.177208</td>\n",
              "      <td>0.575342</td>\n",
              "      <td>0.286645</td>\n",
              "      <td>0.331361</td>\n",
              "      <td>0.295455</td>\n",
              "    </tr>\n",
              "    <tr>\n",
              "      <th>71</th>\n",
              "      <td>0.0000</td>\n",
              "      <td>0.9375</td>\n",
              "      <td>0.058333</td>\n",
              "      <td>0.025060</td>\n",
              "      <td>0.383562</td>\n",
              "      <td>0.374593</td>\n",
              "      <td>0.325444</td>\n",
              "      <td>0.840909</td>\n",
              "    </tr>\n",
              "  </tbody>\n",
              "</table>\n",
              "</div>"
            ],
            "text/plain": [
              "    radius  texture  perimeter  ...  compactness  symmetry  fractal_dimension\n",
              "69  0.5000   0.6250   0.241667  ...     0.045603  0.142012           0.090909\n",
              "17  0.3750   0.1875   0.466667  ...     0.534202  0.479290           0.477273\n",
              "42  0.1250   0.0000   0.633333  ...     0.589577  0.568047           0.227273\n",
              "64  0.4375   0.5000   0.258333  ...     0.286645  0.331361           0.295455\n",
              "71  0.0000   0.9375   0.058333  ...     0.374593  0.325444           0.840909\n",
              "\n",
              "[5 rows x 8 columns]"
            ]
          },
          "metadata": {
            "tags": []
          },
          "execution_count": 175
        }
      ]
    },
    {
      "cell_type": "code",
      "metadata": {
        "id": "uS8EfJ4KcIK1",
        "colab_type": "code",
        "colab": {
          "base_uri": "https://localhost:8080/",
          "height": 119
        },
        "outputId": "a39bef93-0380-48cf-caa9-c1b01c8a8439"
      },
      "source": [
        "y_train.head()"
      ],
      "execution_count": 176,
      "outputs": [
        {
          "output_type": "execute_result",
          "data": {
            "text/plain": [
              "69    0.0\n",
              "17    1.0\n",
              "42    1.0\n",
              "64    1.0\n",
              "71    0.0\n",
              "Name: diagnosis_result, dtype: float64"
            ]
          },
          "metadata": {
            "tags": []
          },
          "execution_count": 176
        }
      ]
    },
    {
      "cell_type": "markdown",
      "metadata": {
        "colab_type": "text",
        "id": "EGYtRjebsI0K"
      },
      "source": [
        "## 3. Treinamentos"
      ]
    },
    {
      "cell_type": "markdown",
      "metadata": {
        "id": "lUcYh_xpcWE0",
        "colab_type": "text"
      },
      "source": [
        "### 3.1 Árvore de decisão"
      ]
    },
    {
      "cell_type": "markdown",
      "metadata": {
        "id": "g8IQk4kZh5XP",
        "colab_type": "text"
      },
      "source": [
        "#### 3.1.1 Criando a Árvore de decisão"
      ]
    },
    {
      "cell_type": "code",
      "metadata": {
        "id": "D4fytY8OcgTe",
        "colab_type": "code",
        "colab": {
          "base_uri": "https://localhost:8080/",
          "height": 119
        },
        "outputId": "1385ecaf-4be7-4fc9-f1a2-8c9692bace6a"
      },
      "source": [
        "sorter = DecisionTreeClassifier()\n",
        "sorter.fit(x_train, y_train)"
      ],
      "execution_count": 177,
      "outputs": [
        {
          "output_type": "execute_result",
          "data": {
            "text/plain": [
              "DecisionTreeClassifier(ccp_alpha=0.0, class_weight=None, criterion='gini',\n",
              "                       max_depth=None, max_features=None, max_leaf_nodes=None,\n",
              "                       min_impurity_decrease=0.0, min_impurity_split=None,\n",
              "                       min_samples_leaf=1, min_samples_split=2,\n",
              "                       min_weight_fraction_leaf=0.0, presort='deprecated',\n",
              "                       random_state=None, splitter='best')"
            ]
          },
          "metadata": {
            "tags": []
          },
          "execution_count": 177
        }
      ]
    },
    {
      "cell_type": "code",
      "metadata": {
        "id": "eP0G7iN7evh8",
        "colab_type": "code",
        "colab": {
          "base_uri": "https://localhost:8080/",
          "height": 575
        },
        "outputId": "d9da3b68-b0ba-49d3-ef29-794110139b92"
      },
      "source": [
        "plt.rcParams['figure.figsize'] = (20, 10)\n",
        "plot_tree(sorter, feature_names = data.columns[1:])\n",
        "plt.show()"
      ],
      "execution_count": 178,
      "outputs": [
        {
          "output_type": "display_data",
          "data": {
            "image/png": "[encoded data removed]",
            "text/plain": [
              "<Figure size 1440x720 with 1 Axes>"
            ]
          },
          "metadata": {
            "tags": [],
            "needs_background": "light"
          }
        }
      ]
    },
    {
      "cell_type": "markdown",
      "metadata": {
        "colab_type": "text",
        "id": "7RTB8bINceS5"
      },
      "source": [
        "#### 3.1.2 Comparando as saídas"
      ]
    },
    {
      "cell_type": "code",
      "metadata": {
        "id": "QX4aze0wicFI",
        "colab_type": "code",
        "colab": {
          "base_uri": "https://localhost:8080/",
          "height": 357
        },
        "outputId": "f9640cd9-fd2a-4d6e-8703-2f889221c9db"
      },
      "source": [
        "rating = sorter.predict(x_test)\n",
        "\n",
        "for i in range(len(y_test)):\n",
        "    print(y_test.iloc[i], '\\t', rating[i])"
      ],
      "execution_count": 179,
      "outputs": [
        {
          "output_type": "stream",
          "text": [
            "0.0 \t 0.0\n",
            "1.0 \t 0.0\n",
            "1.0 \t 0.0\n",
            "0.0 \t 0.0\n",
            "1.0 \t 1.0\n",
            "1.0 \t 1.0\n",
            "0.0 \t 1.0\n",
            "1.0 \t 1.0\n",
            "0.0 \t 0.0\n",
            "1.0 \t 1.0\n",
            "1.0 \t 1.0\n",
            "0.0 \t 1.0\n",
            "0.0 \t 0.0\n",
            "1.0 \t 1.0\n",
            "0.0 \t 0.0\n",
            "0.0 \t 0.0\n",
            "1.0 \t 1.0\n",
            "1.0 \t 0.0\n",
            "0.0 \t 0.0\n",
            "1.0 \t 1.0\n"
          ],
          "name": "stdout"
        }
      ]
    },
    {
      "cell_type": "markdown",
      "metadata": {
        "id": "4YIBiYT_mipU",
        "colab_type": "text"
      },
      "source": [
        "#### 3.1.3 Acurácia"
      ]
    },
    {
      "cell_type": "code",
      "metadata": {
        "id": "KRiollkImo1K",
        "colab_type": "code",
        "colab": {
          "base_uri": "https://localhost:8080/",
          "height": 34
        },
        "outputId": "946021f3-92ef-428a-a564-e24540af5c24"
      },
      "source": [
        "acuracia = accuracy_score(y_test, rating)\n",
        "acuracia"
      ],
      "execution_count": 180,
      "outputs": [
        {
          "output_type": "execute_result",
          "data": {
            "text/plain": [
              "0.75"
            ]
          },
          "metadata": {
            "tags": []
          },
          "execution_count": 180
        }
      ]
    },
    {
      "cell_type": "markdown",
      "metadata": {
        "id": "vJHT8cGNowt4",
        "colab_type": "text"
      },
      "source": [
        "#### 3.1.4 Precisão"
      ]
    },
    {
      "cell_type": "code",
      "metadata": {
        "id": "QhQXnm1Oo0XA",
        "colab_type": "code",
        "colab": {
          "base_uri": "https://localhost:8080/",
          "height": 34
        },
        "outputId": "c88e02a2-c3d0-47c7-a1c4-fea592f0aa06"
      },
      "source": [
        "precisao = precision_score(y_test, rating)\n",
        "precisao"
      ],
      "execution_count": 181,
      "outputs": [
        {
          "output_type": "execute_result",
          "data": {
            "text/plain": [
              "0.8"
            ]
          },
          "metadata": {
            "tags": []
          },
          "execution_count": 181
        }
      ]
    },
    {
      "cell_type": "markdown",
      "metadata": {
        "id": "3ZaSK2I0o04Z",
        "colab_type": "text"
      },
      "source": [
        "#### 3.1.5 Recall"
      ]
    },
    {
      "cell_type": "code",
      "metadata": {
        "id": "QmPqJHKao6HW",
        "colab_type": "code",
        "colab": {
          "base_uri": "https://localhost:8080/",
          "height": 34
        },
        "outputId": "a54ab05f-b5d8-4b58-da62-2cd9ca6da056"
      },
      "source": [
        "recall = recall_score(y_test, rating)\n",
        "recall"
      ],
      "execution_count": 182,
      "outputs": [
        {
          "output_type": "execute_result",
          "data": {
            "text/plain": [
              "0.7272727272727273"
            ]
          },
          "metadata": {
            "tags": []
          },
          "execution_count": 182
        }
      ]
    },
    {
      "cell_type": "markdown",
      "metadata": {
        "id": "FnxNPjSDo-SJ",
        "colab_type": "text"
      },
      "source": [
        "#### 3.1.6 F1-score"
      ]
    },
    {
      "cell_type": "code",
      "metadata": {
        "id": "yRFWywVxpG6p",
        "colab_type": "code",
        "colab": {
          "base_uri": "https://localhost:8080/",
          "height": 34
        },
        "outputId": "cd8fe663-ac53-41f8-f0b1-fba91caf2121"
      },
      "source": [
        "f_1_score = f1_score(y_test, rating)\n",
        "f_1_score"
      ],
      "execution_count": 183,
      "outputs": [
        {
          "output_type": "execute_result",
          "data": {
            "text/plain": [
              "0.761904761904762"
            ]
          },
          "metadata": {
            "tags": []
          },
          "execution_count": 183
        }
      ]
    },
    {
      "cell_type": "markdown",
      "metadata": {
        "id": "XjxPaiWhq0kI",
        "colab_type": "text"
      },
      "source": [
        "#### 3.1.7 Curva ROC"
      ]
    },
    {
      "cell_type": "code",
      "metadata": {
        "id": "5X32S5tmq4oL",
        "colab_type": "code",
        "colab": {
          "base_uri": "https://localhost:8080/",
          "height": 421
        },
        "outputId": "11c267ca-07b1-42c5-d2a8-1bdc25d2fa15"
      },
      "source": [
        "plt.figure(figsize = (6, 6))\n",
        "fpr, tpr, _ = roc_curve(y_test, rating)\n",
        "plt.plot(fpr, tpr, marker = '.')\n",
        "plt.title('Curva ROC')\n",
        "plt.xlabel('Taxa de falsos positivos')\n",
        "plt.ylabel('Taxa de verdadeiros positivos')"
      ],
      "execution_count": 184,
      "outputs": [
        {
          "output_type": "execute_result",
          "data": {
            "text/plain": [
              "Text(0, 0.5, 'Taxa de verdadeiros positivos')"
            ]
          },
          "metadata": {
            "tags": []
          },
          "execution_count": 184
        },
        {
          "output_type": "display_data",
          "data": {
            "image/png": "[encoded data removed]",
            "text/plain": [
              "<Figure size 432x432 with 1 Axes>"
            ]
          },
          "metadata": {
            "tags": [],
            "needs_background": "light"
          }
        }
      ]
    },
    {
      "cell_type": "markdown",
      "metadata": {
        "id": "N4LSSzMduWo8",
        "colab_type": "text"
      },
      "source": [
        "#### 3.1.8 Área abaixo da curva (*Area under the curve* – AUC)"
      ]
    },
    {
      "cell_type": "code",
      "metadata": {
        "id": "KLp9GgskutAK",
        "colab_type": "code",
        "colab": {
          "base_uri": "https://localhost:8080/",
          "height": 34
        },
        "outputId": "ce162fe3-b7d0-4cd2-945e-12c5ce38d9f5"
      },
      "source": [
        "error_ad = roc_auc_score(y_test, rating)\n",
        "error_ad"
      ],
      "execution_count": 185,
      "outputs": [
        {
          "output_type": "execute_result",
          "data": {
            "text/plain": [
              "0.7525252525252525"
            ]
          },
          "metadata": {
            "tags": []
          },
          "execution_count": 185
        }
      ]
    },
    {
      "cell_type": "markdown",
      "metadata": {
        "id": "zgEeByGyvuhd",
        "colab_type": "text"
      },
      "source": [
        "### 3.2 *Random forest*"
      ]
    },
    {
      "cell_type": "markdown",
      "metadata": {
        "id": "9pWg8pXKyzII",
        "colab_type": "text"
      },
      "source": [
        "#### 3.2.1 Criando a *Random forest*"
      ]
    },
    {
      "cell_type": "code",
      "metadata": {
        "id": "QCAAyIoexRt_",
        "colab_type": "code",
        "colab": {
          "base_uri": "https://localhost:8080/",
          "height": 153
        },
        "outputId": "4395ce07-6752-400c-ac84-bd2ae10712d1"
      },
      "source": [
        "forest = RandomForestClassifier(n_estimators = 100)\n",
        "forest.fit(x_train, y_train)"
      ],
      "execution_count": 186,
      "outputs": [
        {
          "output_type": "execute_result",
          "data": {
            "text/plain": [
              "RandomForestClassifier(bootstrap=True, ccp_alpha=0.0, class_weight=None,\n",
              "                       criterion='gini', max_depth=None, max_features='auto',\n",
              "                       max_leaf_nodes=None, max_samples=None,\n",
              "                       min_impurity_decrease=0.0, min_impurity_split=None,\n",
              "                       min_samples_leaf=1, min_samples_split=2,\n",
              "                       min_weight_fraction_leaf=0.0, n_estimators=100,\n",
              "                       n_jobs=None, oob_score=False, random_state=None,\n",
              "                       verbose=0, warm_start=False)"
            ]
          },
          "metadata": {
            "tags": []
          },
          "execution_count": 186
        }
      ]
    },
    {
      "cell_type": "markdown",
      "metadata": {
        "id": "WqgIX9XgzMUv",
        "colab_type": "text"
      },
      "source": [
        "#### 3.2.2 Acurácia"
      ]
    },
    {
      "cell_type": "code",
      "metadata": {
        "id": "uwn009ulyYyF",
        "colab_type": "code",
        "colab": {
          "base_uri": "https://localhost:8080/",
          "height": 34
        },
        "outputId": "6119bcad-5fae-41d2-eeb8-e46ffae19863"
      },
      "source": [
        "forest.score(x_test, y_test)"
      ],
      "execution_count": 187,
      "outputs": [
        {
          "output_type": "execute_result",
          "data": {
            "text/plain": [
              "0.75"
            ]
          },
          "metadata": {
            "tags": []
          },
          "execution_count": 187
        }
      ]
    },
    {
      "cell_type": "markdown",
      "metadata": {
        "id": "oNuywtkN0Z4c",
        "colab_type": "text"
      },
      "source": [
        "#### 3.2.3 Previsão"
      ]
    },
    {
      "cell_type": "code",
      "metadata": {
        "id": "Fe8umscv0c68",
        "colab_type": "code",
        "colab": {
          "base_uri": "https://localhost:8080/",
          "height": 51
        },
        "outputId": "358c6d9c-5f9e-424f-f891-27be47f7204b"
      },
      "source": [
        "prevision = forest.predict(x_test)\n",
        "prevision"
      ],
      "execution_count": 188,
      "outputs": [
        {
          "output_type": "execute_result",
          "data": {
            "text/plain": [
              "array([0., 1., 0., 0., 1., 1., 1., 1., 0., 0., 1., 1., 0., 1., 0., 0., 1.,\n",
              "       0., 0., 1.])"
            ]
          },
          "metadata": {
            "tags": []
          },
          "execution_count": 188
        }
      ]
    },
    {
      "cell_type": "markdown",
      "metadata": {
        "id": "CcvZKJgJ1e_O",
        "colab_type": "text"
      },
      "source": [
        "#### 3.2.4 Curva ROC"
      ]
    },
    {
      "cell_type": "code",
      "metadata": {
        "id": "m2txkflV1dek",
        "colab_type": "code",
        "colab": {
          "base_uri": "https://localhost:8080/",
          "height": 421
        },
        "outputId": "83b93785-7079-4e29-8797-70f410c659c7"
      },
      "source": [
        "plt.figure(figsize = (6, 6))\n",
        "fpr_fo, tpr_fo, _ = roc_curve(y_test, prevision)\n",
        "plt.plot(fpr_fo, tpr_fo, marker = '.')\n",
        "plt.title('Curva ROC')\n",
        "plt.xlabel('Taxa de falsos positivos')\n",
        "plt.ylabel('Taxa de verdadeiros positivos')"
      ],
      "execution_count": 189,
      "outputs": [
        {
          "output_type": "execute_result",
          "data": {
            "text/plain": [
              "Text(0, 0.5, 'Taxa de verdadeiros positivos')"
            ]
          },
          "metadata": {
            "tags": []
          },
          "execution_count": 189
        },
        {
          "output_type": "display_data",
          "data": {
            "image/png": "[encoded data removed]",
            "text/plain": [
              "<Figure size 432x432 with 1 Axes>"
            ]
          },
          "metadata": {
            "tags": [],
            "needs_background": "light"
          }
        }
      ]
    },
    {
      "cell_type": "markdown",
      "metadata": {
        "id": "SKtJY3TL2lRu",
        "colab_type": "text"
      },
      "source": [
        "#### 3.2.5 Área abaixo da curva (*Area under the curve* – AUC)"
      ]
    },
    {
      "cell_type": "code",
      "metadata": {
        "id": "X0UalLtL2pg6",
        "colab_type": "code",
        "colab": {
          "base_uri": "https://localhost:8080/",
          "height": 34
        },
        "outputId": "b143bae5-e6db-4a2d-c6c2-8563f3b909d3"
      },
      "source": [
        "error_fo = roc_auc_score(y_test, prevision)\n",
        "error_fo"
      ],
      "execution_count": 190,
      "outputs": [
        {
          "output_type": "execute_result",
          "data": {
            "text/plain": [
              "0.7525252525252525"
            ]
          },
          "metadata": {
            "tags": []
          },
          "execution_count": 190
        }
      ]
    },
    {
      "cell_type": "markdown",
      "metadata": {
        "id": "CDq_qNyHw8vV",
        "colab_type": "text"
      },
      "source": [
        "## 4. Árvore de decisão 'vs' *Random forest*"
      ]
    },
    {
      "cell_type": "markdown",
      "metadata": {
        "id": "sxTxHUXU3CRN",
        "colab_type": "text"
      },
      "source": [
        "### 4.1 Método holdout"
      ]
    },
    {
      "cell_type": "markdown",
      "metadata": {
        "id": "S9DJ0QRh4xsy",
        "colab_type": "text"
      },
      "source": [
        "#### 4.1.1 Árvore de decisão"
      ]
    },
    {
      "cell_type": "code",
      "metadata": {
        "id": "x3XxbK_jxSNU",
        "colab_type": "code",
        "colab": {
          "base_uri": "https://localhost:8080/",
          "height": 119
        },
        "outputId": "c6d68fea-9c00-4557-af3d-c58292552776"
      },
      "source": [
        "decision_t = DecisionTreeClassifier()\n",
        "decision_t.fit(x_train, y_train)"
      ],
      "execution_count": 191,
      "outputs": [
        {
          "output_type": "execute_result",
          "data": {
            "text/plain": [
              "DecisionTreeClassifier(ccp_alpha=0.0, class_weight=None, criterion='gini',\n",
              "                       max_depth=None, max_features=None, max_leaf_nodes=None,\n",
              "                       min_impurity_decrease=0.0, min_impurity_split=None,\n",
              "                       min_samples_leaf=1, min_samples_split=2,\n",
              "                       min_weight_fraction_leaf=0.0, presort='deprecated',\n",
              "                       random_state=None, splitter='best')"
            ]
          },
          "metadata": {
            "tags": []
          },
          "execution_count": 191
        }
      ]
    },
    {
      "cell_type": "code",
      "metadata": {
        "id": "cpkDeM9U5Jso",
        "colab_type": "code",
        "colab": {
          "base_uri": "https://localhost:8080/",
          "height": 34
        },
        "outputId": "ab86ef56-00d5-446e-a013-638879aa126b"
      },
      "source": [
        "decision_t.score(x_test, y_test)"
      ],
      "execution_count": 192,
      "outputs": [
        {
          "output_type": "execute_result",
          "data": {
            "text/plain": [
              "0.7"
            ]
          },
          "metadata": {
            "tags": []
          },
          "execution_count": 192
        }
      ]
    },
    {
      "cell_type": "markdown",
      "metadata": {
        "id": "hP6YHRwq45wH",
        "colab_type": "text"
      },
      "source": [
        "#### 4.1.2 *Random forest*"
      ]
    },
    {
      "cell_type": "code",
      "metadata": {
        "id": "7Vj6JIw75DNh",
        "colab_type": "code",
        "colab": {
          "base_uri": "https://localhost:8080/",
          "height": 153
        },
        "outputId": "bd00b717-8e22-4b89-9c7c-0cf72b058868"
      },
      "source": [
        "random_f = RandomForestClassifier(n_estimators=100)\n",
        "random_f.fit(x_train, y_train)"
      ],
      "execution_count": 193,
      "outputs": [
        {
          "output_type": "execute_result",
          "data": {
            "text/plain": [
              "RandomForestClassifier(bootstrap=True, ccp_alpha=0.0, class_weight=None,\n",
              "                       criterion='gini', max_depth=None, max_features='auto',\n",
              "                       max_leaf_nodes=None, max_samples=None,\n",
              "                       min_impurity_decrease=0.0, min_impurity_split=None,\n",
              "                       min_samples_leaf=1, min_samples_split=2,\n",
              "                       min_weight_fraction_leaf=0.0, n_estimators=100,\n",
              "                       n_jobs=None, oob_score=False, random_state=None,\n",
              "                       verbose=0, warm_start=False)"
            ]
          },
          "metadata": {
            "tags": []
          },
          "execution_count": 193
        }
      ]
    },
    {
      "cell_type": "code",
      "metadata": {
        "id": "YuecKDuH5Oqq",
        "colab_type": "code",
        "colab": {
          "base_uri": "https://localhost:8080/",
          "height": 34
        },
        "outputId": "05e25d1d-ecee-467a-f526-e0536ab811e9"
      },
      "source": [
        "random_f.score(x_test, y_test)"
      ],
      "execution_count": 194,
      "outputs": [
        {
          "output_type": "execute_result",
          "data": {
            "text/plain": [
              "0.75"
            ]
          },
          "metadata": {
            "tags": []
          },
          "execution_count": 194
        }
      ]
    },
    {
      "cell_type": "markdown",
      "metadata": {
        "id": "wzvWw86I7TAx",
        "colab_type": "text"
      },
      "source": [
        "#### 4.1.3 Curva ROC"
      ]
    },
    {
      "cell_type": "code",
      "metadata": {
        "id": "PF6Vnffr7Y5c",
        "colab_type": "code",
        "colab": {
          "base_uri": "https://localhost:8080/",
          "height": 404
        },
        "outputId": "740011f7-6bff-4c2b-d902-10eedd7d010d"
      },
      "source": [
        "clf_tree = decision_t.predict(x_test)\n",
        "clf_forest = random_f.predict(x_test)\n",
        "\n",
        "fpr_tree, tpr_tree, _ = roc_curve(y_test, clf_tree)\n",
        "fpr_forest, tpr_forest, _ = roc_curve(y_test, clf_forest)\n",
        "\n",
        "plt.figure(figsize = (6, 6))\n",
        "plt.plot(fpr_tree, tpr_tree, linestyle = '--', marker = '.', label = 'Árvore')\n",
        "plt.plot(fpr_forest, tpr_forest, marker = '.', label = 'Floresta')\n",
        "plt.title('Curva ROC')\n",
        "plt.xlabel('Taxa de falsos positivos')\n",
        "plt.ylabel('Taxa de verdadeiros positivos')\n",
        "plt.legend()\n",
        "plt.show()"
      ],
      "execution_count": 195,
      "outputs": [
        {
          "output_type": "display_data",
          "data": {
            "image/png": "[encoded data removed]",
            "text/plain": [
              "<Figure size 432x432 with 1 Axes>"
            ]
          },
          "metadata": {
            "tags": [],
            "needs_background": "light"
          }
        }
      ]
    },
    {
      "cell_type": "markdown",
      "metadata": {
        "colab_type": "text",
        "id": "9stiu82K3UHo"
      },
      "source": [
        "### 4.2 Validação cruzada"
      ]
    },
    {
      "cell_type": "markdown",
      "metadata": {
        "id": "3xWcMnEsC7-F",
        "colab_type": "text"
      },
      "source": [
        "#### 4.2.1 Árvore de decisão"
      ]
    },
    {
      "cell_type": "code",
      "metadata": {
        "id": "KWRYxOUu3aw0",
        "colab_type": "code",
        "colab": {
          "base_uri": "https://localhost:8080/",
          "height": 34
        },
        "outputId": "a1c8258a-2f0e-4851-fc26-e67888751735"
      },
      "source": [
        "score_tree = cross_val_score(decision_t, x, y, cv = 10)\n",
        "round(score_tree.mean(), 3), round(score_tree.std(), 3)"
      ],
      "execution_count": 196,
      "outputs": [
        {
          "output_type": "execute_result",
          "data": {
            "text/plain": [
              "(0.79, 0.17)"
            ]
          },
          "metadata": {
            "tags": []
          },
          "execution_count": 196
        }
      ]
    },
    {
      "cell_type": "markdown",
      "metadata": {
        "id": "g81GBb8YDBJS",
        "colab_type": "text"
      },
      "source": [
        "#### 4.2.2 *Random forest*"
      ]
    },
    {
      "cell_type": "code",
      "metadata": {
        "id": "ubDdi1WGBoos",
        "colab_type": "code",
        "colab": {
          "base_uri": "https://localhost:8080/",
          "height": 34
        },
        "outputId": "da0c279b-6836-4cc7-9e55-31241eda9f23"
      },
      "source": [
        "score_forest = cross_val_score(random_f, x, y, cv = 10)\n",
        "round(score_forest.mean(), 3), round(score_forest.std(), 3)"
      ],
      "execution_count": 197,
      "outputs": [
        {
          "output_type": "execute_result",
          "data": {
            "text/plain": [
              "(0.83, 0.162)"
            ]
          },
          "metadata": {
            "tags": []
          },
          "execution_count": 197
        }
      ]
    },
    {
      "cell_type": "markdown",
      "metadata": {
        "colab_type": "text",
        "id": "zQ9DhmQdsTCy"
      },
      "source": [
        "## 5. Considerações"
      ]
    },
    {
      "cell_type": "markdown",
      "metadata": {
        "id": "DQMNtTFhDTzf",
        "colab_type": "text"
      },
      "source": [
        "Diante dos valores obtidos com a abordagem da Árvore de decisão e da *Random forest*, pôde-se obervar que a *Random Forest* obtive um resultado mais próximo do eixo da 'Taxa de verdadeiros positivos'. Embora todos os treinos obtiveram *score* entre ~70% e ~80%, para acertos na classificação."
      ]
    }
  ]
}